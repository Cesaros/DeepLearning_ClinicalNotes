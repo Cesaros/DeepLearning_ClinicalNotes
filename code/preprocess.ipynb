{
 "cells": [
  {
   "cell_type": "markdown",
   "metadata": {},
   "source": [
    "# MIMIC III Preprocessing"
   ]
  },
  {
   "cell_type": "markdown",
   "metadata": {
    "collapsed": false
   },
   "source": [
    "## Initialization and Data Loading"
   ]
  },
  {
   "cell_type": "code",
   "execution_count": 79,
   "metadata": {
    "collapsed": false
   },
   "outputs": [],
   "source": [
    "from pyspark import SparkContext, SparkConf\n",
    "from pyspark.sql.types import *"
   ]
  },
  {
   "cell_type": "code",
   "execution_count": 100,
   "metadata": {
    "collapsed": false,
    "scrolled": false
   },
   "outputs": [
    {
     "name": "stdout",
     "output_type": "stream",
     "text": [
      "[('row_id', 'int'), ('subject_id', 'int'), ('hadm_id', 'int'), ('chartdate', 'date'), ('category', 'string'), ('description', 'string'), ('cgid', 'int'), ('iserror', 'int'), ('text', 'string')]\n",
      "[('ROW_ID', 'int'), ('SUBJECT_ID', 'int'), ('HADM_ID', 'int'), ('SEQ_NUM', 'int'), ('ICD9_CODE', 'string')]\n",
      "[('ROW_ID', 'int'), ('SUBJECT_ID', 'int'), ('HADM_ID', 'int'), ('SEQ_NUM', 'int'), ('ICD9_CODE', 'string')]\n",
      "[('subject_id', 'int'), ('hadm_id', 'int'), ('category', 'string'), ('description', 'string'), ('iserror', 'int'), ('text', 'string'), ('seq_num', 'int'), ('icd9_code', 'string')]\n",
      "[('subject_id', 'int'), ('hadm_id', 'int'), ('category', 'string'), ('description', 'string'), ('iserror', 'int'), ('text', 'string'), ('seq_num', 'int'), ('icd9_code', 'string')]\n"
     ]
    }
   ],
   "source": [
    "conf = SparkConf().setAppName(\"preprocess\").setMaster(\"local\")\n",
    "sc = SparkContext.getOrCreate(conf)\n",
    "spark = SparkSession.builder.master(\"local\").appName(\"preprocess\").getOrCreate()\n",
    "\n",
    "ne_struct = StructType([StructField(\"row_id\", IntegerType(), True),\n",
    "                      StructField(\"subject_id\", IntegerType(), True),\n",
    "                      StructField(\"hadm_id\", IntegerType(), True),\n",
    "                      StructField(\"chartdate\", DateType(), True),\n",
    "                      StructField(\"category\", StringType(), True),\n",
    "                      StructField(\"description\", StringType(), True),\n",
    "                      StructField(\"cgid\", IntegerType(), True),\n",
    "                      StructField(\"iserror\", IntegerType(), True),\n",
    "                      StructField(\"text\", StringType(), True)])\n",
    "df_ne = spark.read.csv(\"./data/NOTEEVENTS-2.csv\",\n",
    "                       header=True,\n",
    "                       schema=df_ne_struct)\n",
    "df_ne.registerTempTable(\"noteevents\")\n",
    "\n",
    "# many icd to one hadm_id\n",
    "diag_struct = StructType([StructField(\"ROW_ID\", IntegerType(), True),\n",
    "                          StructField(\"SUBJECT_ID\", IntegerType(), True),\n",
    "                          StructField(\"HADM_ID\", IntegerType(), True),\n",
    "                          StructField(\"SEQ_NUM\", IntegerType(), True),\n",
    "                          StructField(\"ICD9_CODE\", StringType(), True)])\n",
    "df_diag_m = spark.read.csv(\"./data/DIAGNOSES_ICD.csv\",\n",
    "                           header=True,\n",
    "                           schema=df_diag_struct)\n",
    "df_diag_m.registerTempTable(\"diagnoses_icd_m\")\n",
    "\n",
    "# one icd to one hadm_id (take the smallest seq number as primary)\n",
    "diag_o_rdd = df_diag_m.rdd.sortBy(lambda x: (x.HADM_ID, x.SUBJECT_ID, x.SEQ_NUM)) \\\n",
    "    .groupBy(lambda x: x.HADM_ID) \\\n",
    "    .mapValues(list) \\\n",
    "    .reduceByKey(lambda x, y: x if x.SEQ_NUM < y.SEQ_NUM else y) \\\n",
    "    .map(lambda (hid, d): d[0])\n",
    "df_diag_o = spark.createDataFrame(diag_o_rdd,\n",
    "                                 schema=diag_struct)\n",
    "df_diag_o.registerTempTable(\"diagnoses_icd_o\")\n",
    "\n",
    "# noteevents + many2one diagnoses_icd\n",
    "df_ne_m = spark.sql(\"\"\"\n",
    "SELECT noteevents.subject_id AS subject_id, noteevents.hadm_id AS hadm_id,\n",
    "noteevents.category AS category, noteevents.description AS description,\n",
    "noteevents.iserror AS iserror, noteevents.text AS text,\n",
    "diagnoses_icd_m.SEQ_NUM AS seq_num, diagnoses_icd_m.ICD9_CODE AS icd9_code\n",
    "FROM noteevents\n",
    "JOIN diagnoses_icd_m\n",
    "ON noteevents.hadm_id = diagnoses_icd_m.hadm_id\n",
    "AND noteevents.subject_id = diagnoses_icd_m.subject_id\n",
    "\"\"\")\n",
    "df_ne_m.registerTempTable(\"noteevents_m\")\n",
    "\n",
    "# noteevents + one2one diagnoses_icd\n",
    "df_ne_o = spark.sql(\"\"\"\n",
    "SELECT noteevents.subject_id AS subject_id, noteevents.hadm_id AS hadm_id,\n",
    "noteevents.category AS category, noteevents.description AS description,\n",
    "noteevents.iserror AS iserror, noteevents.text AS text,\n",
    "diagnoses_icd_o.SEQ_NUM AS seq_num, diagnoses_icd_o.ICD9_CODE AS icd9_code\n",
    "FROM noteevents\n",
    "JOIN diagnoses_icd_o\n",
    "ON noteevents.hadm_id = diagnoses_icd_o.hadm_id\n",
    "AND noteevents.subject_id = diagnoses_icd_o.subject_id\n",
    "\"\"\")\n",
    "df_ne_o.registerTempTable(\"noteevents_o\")\n",
    "\n",
    "print df_ne.dtypes\n",
    "print df_diag_m.dtypes\n",
    "print df_diag_o.dtypes\n",
    "print df_ne_m.dtypes\n",
    "print df_ne_o.dtypes"
   ]
  },
  {
   "cell_type": "markdown",
   "metadata": {
    "slideshow": {
     "slide_type": "-"
    }
   },
   "source": [
    "## Descriptive Statistics"
   ]
  },
  {
   "cell_type": "markdown",
   "metadata": {},
   "source": [
    "### noteevents\n",
    "Basic Counts:"
   ]
  },
  {
   "cell_type": "code",
   "execution_count": 84,
   "metadata": {
    "collapsed": false
   },
   "outputs": [
    {
     "name": "stdout",
     "output_type": "stream",
     "text": [
      "+--------+--------------------------+-----------------------+\n",
      "|count(1)|count(DISTINCT subject_id)|count(DISTINCT hadm_id)|\n",
      "+--------+--------------------------+-----------------------+\n",
      "| 2083180|                     46146|                  58361|\n",
      "+--------+--------------------------+-----------------------+\n",
      "\n"
     ]
    }
   ],
   "source": [
    "spark.sql(\"\"\"\n",
    "SELECT COUNT(*), COUNT(DISTINCT subject_id), COUNT(DISTINCT hadm_id)\n",
    "FROM noteevents\n",
    "\"\"\").show()"
   ]
  },
  {
   "cell_type": "markdown",
   "metadata": {},
   "source": [
    "Categories:"
   ]
  },
  {
   "cell_type": "code",
   "execution_count": 85,
   "metadata": {
    "collapsed": false
   },
   "outputs": [
    {
     "name": "stdout",
     "output_type": "stream",
     "text": [
      "+-----------------+\n",
      "|         category|\n",
      "+-----------------+\n",
      "|              ECG|\n",
      "|     Respiratory |\n",
      "|          Nursing|\n",
      "|          General|\n",
      "|          Consult|\n",
      "|             Echo|\n",
      "|        Nutrition|\n",
      "|       Physician |\n",
      "|         Pharmacy|\n",
      "|   Rehab Services|\n",
      "| Case Management |\n",
      "|        Radiology|\n",
      "|    Nursing/other|\n",
      "|Discharge summary|\n",
      "|      Social Work|\n",
      "+-----------------+\n",
      "\n"
     ]
    }
   ],
   "source": [
    "spark.sql(\"\"\"\n",
    "SELECT DISTINCT(category)\n",
    "FROM noteevents\n",
    "\"\"\").show()"
   ]
  },
  {
   "cell_type": "markdown",
   "metadata": {},
   "source": [
    "### diagnoses_icd: many (icd_code) to one (hadm_id)\n",
    "Basic Counts:"
   ]
  },
  {
   "cell_type": "code",
   "execution_count": 86,
   "metadata": {
    "collapsed": false
   },
   "outputs": [
    {
     "name": "stdout",
     "output_type": "stream",
     "text": [
      "+--------+--------------------------+-----------------------+-------------------------+\n",
      "|count(1)|count(DISTINCT subject_id)|count(DISTINCT hadm_id)|count(DISTINCT ICD9_CODE)|\n",
      "+--------+--------------------------+-----------------------+-------------------------+\n",
      "|  651047|                     46520|                  58976|                     6984|\n",
      "+--------+--------------------------+-----------------------+-------------------------+\n",
      "\n"
     ]
    }
   ],
   "source": [
    "spark.sql(\"\"\"\n",
    "SELECT COUNT(*), COUNT(DISTINCT subject_id), \n",
    "COUNT(DISTINCT hadm_id), COUNT(DISTINCT ICD9_CODE)\n",
    "FROM diagnoses_icd_m\n",
    "\"\"\").show()"
   ]
  },
  {
   "cell_type": "markdown",
   "metadata": {},
   "source": [
    "### diagnoses_icd: one (icd_code) to one (hadm_id)\n",
    "Basic Counts:"
   ]
  },
  {
   "cell_type": "code",
   "execution_count": 101,
   "metadata": {
    "collapsed": false
   },
   "outputs": [
    {
     "name": "stdout",
     "output_type": "stream",
     "text": [
      "+--------+--------------------------+-----------------------+-------------------------+\n",
      "|count(1)|count(DISTINCT subject_id)|count(DISTINCT hadm_id)|count(DISTINCT ICD9_CODE)|\n",
      "+--------+--------------------------+-----------------------+-------------------------+\n",
      "|   58976|                     46520|                  58976|                     2789|\n",
      "+--------+--------------------------+-----------------------+-------------------------+\n",
      "\n"
     ]
    }
   ],
   "source": [
    "spark.sql(\"\"\"\n",
    "SELECT COUNT(*), COUNT(DISTINCT subject_id), \n",
    "COUNT(DISTINCT hadm_id), COUNT(DISTINCT ICD9_CODE)\n",
    "FROM diagnoses_icd_o\n",
    "\"\"\").show()"
   ]
  },
  {
   "cell_type": "markdown",
   "metadata": {},
   "source": [
    "Just to check if I really did get \"seq_num = 1\" for all diagnosis, the code below should return empty. "
   ]
  },
  {
   "cell_type": "code",
   "execution_count": 103,
   "metadata": {
    "collapsed": false
   },
   "outputs": [
    {
     "name": "stdout",
     "output_type": "stream",
     "text": [
      "+------+----------+-------+-------+---------+\n",
      "|ROW_ID|SUBJECT_ID|HADM_ID|SEQ_NUM|ICD9_CODE|\n",
      "+------+----------+-------+-------+---------+\n",
      "+------+----------+-------+-------+---------+\n",
      "\n"
     ]
    }
   ],
   "source": [
    "# check code\n",
    "spark.sql(\"\"\"\n",
    "SELECT *\n",
    "FROM diagnoses_icd_o\n",
    "WHERE seq_num <> 1\n",
    "\"\"\").show()"
   ]
  },
  {
   "cell_type": "markdown",
   "metadata": {},
   "source": [
    "### noteevents and diagnoses_icd (one to one)\n",
    "Basic Counts:"
   ]
  },
  {
   "cell_type": "code",
   "execution_count": 105,
   "metadata": {
    "collapsed": false
   },
   "outputs": [
    {
     "name": "stdout",
     "output_type": "stream",
     "text": [
      "+--------+--------------------------+-----------------------+-------------------------+\n",
      "|count(1)|count(DISTINCT subject_id)|count(DISTINCT hadm_id)|count(DISTINCT icd9_code)|\n",
      "+--------+--------------------------+-----------------------+-------------------------+\n",
      "| 1851344|                     46139|                  58361|                     2769|\n",
      "+--------+--------------------------+-----------------------+-------------------------+\n",
      "\n"
     ]
    }
   ],
   "source": [
    "spark.sql(\"\"\"\n",
    "SELECT COUNT(*), COUNT(DISTINCT subject_id), \n",
    "COUNT(DISTINCT hadm_id), COUNT(DISTINCT icd9_code)\n",
    "FROM noteevents_o\n",
    "\"\"\").show()"
   ]
  },
  {
   "cell_type": "markdown",
   "metadata": {},
   "source": [
    "Top 50 ICD 9 codes based on \"subject_id\" count"
   ]
  },
  {
   "cell_type": "code",
   "execution_count": 115,
   "metadata": {
    "collapsed": false
   },
   "outputs": [
    {
     "name": "stdout",
     "output_type": "stream",
     "text": [
      "+---------+---------+\n",
      "|icd9_code|sid_count|\n",
      "+---------+---------+\n",
      "|    41401|     3463|\n",
      "|    V3000|     3427|\n",
      "|    V3001|     2695|\n",
      "|     0389|     1898|\n",
      "|    41071|     1698|\n",
      "|     4241|     1130|\n",
      "|    51881|     1012|\n",
      "|    V3101|      993|\n",
      "|      431|      988|\n",
      "|      486|      672|\n",
      "|     5070|      593|\n",
      "|     4240|      557|\n",
      "|     4280|      523|\n",
      "|      430|      510|\n",
      "|     5849|      506|\n",
      "|    41041|      478|\n",
      "|    41011|      476|\n",
      "|     5789|      420|\n",
      "|     5770|      347|\n",
      "|    41519|      340|\n",
      "|     1983|      339|\n",
      "|    43411|      336|\n",
      "|    43491|      331|\n",
      "|    42731|      321|\n",
      "|    99859|      302|\n",
      "|    85221|      291|\n",
      "|    03842|      291|\n",
      "|    56212|      257|\n",
      "|    42823|      248|\n",
      "|    V3401|      239|\n",
      "|     4373|      235|\n",
      "|    42833|      232|\n",
      "|    99662|      229|\n",
      "|     4271|      228|\n",
      "|    51884|      225|\n",
      "|    43310|      222|\n",
      "|     4321|      220|\n",
      "|     5712|      217|\n",
      "|    99811|      216|\n",
      "|    49121|      212|\n",
      "|    03849|      203|\n",
      "|    85220|      200|\n",
      "|    03811|      193|\n",
      "|    25013|      192|\n",
      "|     4414|      184|\n",
      "|     1623|      178|\n",
      "|     0380|      176|\n",
      "|    29181|      172|\n",
      "|    44101|      168|\n",
      "|    53240|      167|\n",
      "+---------+---------+\n",
      "\n"
     ]
    }
   ],
   "source": [
    "spark.sql(\"\"\"\n",
    "SELECT icd9_code, COUNT(DISTINCT subject_id) AS sid_count\n",
    "FROM noteevents_o\n",
    "GROUP BY icd9_code\n",
    "ORDER BY sid_count DESC\n",
    "LIMIT 50\n",
    "\"\"\").show(n=50)"
   ]
  },
  {
   "cell_type": "markdown",
   "metadata": {},
   "source": [
    "Top 50 ICD 9 codes based on \"hadm_id\" count"
   ]
  },
  {
   "cell_type": "code",
   "execution_count": 114,
   "metadata": {
    "collapsed": false
   },
   "outputs": [
    {
     "name": "stdout",
     "output_type": "stream",
     "text": [
      "+---------+----------+\n",
      "|icd9_code|hadm_count|\n",
      "+---------+----------+\n",
      "|    41401|      3497|\n",
      "|    V3000|      3427|\n",
      "|    V3001|      2695|\n",
      "|     0389|      2043|\n",
      "|    41071|      1747|\n",
      "|     4241|      1139|\n",
      "|    51881|      1120|\n",
      "|      431|      1007|\n",
      "|    V3101|       993|\n",
      "|      486|       721|\n",
      "|     5070|       655|\n",
      "|     4280|       568|\n",
      "|     4240|       567|\n",
      "|     5849|       524|\n",
      "|      430|       516|\n",
      "|    41041|       480|\n",
      "|    41011|       479|\n",
      "|     5789|       444|\n",
      "|     1983|       369|\n",
      "|     5770|       369|\n",
      "|    41519|       343|\n",
      "|    43411|       337|\n",
      "|    42731|       332|\n",
      "|    43491|       331|\n",
      "|    99859|       312|\n",
      "|    03842|       304|\n",
      "|    85221|       302|\n",
      "|    25013|       300|\n",
      "|     4373|       296|\n",
      "|    42823|       286|\n",
      "|    99662|       285|\n",
      "|    56212|       273|\n",
      "|    42833|       271|\n",
      "|    49121|       268|\n",
      "|     4271|       264|\n",
      "|     5712|       256|\n",
      "|    51884|       250|\n",
      "|    29181|       243|\n",
      "|    V3401|       239|\n",
      "|     4321|       237|\n",
      "|    43310|       226|\n",
      "|    99811|       217|\n",
      "|    03849|       209|\n",
      "|    85220|       205|\n",
      "|    03811|       199|\n",
      "|      042|       190|\n",
      "|     4414|       184|\n",
      "|     1623|       181|\n",
      "|     5715|       178|\n",
      "|     0380|       178|\n",
      "+---------+----------+\n",
      "\n"
     ]
    }
   ],
   "source": [
    "spark.sql(\"\"\"\n",
    "SELECT icd9_code, COUNT(DISTINCT hadm_id) AS hadm_count\n",
    "FROM noteevents_o\n",
    "GROUP BY icd9_code\n",
    "ORDER BY hadm_count DESC\n",
    "LIMIT 50\n",
    "\"\"\").show(n=50)"
   ]
  },
  {
   "cell_type": "markdown",
   "metadata": {},
   "source": [
    "### noteevents and diagnoses_icd (many to one)\n",
    "Basic Counts:"
   ]
  },
  {
   "cell_type": "code",
   "execution_count": 116,
   "metadata": {
    "collapsed": false
   },
   "outputs": [
    {
     "name": "stdout",
     "output_type": "stream",
     "text": [
      "+--------+--------------------------+-----------------------+-------------------------+\n",
      "|count(1)|count(DISTINCT subject_id)|count(DISTINCT hadm_id)|count(DISTINCT icd9_code)|\n",
      "+--------+--------------------------+-----------------------+-------------------------+\n",
      "|25736048|                     46139|                  58361|                     6967|\n",
      "+--------+--------------------------+-----------------------+-------------------------+\n",
      "\n"
     ]
    }
   ],
   "source": [
    "spark.sql(\"\"\"\n",
    "SELECT COUNT(*), COUNT(DISTINCT subject_id), \n",
    "COUNT(DISTINCT hadm_id), COUNT(DISTINCT icd9_code)\n",
    "FROM noteevents_m\n",
    "\"\"\").show()"
   ]
  },
  {
   "cell_type": "markdown",
   "metadata": {},
   "source": [
    "Top ICD 9 codes based on \"subject_id\" count"
   ]
  },
  {
   "cell_type": "code",
   "execution_count": 117,
   "metadata": {
    "collapsed": false
   },
   "outputs": [
    {
     "name": "stdout",
     "output_type": "stream",
     "text": [
      "+---------+---------+\n",
      "|icd9_code|sid_count|\n",
      "+---------+---------+\n",
      "|     4019|    17500|\n",
      "|    41401|    10733|\n",
      "|    42731|    10193|\n",
      "|     4280|     9802|\n",
      "|     5849|     7634|\n",
      "|     2724|     7414|\n",
      "|    25000|     7327|\n",
      "|    51881|     6632|\n",
      "|     5990|     5746|\n",
      "|     V053|     5597|\n",
      "|     V290|     5436|\n",
      "|     2720|     5319|\n",
      "|    53081|     5242|\n",
      "|     2859|     4965|\n",
      "|      486|     4391|\n",
      "|     2851|     4231|\n",
      "|     2762|     4120|\n",
      "|     2449|     3788|\n",
      "|      496|     3568|\n",
      "|    99592|     3504|\n",
      "|    V3000|     3427|\n",
      "|     0389|     3387|\n",
      "|     5070|     3362|\n",
      "|    V5861|     3183|\n",
      "|     3051|     2978|\n",
      "|      311|     2902|\n",
      "|    41071|     2902|\n",
      "|     5859|     2886|\n",
      "|    40390|     2811|\n",
      "|     2761|     2789|\n",
      "|     2875|     2783|\n",
      "|      412|     2771|\n",
      "|    V3001|     2696|\n",
      "|     4240|     2642|\n",
      "|     5119|     2554|\n",
      "|    V1582|     2531|\n",
      "|    78552|     2376|\n",
      "|    V4581|     2316|\n",
      "|     4241|     2302|\n",
      "|     9971|     2299|\n",
      "|    42789|     2297|\n",
      "|    V4582|     2243|\n",
      "|     7742|     2237|\n",
      "|     5845|     2154|\n",
      "|     2760|     2077|\n",
      "|     5180|     2071|\n",
      "|    45829|     2054|\n",
      "|    V5867|     2005|\n",
      "|     V502|     1955|\n",
      "|     2767|     1905|\n",
      "+---------+---------+\n",
      "\n"
     ]
    }
   ],
   "source": [
    "spark.sql(\"\"\"\n",
    "SELECT icd9_code, COUNT(DISTINCT subject_id) AS sid_count\n",
    "FROM noteevents_m\n",
    "GROUP BY icd9_code\n",
    "ORDER BY sid_count DESC\n",
    "LIMIT 50\n",
    "\"\"\").show(n=50)"
   ]
  },
  {
   "cell_type": "markdown",
   "metadata": {},
   "source": [
    "Top ICD 9 codes based on \"hadm_id\" count"
   ]
  },
  {
   "cell_type": "code",
   "execution_count": 118,
   "metadata": {
    "collapsed": false
   },
   "outputs": [
    {
     "name": "stdout",
     "output_type": "stream",
     "text": [
      "+---------+----------+\n",
      "|icd9_code|hadm_count|\n",
      "+---------+----------+\n",
      "|     4019|     20555|\n",
      "|     4280|     13062|\n",
      "|    42731|     12800|\n",
      "|    41401|     12382|\n",
      "|     5849|      9065|\n",
      "|    25000|      9002|\n",
      "|     2724|      8629|\n",
      "|    51881|      7410|\n",
      "|     5990|      6522|\n",
      "|    53081|      6290|\n",
      "|     2720|      5910|\n",
      "|     V053|      5600|\n",
      "|     V290|      5448|\n",
      "|     2859|      5377|\n",
      "|     2449|      4877|\n",
      "|      486|      4806|\n",
      "|     2851|      4542|\n",
      "|     2762|      4471|\n",
      "|      496|      4405|\n",
      "|    99592|      3856|\n",
      "|    V5861|      3774|\n",
      "|     0389|      3679|\n",
      "|     5070|      3646|\n",
      "|    V3000|      3427|\n",
      "|     5859|      3412|\n",
      "|      311|      3405|\n",
      "|    40390|      3394|\n",
      "|     3051|      3333|\n",
      "|      412|      3262|\n",
      "|    41071|      3046|\n",
      "|     2875|      3041|\n",
      "|    V4581|      3031|\n",
      "|     2761|      3023|\n",
      "|     4240|      2912|\n",
      "|    V1582|      2791|\n",
      "|     5119|      2723|\n",
      "|    V4582|      2705|\n",
      "|    V3001|      2696|\n",
      "|    40391|      2615|\n",
      "|    78552|      2546|\n",
      "|     4241|      2541|\n",
      "|    V5867|      2525|\n",
      "|    42789|      2435|\n",
      "|    32723|      2365|\n",
      "|     9971|      2334|\n",
      "|     5845|      2257|\n",
      "|     2760|      2250|\n",
      "|     7742|      2249|\n",
      "|    49390|      2184|\n",
      "|     5180|      2155|\n",
      "+---------+----------+\n",
      "\n"
     ]
    }
   ],
   "source": [
    "spark.sql(\"\"\"\n",
    "SELECT icd9_code, COUNT(DISTINCT hadm_id) AS hadm_count\n",
    "FROM noteevents_m\n",
    "GROUP BY icd9_code\n",
    "ORDER BY hadm_count DESC\n",
    "LIMIT 50\n",
    "\"\"\").show(n=50)"
   ]
  },
  {
   "cell_type": "markdown",
   "metadata": {},
   "source": [
    "## Data Preprocessing\n",
    "Obtain a set of the top 10 and top 50 icd9 codes"
   ]
  },
  {
   "cell_type": "code",
   "execution_count": 122,
   "metadata": {
    "collapsed": false
   },
   "outputs": [
    {
     "name": "stdout",
     "output_type": "stream",
     "text": [
      "+---------+-----+\n",
      "|icd9_code|score|\n",
      "+---------+-----+\n",
      "|     4019|20555|\n",
      "|     4280|13062|\n",
      "|    42731|12800|\n",
      "|    41401|12382|\n",
      "|     5849| 9065|\n",
      "|    25000| 9002|\n",
      "|     2724| 8629|\n",
      "|    51881| 7410|\n",
      "|     5990| 6522|\n",
      "|    53081| 6290|\n",
      "|     2720| 5910|\n",
      "|     V053| 5600|\n",
      "|     V290| 5448|\n",
      "|     2859| 5377|\n",
      "|     2449| 4877|\n",
      "|      486| 4806|\n",
      "|     2851| 4542|\n",
      "|     2762| 4471|\n",
      "|      496| 4405|\n",
      "|    99592| 3856|\n",
      "|    V5861| 3774|\n",
      "|     0389| 3679|\n",
      "|     5070| 3646|\n",
      "|    V3000| 3427|\n",
      "|     5859| 3412|\n",
      "|      311| 3405|\n",
      "|    40390| 3394|\n",
      "|     3051| 3333|\n",
      "|      412| 3262|\n",
      "|    41071| 3046|\n",
      "|     2875| 3041|\n",
      "|    V4581| 3031|\n",
      "|     2761| 3023|\n",
      "|     4240| 2912|\n",
      "|    V1582| 2791|\n",
      "|     5119| 2723|\n",
      "|    V4582| 2705|\n",
      "|    V3001| 2696|\n",
      "|    40391| 2615|\n",
      "|    78552| 2546|\n",
      "|     4241| 2541|\n",
      "|    V5867| 2525|\n",
      "|    42789| 2435|\n",
      "|    32723| 2365|\n",
      "|     9971| 2334|\n",
      "|     5845| 2257|\n",
      "|     2760| 2250|\n",
      "|     7742| 2249|\n",
      "|    49390| 2184|\n",
      "|     5180| 2155|\n",
      "+---------+-----+\n",
      "\n"
     ]
    }
   ],
   "source": [
    "df_icd9score = spark.sql(\"\"\"\n",
    "SELECT icd9_code, COUNT(DISTINCT hadm_id) AS score\n",
    "FROM noteevents_m\n",
    "GROUP BY icd9_code\n",
    "ORDER BY score DESC\n",
    "\"\"\")\n",
    "df_icd9score.registerTempTable(\"icd9_score\")\n",
    "\n",
    "spark.sql(\"\"\"\n",
    "SELECT * FROM icd9_score\n",
    "LIMIT 50\n",
    "\"\"\").show(n=50)"
   ]
  },
  {
   "cell_type": "markdown",
   "metadata": {},
   "source": [
    "Obtain the RDD for the merged noteevents and diagnoses_icd, and then filter out the RDD such that only the relevant icd9 codes remain."
   ]
  },
  {
   "cell_type": "code",
   "execution_count": 123,
   "metadata": {
    "collapsed": false
   },
   "outputs": [
    {
     "data": {
      "text/plain": [
       "Name: org.apache.toree.interpreter.broker.BrokerException\n",
       "Message: Traceback (most recent call last):\n",
       "  File \"/tmp/kernel-PySpark-4dc38fcb-a1e9-4f31-841d-40a773eb07ab/pyspark_runner.py\", line 189, in <module>\n",
       "    eval(compiled_code)\n",
       "  File \"<string>\", line 14, in <module>\n",
       "  File \"/home/luke/Documents/cse6250-final-project/spark-2.1.0-bin-hadoop2.7/python/pyspark/sql/readwriter.py\", line 711, in csv\n",
       "    self._jwrite.csv(path)\n",
       "  File \"/home/luke/Documents/cse6250-final-project/spark-2.1.0-bin-hadoop2.7/python/lib/py4j-0.10.4-src.zip/py4j/java_gateway.py\", line 1131, in __call__\n",
       "    answer = self.gateway_client.send_command(command)\n",
       "  File \"/home/luke/Documents/cse6250-final-project/spark-2.1.0-bin-hadoop2.7/python/lib/py4j-0.10.4-src.zip/py4j/java_gateway.py\", line 883, in send_command\n",
       "    response = connection.send_command(command)\n",
       "  File \"/home/luke/Documents/cse6250-final-project/spark-2.1.0-bin-hadoop2.7/python/lib/py4j-0.10.4-src.zip/py4j/java_gateway.py\", line 1028, in send_command\n",
       "    answer = smart_decode(self.stream.readline()[:-1])\n",
       "  File \"/home/luke/.conda/envs/cse6250/lib/python2.7/socket.py\", line 451, in readline\n",
       "    data = self._sock.recv(self._rbufsize)\n",
       "  File \"/home/luke/Documents/cse6250-final-project/spark-2.1.0-bin-hadoop2.7/python/pyspark/context.py\", line 236, in signal_handler\n",
       "    raise KeyboardInterrupt()\n",
       "KeyboardInterrupt\n",
       "\n",
       "StackTrace: org.apache.toree.interpreter.broker.BrokerState$$anonfun$markFailure$1.apply(BrokerState.scala:163)\n",
       "org.apache.toree.interpreter.broker.BrokerState$$anonfun$markFailure$1.apply(BrokerState.scala:163)\n",
       "scala.Option.foreach(Option.scala:257)\n",
       "org.apache.toree.interpreter.broker.BrokerState.markFailure(BrokerState.scala:162)\n",
       "sun.reflect.NativeMethodAccessorImpl.invoke0(Native Method)\n",
       "sun.reflect.NativeMethodAccessorImpl.invoke(NativeMethodAccessorImpl.java:62)\n",
       "sun.reflect.DelegatingMethodAccessorImpl.invoke(DelegatingMethodAccessorImpl.java:43)\n",
       "java.lang.reflect.Method.invoke(Method.java:498)\n",
       "py4j.reflection.MethodInvoker.invoke(MethodInvoker.java:244)\n",
       "py4j.reflection.ReflectionEngine.invoke(ReflectionEngine.java:357)\n",
       "py4j.Gateway.invoke(Gateway.java:280)\n",
       "py4j.commands.AbstractCommand.invokeMethod(AbstractCommand.java:132)\n",
       "py4j.commands.CallCommand.execute(CallCommand.java:79)\n",
       "py4j.GatewayConnection.run(GatewayConnection.java:214)\n",
       "java.lang.Thread.run(Thread.java:745)"
      ]
     },
     "execution_count": 123,
     "metadata": {},
     "output_type": "execute_result"
    }
   ],
   "source": [
    "df_nedi_top10 = spark.sql(\"\"\"\n",
    "SELECT * FROM noteevents_m\n",
    "WHERE icd9_code IN \n",
    "    (SELECT icd9_code FROM icd9_score LIMIT 10)\n",
    "\"\"\")\n",
    "df_nedi_top10.write.csv(\"./data/NOTEEVENTS-TOP10.csv\",\n",
    "                       header=True)\n",
    "df_nedi_top50 = spark.sql(\"\"\"\n",
    "SELECT * FROM noteevents_m\n",
    "WHERE icd9_code IN \n",
    "    (SELECT icd9_code FROM icd9_score LIMIT 50)\n",
    "\"\"\")\n",
    "df_nedi_top50.write.csv(\"./data/NOTEEVENTS-TOP50.csv\",\n",
    "                       header=True)"
   ]
  },
  {
   "cell_type": "markdown",
   "metadata": {},
   "source": [
    "### Top 10 ICD 9 codes category (cleaned)\n",
    "### Top 50 ICD 9 codes category (cleaned)"
   ]
  },
  {
   "cell_type": "code",
   "execution_count": null,
   "metadata": {
    "collapsed": true
   },
   "outputs": [],
   "source": [
    "sc.stop()"
   ]
  }
 ],
 "metadata": {
  "kernelspec": {
   "display_name": "Apache Toree - PySpark",
   "language": "python",
   "name": "apache_toree_pyspark"
  },
  "language_info": {
   "file_extension": ".py",
   "name": "python",
   "pygments_lexer": "python",
   "version": "2.7.13\n"
  }
 },
 "nbformat": 4,
 "nbformat_minor": 2
}
