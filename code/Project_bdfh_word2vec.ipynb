{
 "cells": [
  {
   "cell_type": "markdown",
   "metadata": {
    "deletable": true,
    "editable": true
   },
   "source": [
    "#### Dependecies\n",
    "\n",
    "scipy = 0.17.0\n",
    "gensim = 1.0.1\n",
    "pandas = 0.19.2\n",
    "numpy = 1.11.2\n",
    "\n",
    "#### I used the following code in Pyspark to generate and save on disk the csv file below\n",
    "\n",
    "select_noteevents2 = spark.sql(\"\"\"\n",
    "SELECT text\n",
    "FROM noteevents2\n",
    "\"\"\")\n",
    "\n",
    "select_noteevents2.coalesce(1).write.csv(\"/Volumes/EXTERNAL1/MIMICIII/select_noteevents2-v3\", header=True)\n",
    "\n",
    "select_noteevents3 = spark.sql(\"\"\"\n",
    "SELECT subject_id, hadm_id\n",
    "FROM noteevents2\n",
    "\"\"\")\n",
    "\n",
    "select_noteevents3.coalesce(1).write.csv(\"/Volumes/EXTERNAL1/MIMICIII/select_noteevents2-v4\", header=True)\n",
    "\n",
    "#### then I proceed to open a new notebook to run pandas and gensim "
   ]
  },
  {
   "cell_type": "code",
   "execution_count": 2,
   "metadata": {
    "collapsed": false,
    "deletable": true,
    "editable": true
   },
   "outputs": [
    {
     "name": "stderr",
     "output_type": "stream",
     "text": [
      "/Users/cesarosorio/anaconda/envs/BDFH_project/lib/python2.7/site-packages/ipykernel/__main__.py:2: ParserWarning: Falling back to the 'python' engine because the 'c' engine does not support regex separators (separators > 1 char and different from '\\s+' are interpreted as regex); you can avoid this warning by specifying engine='python'.\n",
      "  from ipykernel import kernelapp as app\n"
     ]
    },
    {
     "data": {
      "text/html": [
       "<div>\n",
       "<table border=\"1\" class=\"dataframe\">\n",
       "  <thead>\n",
       "    <tr style=\"text-align: right;\">\n",
       "      <th></th>\n",
       "      <th>text</th>\n",
       "    </tr>\n",
       "  </thead>\n",
       "  <tbody>\n",
       "    <tr>\n",
       "      <th>0</th>\n",
       "      <td>\"Admission Date:  [**2183-9-25**]       Discha...</td>\n",
       "    </tr>\n",
       "    <tr>\n",
       "      <th>1</th>\n",
       "      <td>\"Admission Date:  [**2184-1-16**]       Discha...</td>\n",
       "    </tr>\n",
       "    <tr>\n",
       "      <th>2</th>\n",
       "      <td>\"Admission Date:  [**2103-4-11**]             ...</td>\n",
       "    </tr>\n",
       "    <tr>\n",
       "      <th>3</th>\n",
       "      <td>\"Admission Date:  [**2103-10-7**]       Discha...</td>\n",
       "    </tr>\n",
       "    <tr>\n",
       "      <th>4</th>\n",
       "      <td>\"\\\"Admission Date:  [**2131-4-2**]            ...</td>\n",
       "    </tr>\n",
       "  </tbody>\n",
       "</table>\n",
       "</div>"
      ],
      "text/plain": [
       "                                                text\n",
       "0  \"Admission Date:  [**2183-9-25**]       Discha...\n",
       "1  \"Admission Date:  [**2184-1-16**]       Discha...\n",
       "2  \"Admission Date:  [**2103-4-11**]             ...\n",
       "3  \"Admission Date:  [**2103-10-7**]       Discha...\n",
       "4  \"\\\"Admission Date:  [**2131-4-2**]            ..."
      ]
     },
     "execution_count": 2,
     "metadata": {},
     "output_type": "execute_result"
    }
   ],
   "source": [
    "import pandas as pd\n",
    "df = pd.read_csv('/Volumes/EXTERNAL1/MIMICIII/select_noteevents2-v3/part-00000-ac3edd68-1571-4e16-a2c6-ada909da0eea.csv',sep='delimiter')\n",
    "df.head(5)"
   ]
  },
  {
   "cell_type": "code",
   "execution_count": 2,
   "metadata": {
    "collapsed": false,
    "deletable": true,
    "editable": true
   },
   "outputs": [
    {
     "data": {
      "text/html": [
       "<div>\n",
       "<table border=\"1\" class=\"dataframe\">\n",
       "  <thead>\n",
       "    <tr style=\"text-align: right;\">\n",
       "      <th></th>\n",
       "      <th>subject_id</th>\n",
       "      <th>hadm_id</th>\n",
       "    </tr>\n",
       "  </thead>\n",
       "  <tbody>\n",
       "    <tr>\n",
       "      <th>0</th>\n",
       "      <td>20007</td>\n",
       "      <td>188442</td>\n",
       "    </tr>\n",
       "    <tr>\n",
       "      <th>1</th>\n",
       "      <td>20007</td>\n",
       "      <td>193793</td>\n",
       "    </tr>\n",
       "    <tr>\n",
       "      <th>2</th>\n",
       "      <td>59883</td>\n",
       "      <td>118446</td>\n",
       "    </tr>\n",
       "    <tr>\n",
       "      <th>3</th>\n",
       "      <td>17043</td>\n",
       "      <td>157985</td>\n",
       "    </tr>\n",
       "    <tr>\n",
       "      <th>4</th>\n",
       "      <td>7019</td>\n",
       "      <td>189488</td>\n",
       "    </tr>\n",
       "  </tbody>\n",
       "</table>\n",
       "</div>"
      ],
      "text/plain": [
       "   subject_id  hadm_id\n",
       "0       20007   188442\n",
       "1       20007   193793\n",
       "2       59883   118446\n",
       "3       17043   157985\n",
       "4        7019   189488"
      ]
     },
     "execution_count": 2,
     "metadata": {},
     "output_type": "execute_result"
    }
   ],
   "source": [
    "df_ids = pd.read_csv('/Volumes/EXTERNAL1/MIMICIII/select_noteevents2-v4/part-00000-9b6dc461-8bf9-4ae4-b626-2156a12031ab.csv')\n",
    "df_ids.head(5)"
   ]
  },
  {
   "cell_type": "markdown",
   "metadata": {
    "deletable": true,
    "editable": true
   },
   "source": [
    "### Apply Word2Vec"
   ]
  },
  {
   "cell_type": "code",
   "execution_count": 26,
   "metadata": {
    "collapsed": false,
    "deletable": true,
    "editable": true
   },
   "outputs": [
    {
     "name": "stdout",
     "output_type": "stream",
     "text": [
      "0\n",
      "1\n",
      "2\n",
      "3\n",
      "4\n",
      "('Time taken for Word2vec training: ', 766.5733489990234, 'seconds.')\n"
     ]
    }
   ],
   "source": [
    "from gensim.models import Word2Vec\n",
    "#import gensim.models.Word2Vec\n",
    "from gensim import utils\n",
    "from time import time\n",
    "\n",
    "# assumptions: window is 5 words left and right, eliminate words than dont occur in\n",
    "# more than 10 docs, use 4 workers for a quadcore machine. Size is the size of vector\n",
    "# negative=5 implies negative sampling and makes doc2vec faster to train\n",
    "#model = Doc2Vec(sentence, size=100, window=5, workers=4, min_count=5)\n",
    "\n",
    "\n",
    "import random\n",
    "\n",
    "size = 100\n",
    "\n",
    "#instantiate our  model\n",
    "model_w2v = Word2Vec(min_count=10, window=5, size=size, sample=1e-3, negative=5, workers=4)\n",
    "\n",
    "#build vocab over all reviews\n",
    "model_w2v.build_vocab(token_review)\n",
    "\n",
    "#We pass through the data set multiple times, shuffling the training reviews each time to improve accuracy.\n",
    "Idx=list(range(len(token_review)))\n",
    "\n",
    "t0 = time()\n",
    "for epoch in range(5):\n",
    "     random.shuffle(Idx)\n",
    "     perm_sentences = [token_review[i] for i in Idx]\n",
    "     model_w2v.train(perm_sentences)\n",
    "     print(epoch)\n",
    "    \n",
    "elapsed=time() - t0\n",
    "print(\"Time taken for Word2vec training: \", elapsed, \"seconds.\")"
   ]
  },
  {
   "cell_type": "code",
   "execution_count": 1,
   "metadata": {
    "collapsed": false,
    "deletable": true,
    "editable": true
   },
   "outputs": [],
   "source": [
    "# saves the word2vec model to be used later.\n",
    "#model_w2v.save('./model_word2vec')\n",
    "\n",
    "# open a saved word2vec model \n",
    "import gensim\n",
    "model_w2v=gensim.models.Word2Vec.load('./model_word2vec')"
   ]
  },
  {
   "cell_type": "code",
   "execution_count": 59,
   "metadata": {
    "collapsed": false,
    "deletable": true,
    "editable": true
   },
   "outputs": [],
   "source": [
    "#gensim.parsing.preprocessing.remove_stopwords(df.iloc[0]['text2'])\n",
    "#gensim.parsing.preprocessing.remove_stopwords(token_review[0])"
   ]
  },
  {
   "cell_type": "code",
   "execution_count": 2,
   "metadata": {
    "collapsed": false,
    "deletable": true,
    "editable": true
   },
   "outputs": [
    {
     "name": "stderr",
     "output_type": "stream",
     "text": [
      "/Users/cesarosorio/anaconda/envs/BDFH_project/lib/python2.7/site-packages/ipykernel/__main__.py:3: ParserWarning: Falling back to the 'python' engine because the 'c' engine does not support regex separators (separators > 1 char and different from '\\s+' are interpreted as regex); you can avoid this warning by specifying engine='python'.\n",
      "  app.launch_new_instance()\n"
     ]
    },
    {
     "data": {
      "text/plain": [
       "59652"
      ]
     },
     "execution_count": 2,
     "metadata": {},
     "output_type": "execute_result"
    }
   ],
   "source": [
    "#import data\n",
    "import pandas as pd\n",
    "df = pd.read_csv('/Volumes/EXTERNAL1/MIMICIII/select_noteevents2-v3/part-00000-ac3edd68-1571-4e16-a2c6-ada909da0eea.csv',sep='delimiter')\n",
    "\n",
    "# Cleanning the data\n",
    "import re\n",
    "def preprocessor(text):\n",
    "    text = re.sub('<[^>]*>', '', text)\n",
    "    text = re.sub('[\\W]+', ' ', text.lower()) \n",
    "    text = re.sub(\" \\d+\", \" \", text)\n",
    "    text = gensim.parsing.preprocessing.remove_stopwords(text)\n",
    "    return text\n",
    "\n",
    "df['text3'] = df['text'].apply(preprocessor)\n",
    "\n",
    "# Create tokens\n",
    "token_review=[]\n",
    "for i in range(df['text3'].shape[0]):\n",
    "    review = df['text3'][i]\n",
    "    token_review.append([i for i in review.split()])\n",
    "\n",
    "len(token_review)"
   ]
  },
  {
   "cell_type": "code",
   "execution_count": 3,
   "metadata": {
    "collapsed": true,
    "deletable": true,
    "editable": true
   },
   "outputs": [],
   "source": [
    "import numpy as np  # Make sure that numpy is imported\n",
    "\n",
    "def makeFeatureVec(words, model, num_features):\n",
    "    # Function to average all of the word vectors in a given\n",
    "    # paragraph\n",
    "    #\n",
    "    # Pre-initialize an empty numpy array (for speed)\n",
    "    featureVec = np.zeros((num_features,),dtype=\"float32\")\n",
    "    #\n",
    "    nwords = 0.\n",
    "    # \n",
    "    # Index2word is a list that contains the names of the words in \n",
    "    # the model's vocabulary. Convert it to a set, for speed \n",
    "    index2word_set = set(model.wv.index2word)\n",
    "    #\n",
    "    # Loop over each word in the review and, if it is in the model's\n",
    "    # vocaublary, add its feature vector to the total\n",
    "    for word in words:\n",
    "        if word in index2word_set: \n",
    "            nwords = nwords + 1.\n",
    "            featureVec = np.add(featureVec,model[word])\n",
    "    # \n",
    "    # Divide the result by the number of words to get the average\n",
    "    featureVec = np.divide(featureVec,nwords)\n",
    "    return featureVec"
   ]
  },
  {
   "cell_type": "code",
   "execution_count": 4,
   "metadata": {
    "collapsed": false,
    "deletable": true,
    "editable": true
   },
   "outputs": [
    {
     "data": {
      "text/plain": [
       "array([ 0.24209931,  0.57821953, -0.1097922 , -0.04088522,  0.76877069,\n",
       "        1.2996639 ,  0.41623062,  0.1442489 ,  0.77406311, -0.52265239,\n",
       "        0.76842451,  0.15562041, -0.46637994,  0.01335333, -0.25037864,\n",
       "       -0.69962567,  0.49107403,  0.38508704, -0.21999806,  0.18665832,\n",
       "       -0.13348928, -0.7613135 ,  0.46283022,  0.73189414, -0.2284956 ,\n",
       "        0.11714122, -0.04166868, -0.77739626,  0.08127863, -0.08135029,\n",
       "        0.57344264,  0.13657698,  0.02911675, -0.40416399,  0.75751036,\n",
       "        0.34503514,  0.33877051, -0.43589294,  0.31269494, -0.40871796,\n",
       "       -0.0605538 , -0.3819671 ,  0.2187874 , -0.12320303,  0.40263268,\n",
       "        0.56866163,  0.01980313,  0.33025518,  0.75881159,  0.17011712,\n",
       "       -0.40949446, -0.95047182, -0.07816353,  0.39292824, -1.02860975,\n",
       "        0.5054608 , -0.16936162, -0.43043894, -0.49423882,  0.09224224,\n",
       "       -0.44405714, -0.43945932, -0.55873865,  0.37785959, -0.46316189,\n",
       "        0.03862812, -0.63376772, -0.20108515,  1.03987992, -0.2564714 ,\n",
       "       -0.40555984,  0.95026582,  0.42771217,  0.28002957,  0.12500089,\n",
       "       -0.52250814, -0.39604068,  0.72434151, -0.60609394, -0.25365883,\n",
       "       -0.99763066, -0.24476157, -0.03489983, -0.57358372,  0.46041423,\n",
       "       -0.47489381,  0.20470896,  0.41828531, -0.63501292, -0.60646939,\n",
       "       -0.44219416,  0.58599693, -0.43721002, -0.04096106, -0.41224933,\n",
       "        0.15308037, -0.36685351, -0.53161031, -0.3794134 ,  0.78132129], dtype=float32)"
      ]
     },
     "execution_count": 4,
     "metadata": {},
     "output_type": "execute_result"
    }
   ],
   "source": [
    "makeFeatureVec(token_review[0], model_w2v, 100)"
   ]
  },
  {
   "cell_type": "code",
   "execution_count": 5,
   "metadata": {
    "collapsed": true,
    "deletable": true,
    "editable": true
   },
   "outputs": [],
   "source": [
    "def getAvgFeatureVecs(reviews, model, num_features):\n",
    "    # Given a set of reviews (each one a list of words), calculate \n",
    "    # the average feature vector for each one and return a 2D numpy array \n",
    "    # \n",
    "    # Initialize a counter\n",
    "    counter = 0.\n",
    "    # \n",
    "    # Preallocate a 2D numpy array, for speed\n",
    "    reviewFeatureVecs = np.zeros((len(reviews),num_features),dtype=\"float32\")\n",
    "    # \n",
    "    # Loop through the reviews\n",
    "    for review in reviews:\n",
    "       #\n",
    "       # Print a status message every 1000th review\n",
    "       if counter%10000. == 0.:\n",
    "           print \"Review %d of %d\" % (counter, len(reviews))\n",
    "       # \n",
    "       # Call the function (defined above) that makes average feature vectors\n",
    "       reviewFeatureVecs[counter] = makeFeatureVec(review, model,num_features)\n",
    "       #\n",
    "       # Increment the counter\n",
    "       counter = counter + 1.\n",
    "    return reviewFeatureVecs"
   ]
  },
  {
   "cell_type": "code",
   "execution_count": 6,
   "metadata": {
    "collapsed": false,
    "deletable": true,
    "editable": true,
    "scrolled": true
   },
   "outputs": [
    {
     "name": "stdout",
     "output_type": "stream",
     "text": [
      "Review 0 of 59652\n",
      "Review 10000 of 59652\n",
      "Review 20000 of 59652\n",
      "Review 30000 of 59652\n",
      "Review 40000 of 59652\n",
      "Review 50000 of 59652\n"
     ]
    }
   ],
   "source": [
    "final_w2v=getAvgFeatureVecs(token_review, model_w2v, num_features=100)"
   ]
  },
  {
   "cell_type": "code",
   "execution_count": 7,
   "metadata": {
    "collapsed": false,
    "deletable": true,
    "editable": true
   },
   "outputs": [
    {
     "name": "stdout",
     "output_type": "stream",
     "text": [
      "((50000, 100), (9652, 100))\n"
     ]
    }
   ],
   "source": [
    "# Create train set and test set to use Machine Learning model\n",
    "\n",
    "import numpy as np\n",
    "n_break=50000  # numbers of docs in training set\n",
    "size = 100 # define when running doc2vec\n",
    "n_final = 59652\n",
    "X_train_w2v = np.zeros((n_break, size))\n",
    "X_test_w2v = np.zeros((n_final - n_break, size))\n",
    "\n",
    "for i in range(len(X_train_w2v)):\n",
    "    X_train_w2v[i] = final_w2v[i]\n",
    "    \n",
    "for i in range(n_final - n_break):\n",
    "    X_test_w2v[i] = final_w2v[i+n_break]\n",
    "\n",
    "print(X_train_w2v.shape ,X_test_w2v.shape )"
   ]
  },
  {
   "cell_type": "code",
   "execution_count": 8,
   "metadata": {
    "collapsed": false,
    "deletable": true,
    "editable": true
   },
   "outputs": [
    {
     "data": {
      "text/plain": [
       "[('sarcoma', 0.7263417840003967),\n",
       " ('rcc', 0.7242584228515625),\n",
       " ('melenoma', 0.7210500240325928),\n",
       " ('leiomyosarcoma', 0.7176036834716797),\n",
       " ('nsclc', 0.6890457272529602),\n",
       " ('fibrosarcoma', 0.6835242509841919),\n",
       " ('mesothelioma', 0.6819085478782654),\n",
       " ('adenocarcinoma', 0.6768175363540649),\n",
       " ('thymoma', 0.6764349937438965),\n",
       " ('sclc', 0.6748671531677246)]"
      ]
     },
     "execution_count": 8,
     "metadata": {},
     "output_type": "execute_result"
    }
   ],
   "source": [
    "model_w2v.most_similar('melanoma')"
   ]
  },
  {
   "cell_type": "code",
   "execution_count": null,
   "metadata": {
    "collapsed": true,
    "deletable": true,
    "editable": true
   },
   "outputs": [],
   "source": [
    ""
   ]
  }
 ],
 "metadata": {
  "kernelspec": {
   "display_name": "Python 2",
   "language": "python",
   "name": "python2"
  },
  "language_info": {
   "codemirror_mode": {
    "name": "ipython",
    "version": 2.0
   },
   "file_extension": ".py",
   "mimetype": "text/x-python",
   "name": "python",
   "nbconvert_exporter": "python",
   "pygments_lexer": "ipython2",
   "version": "2.7.13"
  }
 },
 "nbformat": 4,
 "nbformat_minor": 0
}