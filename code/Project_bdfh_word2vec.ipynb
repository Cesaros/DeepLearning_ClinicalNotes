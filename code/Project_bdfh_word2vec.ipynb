{
 "cells": [
  {
   "cell_type": "markdown",
   "metadata": {
    "deletable": true,
    "editable": true
   },
   "source": [
    "#### Dependecies\n",
    "\n",
    "scipy = 0.17.0\n",
    "gensim = 1.0.1\n",
    "pandas = 0.19.2\n",
    "numpy = 1.11.2\n",
    "\n",
    "#### I used the following code in Pyspark to generate and save on disk the csv file below\n",
    "\n",
    "select_noteevents2 = spark.sql(\"\"\"\n",
    "SELECT text\n",
    "FROM noteevents2\n",
    "\"\"\")\n",
    "\n",
    "select_noteevents2.coalesce(1).write.csv(\"/Volumes/EXTERNAL1/MIMICIII/select_noteevents2-v3\", header=True)\n",
    "\n",
    "select_noteevents3 = spark.sql(\"\"\"\n",
    "SELECT subject_id, hadm_id\n",
    "FROM noteevents2\n",
    "\"\"\")\n",
    "\n",
    "select_noteevents3.coalesce(1).write.csv(\"/Volumes/EXTERNAL1/MIMICIII/select_noteevents2-v4\", header=True)\n",
    "\n",
    "#### then I proceed to open a new notebook to run pandas and gensim "
   ]
  },
  {
   "cell_type": "code",
   "execution_count": 2,
   "metadata": {
    "collapsed": false,
    "deletable": true,
    "editable": true
   },
   "outputs": [
    {
     "name": "stderr",
     "output_type": "stream",
     "text": [
      "/Users/cesarosorio/anaconda/envs/BDFH_project/lib/python2.7/site-packages/ipykernel/__main__.py:2: ParserWarning: Falling back to the 'python' engine because the 'c' engine does not support regex separators (separators > 1 char and different from '\\s+' are interpreted as regex); you can avoid this warning by specifying engine='python'.\n",
      "  from ipykernel import kernelapp as app\n"
     ]
    },
    {
     "data": {
      "text/html": [
       "<div>\n",
       "<table border=\"1\" class=\"dataframe\">\n",
       "  <thead>\n",
       "    <tr style=\"text-align: right;\">\n",
       "      <th></th>\n",
       "      <th>text</th>\n",
       "    </tr>\n",
       "  </thead>\n",
       "  <tbody>\n",
       "    <tr>\n",
       "      <th>0</th>\n",
       "      <td>\"Admission Date:  [**2183-9-25**]       Discha...</td>\n",
       "    </tr>\n",
       "    <tr>\n",
       "      <th>1</th>\n",
       "      <td>\"Admission Date:  [**2184-1-16**]       Discha...</td>\n",
       "    </tr>\n",
       "    <tr>\n",
       "      <th>2</th>\n",
       "      <td>\"Admission Date:  [**2103-4-11**]             ...</td>\n",
       "    </tr>\n",
       "    <tr>\n",
       "      <th>3</th>\n",
       "      <td>\"Admission Date:  [**2103-10-7**]       Discha...</td>\n",
       "    </tr>\n",
       "    <tr>\n",
       "      <th>4</th>\n",
       "      <td>\"\\\"Admission Date:  [**2131-4-2**]            ...</td>\n",
       "    </tr>\n",
       "  </tbody>\n",
       "</table>\n",
       "</div>"
      ],
      "text/plain": [
       "                                                text\n",
       "0  \"Admission Date:  [**2183-9-25**]       Discha...\n",
       "1  \"Admission Date:  [**2184-1-16**]       Discha...\n",
       "2  \"Admission Date:  [**2103-4-11**]             ...\n",
       "3  \"Admission Date:  [**2103-10-7**]       Discha...\n",
       "4  \"\\\"Admission Date:  [**2131-4-2**]            ..."
      ]
     },
     "execution_count": 2,
     "metadata": {},
     "output_type": "execute_result"
    }
   ],
   "source": [
    "import pandas as pd\n",
    "df = pd.read_csv('/Volumes/EXTERNAL1/MIMICIII/select_noteevents2-v3/part-00000-ac3edd68-1571-4e16-a2c6-ada909da0eea.csv',sep='delimiter')\n",
    "df.head(5)"
   ]
  },
  {
   "cell_type": "code",
   "execution_count": 2,
   "metadata": {
    "collapsed": false,
    "deletable": true,
    "editable": true
   },
   "outputs": [
    {
     "data": {
      "text/html": [
       "<div>\n",
       "<table border=\"1\" class=\"dataframe\">\n",
       "  <thead>\n",
       "    <tr style=\"text-align: right;\">\n",
       "      <th></th>\n",
       "      <th>subject_id</th>\n",
       "      <th>hadm_id</th>\n",
       "    </tr>\n",
       "  </thead>\n",
       "  <tbody>\n",
       "    <tr>\n",
       "      <th>0</th>\n",
       "      <td>20007</td>\n",
       "      <td>188442</td>\n",
       "    </tr>\n",
       "    <tr>\n",
       "      <th>1</th>\n",
       "      <td>20007</td>\n",
       "      <td>193793</td>\n",
       "    </tr>\n",
       "    <tr>\n",
       "      <th>2</th>\n",
       "      <td>59883</td>\n",
       "      <td>118446</td>\n",
       "    </tr>\n",
       "    <tr>\n",
       "      <th>3</th>\n",
       "      <td>17043</td>\n",
       "      <td>157985</td>\n",
       "    </tr>\n",
       "    <tr>\n",
       "      <th>4</th>\n",
       "      <td>7019</td>\n",
       "      <td>189488</td>\n",
       "    </tr>\n",
       "  </tbody>\n",
       "</table>\n",
       "</div>"
      ],
      "text/plain": [
       "   subject_id  hadm_id\n",
       "0       20007   188442\n",
       "1       20007   193793\n",
       "2       59883   118446\n",
       "3       17043   157985\n",
       "4        7019   189488"
      ]
     },
     "execution_count": 2,
     "metadata": {},
     "output_type": "execute_result"
    }
   ],
   "source": [
    "df_ids = pd.read_csv('/Volumes/EXTERNAL1/MIMICIII/select_noteevents2-v4/part-00000-9b6dc461-8bf9-4ae4-b626-2156a12031ab.csv')\n",
    "df_ids.head(5)"
   ]
  },
  {
   "cell_type": "code",
   "execution_count": null,
   "metadata": {
    "collapsed": true,
    "deletable": true,
    "editable": true
   },
   "outputs": [],
   "source": [
    "# Cleanning the data\n",
    "import re\n",
    "def preprocessor(text):\n",
    "    text = re.sub('<[^>]*>', '', text)\n",
    "    text = re.sub('[\\W]+', ' ', text.lower()) \n",
    "    return text\n",
    "\n",
    "df['text3'] = df['text'].apply(preprocessor)"
   ]
  },
  {
   "cell_type": "code",
   "execution_count": null,
   "metadata": {
    "collapsed": true,
    "deletable": true,
    "editable": true
   },
   "outputs": [],
   "source": [
    "# Create tokens\n",
    "token_review=[]\n",
    "for i in range(df['text3'].shape[0]):\n",
    "    review = df['text3'][i]\n",
    "    token_review.append([i for i in review.split()])\n",
    "\n",
    "len(token_review)"
   ]
  },
  {
   "cell_type": "markdown",
   "metadata": {
    "deletable": true,
    "editable": true
   },
   "source": [
    "### Apply Word2Vec"
   ]
  },
  {
   "cell_type": "code",
   "execution_count": 26,
   "metadata": {
    "collapsed": false,
    "deletable": true,
    "editable": true
   },
   "outputs": [
    {
     "name": "stdout",
     "output_type": "stream",
     "text": [
      "0\n",
      "1\n",
      "2\n",
      "3\n",
      "4\n",
      "('Time taken for Word2vec training: ', 766.5733489990234, 'seconds.')\n"
     ]
    }
   ],
   "source": [
    "from gensim.models import Word2Vec\n",
    "#import gensim.models.Word2Vec\n",
    "from gensim import utils\n",
    "from time import time\n",
    "\n",
    "# assumptions: window is 5 words left and right, eliminate words than dont occur in\n",
    "# more than 10 docs, use 4 workers for a quadcore machine. Size is the size of vector\n",
    "# negative=5 implies negative sampling and makes doc2vec faster to train\n",
    "#model = Doc2Vec(sentence, size=100, window=5, workers=4, min_count=5)\n",
    "\n",
    "\n",
    "import random\n",
    "\n",
    "size = 100\n",
    "\n",
    "#instantiate our  model\n",
    "model_w2v = Word2Vec(min_count=10, window=5, size=size, sample=1e-3, negative=5, workers=4)\n",
    "\n",
    "#build vocab over all reviews\n",
    "model_w2v.build_vocab(token_review)\n",
    "\n",
    "#We pass through the data set multiple times, shuffling the training reviews each time to improve accuracy.\n",
    "Idx=list(range(len(token_review)))\n",
    "\n",
    "t0 = time()\n",
    "for epoch in range(5):\n",
    "     random.shuffle(Idx)\n",
    "     perm_sentences = [token_review[i] for i in Idx]\n",
    "     model_w2v.train(perm_sentences)\n",
    "     print(epoch)\n",
    "    \n",
    "elapsed=time() - t0\n",
    "print(\"Time taken for Word2vec training: \", elapsed, \"seconds.\")"
   ]
  },
  {
   "cell_type": "code",
   "execution_count": 3,
   "metadata": {
    "collapsed": false,
    "deletable": true,
    "editable": true
   },
   "outputs": [],
   "source": [
    "# saves the word2vec model to be used later.\n",
    "#model_w2v.save('./model_word2vec')\n",
    "\n",
    "# open a saved word2vec model \n",
    "#import gensim\n",
    "#model_w2v=gensim.models.Word2Vec.load('./model_word2vec')\n",
    "\n",
    "\n",
    "#model_w2v.wv.save_word2vec_format('./model_word2vec.txt', binary=False)\n",
    "\n"
   ]
  },
  {
   "cell_type": "markdown",
   "metadata": {
    "deletable": true,
    "editable": true
   },
   "source": [
    "#### Run  if you are using Glove type format\n"
   ]
  },
  {
   "cell_type": "code",
   "execution_count": 1,
   "metadata": {
    "collapsed": false,
    "deletable": true,
    "editable": true
   },
   "outputs": [
    {
     "name": "stdout",
     "output_type": "stream",
     "text": [
      "Loading Glove Model\n",
      "('Done.', 33837, ' words loaded!')\n"
     ]
    }
   ],
   "source": [
    "# Run this cell if you are using Glove type format\n",
    "def loadGloveModel(gloveFile):\n",
    "    print(\"Loading Glove Model\")\n",
    "    f = open(gloveFile,'r')\n",
    "    model = {}\n",
    "    for line in f:\n",
    "        splitLine = line.split()\n",
    "        word = splitLine[0]\n",
    "        embedding = [float(val) for val in splitLine[1:]]\n",
    "        model[word] = embedding\n",
    "    print(\"Done.\",len(model),\" words loaded!\")\n",
    "    return model\n",
    "\n",
    "model_w2v=loadGloveModel(\"./model_word2vec.txt\")"
   ]
  },
  {
   "cell_type": "code",
   "execution_count": 2,
   "metadata": {
    "collapsed": false,
    "deletable": true,
    "editable": true
   },
   "outputs": [
    {
     "name": "stderr",
     "output_type": "stream",
     "text": [
      "/Users/cesarosorio/anaconda/envs/BDFH_project2/lib/python2.7/site-packages/ipykernel/__main__.py:3: ParserWarning: Falling back to the 'python' engine because the 'c' engine does not support regex separators (separators > 1 char and different from '\\s+' are interpreted as regex); you can avoid this warning by specifying engine='python'.\n",
      "  app.launch_new_instance()\n"
     ]
    },
    {
     "data": {
      "text/plain": [
       "59652"
      ]
     },
     "execution_count": 2,
     "metadata": {},
     "output_type": "execute_result"
    }
   ],
   "source": [
    "#import data\n",
    "import pandas as pd\n",
    "df = pd.read_csv('/Volumes/EXTERNAL1/MIMICIII/select_noteevents2-v3/part-00000-ac3edd68-1571-4e16-a2c6-ada909da0eea.csv',sep='delimiter')\n",
    "\n",
    "# Cleanning the data\n",
    "import re\n",
    "\n",
    "def preprocessor(text):\n",
    "    text = re.sub('<[^>]*>', '', text)\n",
    "    text = re.sub('[\\W]+', ' ', text.lower()) \n",
    "    text = re.sub(\" \\d+\", \" \", text)\n",
    "    #text = gensim.parsing.preprocessing.remove_stopwords(text)\n",
    "    return text\n",
    "\n",
    "\n",
    "df['text3'] = df['text'].apply(preprocessor)\n",
    "\n",
    "# Create tokens\n",
    "token_review=[]\n",
    "for i in range(df['text3'].shape[0]):\n",
    "    review = df['text3'][i]\n",
    "    token_review.append([i for i in review.split()])\n",
    "\n",
    "len(token_review)"
   ]
  },
  {
   "cell_type": "code",
   "execution_count": 25,
   "metadata": {
    "collapsed": false,
    "deletable": true,
    "editable": true
   },
   "outputs": [],
   "source": [
    "import numpy as np  # Make sure that numpy is imported\n",
    "from nltk.corpus import stopwords\n",
    "\n",
    "keys_updated = [word for word in model_w2v.keys() if word not in stopwords.words('english')]\n",
    "index2word_set=set(keys_updated)\n",
    "\n",
    "def makeFeatureVec(words, model, num_features):\n",
    "    # Function to average all of the word vectors in a given\n",
    "    # paragraph\n",
    "    #\n",
    "    # Pre-initialize an empty numpy array (for speed)\n",
    "    featureVec = np.zeros((num_features,),dtype=\"float32\")\n",
    "    #\n",
    "    nwords = 0.\n",
    "    # \n",
    "    # Index2word is a list that contains the names of the words in \n",
    "    # the model's vocabulary. Convert it to a set, for speed \n",
    "    #index2word_set = set(model.wv.index2word) #activate if using gensim\n",
    "\n",
    "    # activate if uploaded text version\n",
    "    #index2word_set=set(keys_updated)\n",
    "    \n",
    "    \n",
    "    #\n",
    "    # Loop over each word in the review and, if it is in the model's\n",
    "    # vocaublary, add its feature vector to the total\n",
    "    for word in words:\n",
    "        if word in index2word_set: \n",
    "            nwords = nwords + 1.\n",
    "            featureVec = np.add(featureVec,model[word])\n",
    "    # \n",
    "    # Divide the result by the number of words to get the average\n",
    "    featureVec = np.divide(featureVec,nwords)\n",
    "    return featureVec\n"
   ]
  },
  {
   "cell_type": "code",
   "execution_count": 26,
   "metadata": {
    "collapsed": false,
    "deletable": true,
    "editable": true
   },
   "outputs": [
    {
     "data": {
      "text/plain": [
       "array([ 0.32124942,  0.42867058, -0.1607722 , -0.255455  ,  0.80822697,\n",
       "        1.42863403,  0.42433648,  0.45289934,  0.93406838, -0.44348111,\n",
       "        0.7356697 ,  0.09904312, -0.51461918,  0.09862627, -0.1717864 ,\n",
       "       -0.49117593,  0.82210046,  0.3637609 , -0.0391038 ,  0.12883505,\n",
       "       -0.22609152, -0.75877765,  0.43139248,  0.65939814, -0.26636229,\n",
       "       -0.18819797, -0.11727432, -0.63130124,  0.17328437, -0.11704872,\n",
       "        0.42489609,  0.17380838, -0.10591966, -0.43874571,  0.71558041,\n",
       "        0.359048  ,  0.23391739, -0.40168188,  0.41330036, -0.40955439,\n",
       "       -0.17525836, -0.42868377,  0.21771216, -0.17365117,  0.32529705,\n",
       "        0.35938327,  0.22340736,  0.424673  ,  0.9110962 ,  0.38621649,\n",
       "       -0.30929509, -0.84243643, -0.05837796,  0.20928157, -0.75140584,\n",
       "        0.50740408, -0.16328134, -0.58607459, -0.46503013,  0.106976  ,\n",
       "       -0.42876902, -0.49975919, -0.4134568 ,  0.17556357, -0.44255696,\n",
       "        0.04985585, -0.54240325, -0.17266752,  0.95468491, -0.25155782,\n",
       "       -0.29391337,  0.86842163,  0.42711619,  0.3839184 ,  0.00859162,\n",
       "       -0.61604329, -0.28729963,  0.72193665, -0.55504583, -0.25179639,\n",
       "       -0.7476581 , -0.21585399,  0.07863061, -0.79934384,  0.50420582,\n",
       "       -0.62328266,  0.28623525,  0.43216634, -0.46330423, -0.63179952,\n",
       "       -0.47824082,  0.61117969, -0.36528092,  0.11655667, -0.3960547 ,\n",
       "        0.15617174, -0.33653396, -0.39358711, -0.33047931,  0.8443866 ])"
      ]
     },
     "execution_count": 26,
     "metadata": {},
     "output_type": "execute_result"
    }
   ],
   "source": [
    "makeFeatureVec(token_review[0], model_w2v, 100)"
   ]
  },
  {
   "cell_type": "code",
   "execution_count": 27,
   "metadata": {
    "collapsed": true,
    "deletable": true,
    "editable": true
   },
   "outputs": [],
   "source": [
    "def getAvgFeatureVecs(reviews, model, num_features):\n",
    "    # Given a set of reviews (each one a list of words), calculate \n",
    "    # the average feature vector for each one and return a 2D numpy array \n",
    "    # \n",
    "    # Initialize a counter\n",
    "    counter = 0\n",
    "    # \n",
    "    # Preallocate a 2D numpy array, for speed\n",
    "    reviewFeatureVecs = np.zeros((len(reviews),num_features),dtype=\"float32\")\n",
    "    # \n",
    "    # Loop through the reviews\n",
    "    for review in reviews:\n",
    "       #\n",
    "       # Print a status message every 10000th review\n",
    "       if counter%10000 == 0:\n",
    "           print \"Review %d of %d\" % (counter, len(reviews))\n",
    "       # \n",
    "       # Call the function (defined above) that makes average feature vectors\n",
    "       reviewFeatureVecs[counter] = makeFeatureVec(review, model,num_features)\n",
    "       #\n",
    "       # Increment the counter\n",
    "       counter = counter + 1\n",
    "    return reviewFeatureVecs"
   ]
  },
  {
   "cell_type": "code",
   "execution_count": 28,
   "metadata": {
    "collapsed": false,
    "deletable": true,
    "editable": true,
    "scrolled": true
   },
   "outputs": [
    {
     "name": "stdout",
     "output_type": "stream",
     "text": [
      "Review 0 of 59652\n",
      "Review 10000 of 59652\n",
      "Review 20000 of 59652\n",
      "Review 30000 of 59652\n",
      "Review 40000 of 59652\n",
      "Review 50000 of 59652\n",
      "('Time taken for Word2vec avg vector per note calculation: ', 217.7224440574646, 'seconds.')\n"
     ]
    }
   ],
   "source": [
    "from time import time\n",
    "t0 = time()\n",
    "final_w2v=getAvgFeatureVecs(token_review, model_w2v, num_features=100)\n",
    "elapsed=time() - t0\n",
    "print(\"Time taken for Word2vec avg vector per note calculation: \", elapsed, \"seconds.\")"
   ]
  },
  {
   "cell_type": "markdown",
   "metadata": {
    "deletable": true,
    "editable": true
   },
   "source": [
    "#### Create train set and test set to use Machine Learning model\n"
   ]
  },
  {
   "cell_type": "code",
   "execution_count": 29,
   "metadata": {
    "collapsed": false,
    "deletable": true,
    "editable": true
   },
   "outputs": [
    {
     "name": "stdout",
     "output_type": "stream",
     "text": [
      "(29826, 14913, 14913)\n"
     ]
    }
   ],
   "source": [
    "# Create train set and test set to use Machine Learning model\n",
    "#you need to add the labels\n",
    "import random\n",
    "idx=list(range(len(token_review)))\n",
    "random.seed(1234)\n",
    "random.shuffle(idx)\n",
    "idx_train= idx[0:int(len(final_w2v)*0.50)]\n",
    "idx_val= idx[int(len(final_w2v)*0.50):int(len(final_w2v)*0.75)]\n",
    "idx_test= idx[int(len(final_w2v)*0.75):len(final_w2v)]\n",
    "\n",
    "train_set = [final_w2v[i] for i in idx_train]\n",
    "val_set = [final_w2v[i] for i in idx_val]\n",
    "test_set = [final_w2v[i] for i in idx_test]\n",
    "\n",
    "\n",
    "print(len(train_set), len(val_set)  ,len(test_set))"
   ]
  },
  {
   "cell_type": "markdown",
   "metadata": {
    "deletable": true,
    "editable": true
   },
   "source": [
    "#### Top 10 notes similar to note '0' or first note in dataset (to compare results to Doc2vec)\n"
   ]
  },
  {
   "cell_type": "code",
   "execution_count": 30,
   "metadata": {
    "collapsed": false,
    "deletable": true,
    "editable": true
   },
   "outputs": [
    {
     "name": "stdout",
     "output_type": "stream",
     "text": [
      "0 1.0\n",
      "10632 0.864\n",
      "54970 0.863\n",
      "59628 0.851\n",
      "58246 0.84\n",
      "53046 0.833\n",
      "56235 0.83\n",
      "53047 0.828\n",
      "58117 0.827\n",
      "36272 0.823\n",
      "1379 0.82\n"
     ]
    }
   ],
   "source": [
    "# Top 10 notes similar to note '0' or first note in dataset (to compare results to Doc2vec)\n",
    "\n",
    "import scipy\n",
    "from scipy import spatial\n",
    "\n",
    "cosine_results=[]\n",
    "for i in range(0,final_w2v.shape[0]):\n",
    "    result=0\n",
    "    result = 1 - spatial.distance.cosine(final_w2v[0], final_w2v[i])\n",
    "    cosine_results.append(float(\"{0:.3f}\".format(result)))\n",
    "    \n",
    "list_index=sorted(range(len(cosine_results)), key=lambda i: cosine_results[i] , reverse=True)[:11]\n",
    "for i in list_index:\n",
    "    print i, cosine_results[i]\n"
   ]
  },
  {
   "cell_type": "markdown",
   "metadata": {
    "deletable": true,
    "editable": true
   },
   "source": [
    "### Try TFIDF"
   ]
  },
  {
   "cell_type": "code",
   "execution_count": 31,
   "metadata": {
    "collapsed": false,
    "deletable": true,
    "editable": true
   },
   "outputs": [
    {
     "data": {
      "text/plain": [
       "(59652, 24345)"
      ]
     },
     "execution_count": 31,
     "metadata": {},
     "output_type": "execute_result"
    }
   ],
   "source": [
    "# Transform the dataframe to a sparse Tdidf matrix\n",
    "#from sklearn.feature_extraction.text import CountVectorizer\n",
    "import numpy as np\n",
    "from sklearn.feature_extraction.text import TfidfVectorizer\n",
    "\n",
    "# Now we create the sparse matrix of tfidf values\n",
    "tfidf = TfidfVectorizer(input='content',ngram_range=(1, 1),stop_words='english', min_df=10, max_df=0.8)\n",
    "# I select to remove stopwords and minimun doc frequency =10 to delete very unusual words\n",
    "# that only show up in less than 10 notes (out of 59k notes available) \n",
    "\n",
    "dtm = tfidf.fit_transform([c for c in df['text3']])\n",
    "vocab = np.array(tfidf.get_feature_names())\n",
    "dtm = dtm.toarray()  # convert to a regular array\n",
    "vocab = np.array(vocab)\n",
    "dtm.shape\n"
   ]
  },
  {
   "cell_type": "code",
   "execution_count": 32,
   "metadata": {
    "collapsed": false,
    "deletable": true,
    "editable": true
   },
   "outputs": [
    {
     "name": "stdout",
     "output_type": "stream",
     "text": [
      "(29826, 14913, 14913)\n"
     ]
    }
   ],
   "source": [
    "# Create train set and test set to use Machine Learning model\n",
    "# you need to add the label\n",
    "import random\n",
    "idx=list(range(len(token_review)))\n",
    "random.seed(1234)\n",
    "random.shuffle(idx)\n",
    "idx_train= idx[0:int(len(final_w2v)*0.50)]\n",
    "idx_val= idx[int(len(final_w2v)*0.50):int(len(final_w2v)*0.75)]\n",
    "idx_test= idx[int(len(final_w2v)*0.75):len(final_w2v)]\n",
    "\n",
    "train_set_tfidf = [dtm[i] for i in idx_train]\n",
    "val_set_tfidf = [dtm[i] for i in idx_val]\n",
    "test_set_tfidf = [dtm[i] for i in idx_test]\n",
    "\n",
    "print(len(train_set_tfidf), len(val_set_tfidf)  ,len(test_set_tfidf))"
   ]
  },
  {
   "cell_type": "code",
   "execution_count": null,
   "metadata": {
    "collapsed": true,
    "deletable": true,
    "editable": true
   },
   "outputs": [],
   "source": []
  }
 ],
 "metadata": {
  "kernelspec": {
   "display_name": "Python 2",
   "language": "python",
   "name": "python2"
  },
  "language_info": {
   "codemirror_mode": {
    "name": "ipython",
    "version": 2
   },
   "file_extension": ".py",
   "mimetype": "text/x-python",
   "name": "python",
   "nbconvert_exporter": "python",
   "pygments_lexer": "ipython2",
   "version": "2.7.13"
  }
 },
 "nbformat": 4,
 "nbformat_minor": 2
}
