{
 "cells": [
  {
   "cell_type": "markdown",
   "metadata": {
    "deletable": true,
    "editable": true
   },
   "source": [
    "#### Dependecies\n",
    "\n",
    "scipy = 0.17.0\n",
    "gensim = 1.0.1\n",
    "pandas = 0.19.2\n",
    "numpy = 1.11.2\n",
    "\n",
    "#### I used DATA_HADM_TOP10.csv from feature_extraction_nonseq.ipynb "
   ]
  },
  {
   "cell_type": "code",
   "execution_count": 1,
   "metadata": {
    "collapsed": false,
    "deletable": true,
    "editable": true
   },
   "outputs": [
    {
     "data": {
      "text/html": [
       "<div>\n",
       "<table border=\"1\" class=\"dataframe\">\n",
       "  <thead>\n",
       "    <tr style=\"text-align: right;\">\n",
       "      <th></th>\n",
       "      <th>id</th>\n",
       "      <th>4019</th>\n",
       "      <th>2724</th>\n",
       "      <th>25000</th>\n",
       "      <th>4280</th>\n",
       "      <th>41401</th>\n",
       "      <th>53081</th>\n",
       "      <th>51881</th>\n",
       "      <th>42731</th>\n",
       "      <th>5849</th>\n",
       "      <th>5990</th>\n",
       "      <th>text</th>\n",
       "    </tr>\n",
       "  </thead>\n",
       "  <tbody>\n",
       "    <tr>\n",
       "      <th>0</th>\n",
       "      <td>117760</td>\n",
       "      <td>0</td>\n",
       "      <td>0</td>\n",
       "      <td>0</td>\n",
       "      <td>0</td>\n",
       "      <td>0</td>\n",
       "      <td>1</td>\n",
       "      <td>1</td>\n",
       "      <td>0</td>\n",
       "      <td>0</td>\n",
       "      <td>0</td>\n",
       "      <td>\"Admission Date:  [**2118-12-14**]            ...</td>\n",
       "    </tr>\n",
       "    <tr>\n",
       "      <th>1</th>\n",
       "      <td>129030</td>\n",
       "      <td>1</td>\n",
       "      <td>1</td>\n",
       "      <td>0</td>\n",
       "      <td>0</td>\n",
       "      <td>0</td>\n",
       "      <td>1</td>\n",
       "      <td>0</td>\n",
       "      <td>0</td>\n",
       "      <td>0</td>\n",
       "      <td>0</td>\n",
       "      <td>Admission Date:  [**2137-8-31**]              ...</td>\n",
       "    </tr>\n",
       "    <tr>\n",
       "      <th>2</th>\n",
       "      <td>172040</td>\n",
       "      <td>0</td>\n",
       "      <td>0</td>\n",
       "      <td>0</td>\n",
       "      <td>0</td>\n",
       "      <td>1</td>\n",
       "      <td>0</td>\n",
       "      <td>0</td>\n",
       "      <td>0</td>\n",
       "      <td>1</td>\n",
       "      <td>0</td>\n",
       "      <td>Admission Date:  [**2174-1-6**]              D...</td>\n",
       "    </tr>\n",
       "    <tr>\n",
       "      <th>3</th>\n",
       "      <td>156170</td>\n",
       "      <td>0</td>\n",
       "      <td>0</td>\n",
       "      <td>1</td>\n",
       "      <td>1</td>\n",
       "      <td>0</td>\n",
       "      <td>0</td>\n",
       "      <td>0</td>\n",
       "      <td>1</td>\n",
       "      <td>1</td>\n",
       "      <td>0</td>\n",
       "      <td>Admission Date:  [**2102-6-9**]              D...</td>\n",
       "    </tr>\n",
       "    <tr>\n",
       "      <th>4</th>\n",
       "      <td>199180</td>\n",
       "      <td>0</td>\n",
       "      <td>0</td>\n",
       "      <td>1</td>\n",
       "      <td>1</td>\n",
       "      <td>1</td>\n",
       "      <td>0</td>\n",
       "      <td>0</td>\n",
       "      <td>0</td>\n",
       "      <td>0</td>\n",
       "      <td>0</td>\n",
       "      <td>Admission Date:  [**2164-7-2**]       Discharg...</td>\n",
       "    </tr>\n",
       "  </tbody>\n",
       "</table>\n",
       "</div>"
      ],
      "text/plain": [
       "       id  4019  2724  25000  4280  41401  53081  51881  42731  5849  5990  \\\n",
       "0  117760     0     0      0     0      0      1      1      0     0     0   \n",
       "1  129030     1     1      0     0      0      1      0      0     0     0   \n",
       "2  172040     0     0      0     0      1      0      0      0     1     0   \n",
       "3  156170     0     0      1     1      0      0      0      1     1     0   \n",
       "4  199180     0     0      1     1      1      0      0      0     0     0   \n",
       "\n",
       "                                                text  \n",
       "0  \"Admission Date:  [**2118-12-14**]            ...  \n",
       "1  Admission Date:  [**2137-8-31**]              ...  \n",
       "2  Admission Date:  [**2174-1-6**]              D...  \n",
       "3  Admission Date:  [**2102-6-9**]              D...  \n",
       "4  Admission Date:  [**2164-7-2**]       Discharg...  "
      ]
     },
     "execution_count": 1,
     "metadata": {},
     "output_type": "execute_result"
    }
   ],
   "source": [
    "import pandas as pd\n",
    "import pickle\n",
    "\n",
    "df_hadm_top10 = pd.read_csv(\"/Volumes/EXTERNAL1/MIMICIII/DATA_HADM_TOP10.csv\", escapechar='\\\\')\n",
    "ICD9CODES = pickle.load(open(\"./data/ICD9CODES.p\", \"r\"))\n",
    "\n",
    "df_hadm_top10.head(5)"
   ]
  },
  {
   "cell_type": "code",
   "execution_count": 2,
   "metadata": {
    "collapsed": false,
    "deletable": true,
    "editable": true
   },
   "outputs": [
    {
     "data": {
      "text/plain": [
       "52726"
      ]
     },
     "execution_count": 2,
     "metadata": {},
     "output_type": "execute_result"
    }
   ],
   "source": [
    "len(df_hadm_top10)"
   ]
  },
  {
   "cell_type": "code",
   "execution_count": 3,
   "metadata": {
    "collapsed": false,
    "deletable": true,
    "editable": true
   },
   "outputs": [
    {
     "data": {
      "text/plain": [
       "39544"
      ]
     },
     "execution_count": 3,
     "metadata": {},
     "output_type": "execute_result"
    }
   ],
   "source": [
    "import random\n",
    "\n",
    "def separate(seed, N):    \n",
    "    idx=list(range(N))\n",
    "    random.seed(seed)\n",
    "    random.shuffle(idx)\n",
    "    idx_train= idx[0:int(N*0.50)]\n",
    "    idx_val= idx[int(N*0.50):int(N*0.75)]\n",
    "    idx_test= idx[int(N*0.75):N]\n",
    "\n",
    "    return idx_train, idx_val, idx_test\n",
    "\n",
    "\n",
    "idx_train, idx_val, idx_test = separate(1234, df_hadm_top10.shape[0])\n",
    "idx_join_train=idx_train + idx_val\n",
    "len(idx_join_train)"
   ]
  },
  {
   "cell_type": "code",
   "execution_count": 4,
   "metadata": {
    "collapsed": false,
    "deletable": true,
    "editable": true
   },
   "outputs": [
    {
     "data": {
      "text/html": [
       "<div>\n",
       "<table border=\"1\" class=\"dataframe\">\n",
       "  <thead>\n",
       "    <tr style=\"text-align: right;\">\n",
       "      <th></th>\n",
       "      <th>id</th>\n",
       "      <th>4019</th>\n",
       "      <th>2724</th>\n",
       "      <th>25000</th>\n",
       "      <th>4280</th>\n",
       "      <th>41401</th>\n",
       "      <th>53081</th>\n",
       "      <th>51881</th>\n",
       "      <th>42731</th>\n",
       "      <th>5849</th>\n",
       "      <th>5990</th>\n",
       "      <th>text</th>\n",
       "    </tr>\n",
       "  </thead>\n",
       "  <tbody>\n",
       "    <tr>\n",
       "      <th>22653</th>\n",
       "      <td>112108</td>\n",
       "      <td>1</td>\n",
       "      <td>0</td>\n",
       "      <td>0</td>\n",
       "      <td>1</td>\n",
       "      <td>0</td>\n",
       "      <td>0</td>\n",
       "      <td>0</td>\n",
       "      <td>0</td>\n",
       "      <td>0</td>\n",
       "      <td>0</td>\n",
       "      <td>Admission Date:  [**2113-3-2**]              D...</td>\n",
       "    </tr>\n",
       "    <tr>\n",
       "      <th>14729</th>\n",
       "      <td>136683</td>\n",
       "      <td>1</td>\n",
       "      <td>0</td>\n",
       "      <td>0</td>\n",
       "      <td>0</td>\n",
       "      <td>0</td>\n",
       "      <td>0</td>\n",
       "      <td>0</td>\n",
       "      <td>0</td>\n",
       "      <td>0</td>\n",
       "      <td>0</td>\n",
       "      <td>Admission Date:  [**2147-11-28**]     Discharg...</td>\n",
       "    </tr>\n",
       "    <tr>\n",
       "      <th>17620</th>\n",
       "      <td>187756</td>\n",
       "      <td>0</td>\n",
       "      <td>0</td>\n",
       "      <td>1</td>\n",
       "      <td>1</td>\n",
       "      <td>0</td>\n",
       "      <td>1</td>\n",
       "      <td>0</td>\n",
       "      <td>1</td>\n",
       "      <td>0</td>\n",
       "      <td>0</td>\n",
       "      <td>Admission Date:  [**2143-4-21**]              ...</td>\n",
       "    </tr>\n",
       "    <tr>\n",
       "      <th>25598</th>\n",
       "      <td>108901</td>\n",
       "      <td>0</td>\n",
       "      <td>1</td>\n",
       "      <td>0</td>\n",
       "      <td>1</td>\n",
       "      <td>0</td>\n",
       "      <td>0</td>\n",
       "      <td>0</td>\n",
       "      <td>1</td>\n",
       "      <td>0</td>\n",
       "      <td>1</td>\n",
       "      <td>Admission Date:  [**2169-1-14**]              ...</td>\n",
       "    </tr>\n",
       "    <tr>\n",
       "      <th>48887</th>\n",
       "      <td>138443</td>\n",
       "      <td>0</td>\n",
       "      <td>0</td>\n",
       "      <td>0</td>\n",
       "      <td>0</td>\n",
       "      <td>0</td>\n",
       "      <td>0</td>\n",
       "      <td>0</td>\n",
       "      <td>0</td>\n",
       "      <td>0</td>\n",
       "      <td>0</td>\n",
       "      <td>Admission Date:  [**2176-12-16**]             ...</td>\n",
       "    </tr>\n",
       "  </tbody>\n",
       "</table>\n",
       "</div>"
      ],
      "text/plain": [
       "           id  4019  2724  25000  4280  41401  53081  51881  42731  5849  \\\n",
       "22653  112108     1     0      0     1      0      0      0      0     0   \n",
       "14729  136683     1     0      0     0      0      0      0      0     0   \n",
       "17620  187756     0     0      1     1      0      1      0      1     0   \n",
       "25598  108901     0     1      0     1      0      0      0      1     0   \n",
       "48887  138443     0     0      0     0      0      0      0      0     0   \n",
       "\n",
       "       5990                                               text  \n",
       "22653     0  Admission Date:  [**2113-3-2**]              D...  \n",
       "14729     0  Admission Date:  [**2147-11-28**]     Discharg...  \n",
       "17620     0  Admission Date:  [**2143-4-21**]              ...  \n",
       "25598     1  Admission Date:  [**2169-1-14**]              ...  \n",
       "48887     0  Admission Date:  [**2176-12-16**]             ...  "
      ]
     },
     "execution_count": 4,
     "metadata": {},
     "output_type": "execute_result"
    }
   ],
   "source": [
    "df_hadm_top10_d2v=df_hadm_top10.iloc[idx_join_train].copy()\n",
    "df_hadm_top10_d2v.head(5)"
   ]
  },
  {
   "cell_type": "markdown",
   "metadata": {
    "deletable": true,
    "editable": true
   },
   "source": [
    "### Apply doc2vec"
   ]
  },
  {
   "cell_type": "code",
   "execution_count": 5,
   "metadata": {
    "collapsed": false,
    "deletable": true,
    "editable": true
   },
   "outputs": [
    {
     "data": {
      "text/plain": [
       "39544"
      ]
     },
     "execution_count": 5,
     "metadata": {},
     "output_type": "execute_result"
    }
   ],
   "source": [
    "# Cleanning the data\n",
    "# Light preprocesing done on purpose (so word2vec understand sentence structure)\n",
    "import re\n",
    "def preprocessor(text):\n",
    "    text = re.sub('<[^>]*>', '', text)\n",
    "    text = re.sub('[\\W]+', ' ', text.lower())\n",
    "    text = text.split()\n",
    "    return text\n",
    "\n",
    "token_review = list(df_hadm_top10_d2v['text'].apply(preprocessor))\n",
    "len(token_review)"
   ]
  },
  {
   "cell_type": "code",
   "execution_count": 13,
   "metadata": {
    "collapsed": false,
    "deletable": true,
    "editable": true
   },
   "outputs": [],
   "source": [
    "#token_review[0]"
   ]
  },
  {
   "cell_type": "code",
   "execution_count": 6,
   "metadata": {
    "collapsed": false,
    "deletable": true,
    "editable": true
   },
   "outputs": [],
   "source": [
    "import gensim\n",
    "LabeledSentence = gensim.models.doc2vec.LabeledSentence\n",
    "    \n",
    "def labelizeReviews(reviews, label_type):\n",
    "    labelized = []\n",
    "    for i,v in enumerate(reviews):\n",
    "        label = '%s_%s'%(label_type,i)\n",
    "        labelized.append(LabeledSentence(v, [label]))\n",
    "    return labelized\n"
   ]
  },
  {
   "cell_type": "code",
   "execution_count": 7,
   "metadata": {
    "collapsed": false,
    "deletable": true,
    "editable": true
   },
   "outputs": [
    {
     "data": {
      "text/plain": [
       "39544"
      ]
     },
     "execution_count": 7,
     "metadata": {},
     "output_type": "execute_result"
    }
   ],
   "source": [
    "sentence=labelizeReviews(token_review, \"note\")\n",
    "len(sentence)"
   ]
  },
  {
   "cell_type": "code",
   "execution_count": 61,
   "metadata": {
    "collapsed": false,
    "deletable": true,
    "editable": true
   },
   "outputs": [
    {
     "name": "stdout",
     "output_type": "stream",
     "text": [
      "0\n",
      "1\n",
      "2\n",
      "3\n",
      "4\n",
      "('Time taken for Doc2vec training: ', 1227.992525100708, 'seconds.')\n"
     ]
    }
   ],
   "source": [
    "from gensim.models import Doc2Vec\n",
    "import gensim.models.doc2vec\n",
    "from gensim import utils\n",
    "from time import time\n",
    "\n",
    "# assumptions: window is 5 words left and right, eliminate words than dont occur in\n",
    "# more than 10 docs, use 4 workers for a quadcore machine. Size is the size of vector\n",
    "# negative=5 implies negative sampling and makes doc2vec faster to train\n",
    "#model = Doc2Vec(sentence, size=100, window=5, workers=4, min_count=5)\n",
    "\n",
    "\n",
    "import random\n",
    "\n",
    "size = 600\n",
    "\n",
    "#instantiate our DM and DBOW models\n",
    "model_dm = Doc2Vec(min_count=10, window=5, size=size, sample=1e-3, negative=5, workers=4)\n",
    "#model_dbow = Doc2Vec(min_count=10, window=5, size=size, sample=1e-3, negative=5, dm=0, workers=4)\n",
    "\n",
    "#build vocab over all reviews\n",
    "model_dm.build_vocab(sentence)\n",
    "#model_dbow.build_vocab(sentence)\n",
    "\n",
    "#We pass through the data set multiple times, shuffling the training reviews each time to improve accuracy.\n",
    "Idx=list(range(len(sentence)))\n",
    "\n",
    "t0 = time()\n",
    "for epoch in range(5):\n",
    "     random.shuffle(Idx)\n",
    "     perm_sentences = [sentence[i] for i in Idx]\n",
    "     model_dm.train(perm_sentences)\n",
    "     print(epoch)\n",
    "    \n",
    "elapsed=time() - t0\n",
    "print(\"Time taken for Doc2vec training: \", elapsed, \"seconds.\")"
   ]
  },
  {
   "cell_type": "code",
   "execution_count": 220,
   "metadata": {
    "collapsed": false,
    "deletable": true,
    "editable": true
   },
   "outputs": [],
   "source": [
    "#Infer a vector for new text => input a list of tokens\n",
    "#model_dm.infer_vector(['the', 'patient', 'is', 'dead', '.'])\n"
   ]
  },
  {
   "cell_type": "code",
   "execution_count": 237,
   "metadata": {
    "collapsed": false,
    "deletable": true,
    "editable": true
   },
   "outputs": [],
   "source": [
    "import gensim\n",
    "# saves the doc2vec model to be used later.\n",
    "#model_dm.save('./data/model_doc2vec_v2_600dim')\n",
    "\n",
    "# open a saved doc2vec model \n",
    "model_dm=gensim.models.Doc2Vec.load('./data/model_doc2vec_v2_600dim')\n",
    "\n",
    "#model_dm.wv.save_word2vec_format('./data/model_doc2vec_v2_600dim.txt', binary=False)\n"
   ]
  },
  {
   "cell_type": "code",
   "execution_count": 49,
   "metadata": {
    "collapsed": false
   },
   "outputs": [],
   "source": [
    "def preprocessor_2(text):\n",
    "    text = re.sub('<[^>]*>', '', text)\n",
    "    text = re.sub('[\\W]+', ' ', text.lower())\n",
    "    #text = text.split()\n",
    "    return text\n",
    "\n",
    "test_set_clean=df_hadm_top10.iloc[idx_test]['text'].apply(preprocessor_2)"
   ]
  },
  {
   "cell_type": "code",
   "execution_count": 238,
   "metadata": {
    "collapsed": false
   },
   "outputs": [],
   "source": [
    "model_dm_600dim=test_set_clean.apply(model_dm.infer_vector)"
   ]
  },
  {
   "cell_type": "code",
   "execution_count": 239,
   "metadata": {
    "collapsed": false
   },
   "outputs": [],
   "source": [
    "import numpy as np\n",
    "\n",
    "train_d2v=np.asarray(model_dm.docvecs)\n",
    "df_train_d2v = pd.DataFrame(data=train_d2v, index=idx_join_train)\n",
    "test_d2v = [tuple(x) for x in model_dm_600dim]\n",
    "df_test_d2v = pd.DataFrame(data=test_d2v, index=idx_test)\n",
    "df_d2v = pd.concat([df_train_d2v,df_test_d2v])\n"
   ]
  },
  {
   "cell_type": "code",
   "execution_count": 240,
   "metadata": {
    "collapsed": false
   },
   "outputs": [
    {
     "data": {
      "text/plain": [
       "52726"
      ]
     },
     "execution_count": 240,
     "metadata": {},
     "output_type": "execute_result"
    }
   ],
   "source": [
    "#len(model_dm.docvecs)\n",
    "#test_set_clean.iloc[0]\n",
    "len(df_d2v)"
   ]
  },
  {
   "cell_type": "code",
   "execution_count": 242,
   "metadata": {
    "collapsed": false
   },
   "outputs": [],
   "source": [
    "#save to drive            \n",
    "df_d2v.to_csv(\"model_doc2vec_v2_600dim_final.csv\")"
   ]
  },
  {
   "cell_type": "code",
   "execution_count": 241,
   "metadata": {
    "collapsed": false,
    "deletable": true,
    "editable": true
   },
   "outputs": [
    {
     "data": {
      "text/plain": [
       "[('sarcoma', 0.3752405643463135),\n",
       " ('adenocarcinoma', 0.36460477113723755),\n",
       " ('cancer', 0.34577974677085876),\n",
       " ('carcinoma', 0.33788567781448364),\n",
       " ('melenoma', 0.3214113116264343),\n",
       " ('mole', 0.3124437928199768),\n",
       " ('leiomyosarcoma', 0.3108573257923126),\n",
       " ('tumor', 0.3053992688655853),\n",
       " ('nevus', 0.30361607670783997),\n",
       " ('lipoma', 0.29490727186203003)]"
      ]
     },
     "execution_count": 241,
     "metadata": {},
     "output_type": "execute_result"
    }
   ],
   "source": [
    "# Find the 10 most similar words\n",
    "model_dm.most_similar('melanoma')"
   ]
  },
  {
   "cell_type": "code",
   "execution_count": 243,
   "metadata": {
    "collapsed": false,
    "deletable": true,
    "editable": true
   },
   "outputs": [
    {
     "data": {
      "text/plain": [
       "[('note_18392', 0.4303767681121826),\n",
       " ('note_22083', 0.4224788248538971),\n",
       " ('note_8182', 0.4058257043361664),\n",
       " ('note_28179', 0.394045352935791),\n",
       " ('note_7600', 0.3888844847679138),\n",
       " ('note_2749', 0.3831929564476013),\n",
       " ('note_34920', 0.3824225664138794),\n",
       " ('note_18099', 0.37785446643829346),\n",
       " ('note_20967', 0.3716892898082733),\n",
       " ('note_790', 0.37038496136665344)]"
      ]
     },
     "execution_count": 243,
     "metadata": {},
     "output_type": "execute_result"
    }
   ],
   "source": [
    "# Find 10 most similar docs\n",
    "model_dm.docvecs.most_similar('note_0')"
   ]
  },
  {
   "cell_type": "code",
   "execution_count": null,
   "metadata": {
    "collapsed": true,
    "deletable": true,
    "editable": true
   },
   "outputs": [],
   "source": []
  }
 ],
 "metadata": {
  "kernelspec": {
   "display_name": "Python 2",
   "language": "python",
   "name": "python2"
  },
  "language_info": {
   "codemirror_mode": {
    "name": "ipython",
    "version": 2
   },
   "file_extension": ".py",
   "mimetype": "text/x-python",
   "name": "python",
   "nbconvert_exporter": "python",
   "pygments_lexer": "ipython2",
   "version": "2.7.13"
  }
 },
 "nbformat": 4,
 "nbformat_minor": 2
}
