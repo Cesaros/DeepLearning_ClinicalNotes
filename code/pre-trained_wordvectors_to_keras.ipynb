{
 "cells": [
  {
   "cell_type": "markdown",
   "metadata": {},
   "source": [
    "I followed this tutorial:\n",
    "https://blog.keras.io/using-pre-trained-word-embeddings-in-a-keras-model.html"
   ]
  },
  {
   "cell_type": "code",
   "execution_count": 1,
   "metadata": {
    "collapsed": true,
    "deletable": true,
    "editable": true
   },
   "outputs": [],
   "source": [
    "from pyspark import SparkContext, SparkConf\n",
    "from pyspark.sql.types import *\n",
    "import pandas as pd"
   ]
  },
  {
   "cell_type": "code",
   "execution_count": 2,
   "metadata": {
    "collapsed": false,
    "deletable": true,
    "editable": true
   },
   "outputs": [
    {
     "name": "stdout",
     "output_type": "stream",
     "text": [
      "       id  4019  2724  25000  4280  41401  53081  51881  42731  5849  5990  \\\n",
      "0  117760     0     0      0     0      0      1      1      0     0     0   \n",
      "1  129030     1     1      0     0      0      1      0      0     0     0   \n",
      "2  172040     0     0      0     0      1      0      0      0     1     0   \n",
      "3  156170     0     0      1     1      0      0      0      1     1     0   \n",
      "4  199180     0     0      1     1      1      0      0      0     0     0   \n",
      "\n",
      "                                                text  \n",
      "0  \"Admission Date:  [**2118-12-14**]            ...  \n",
      "1  Admission Date:  [**2137-8-31**]              ...  \n",
      "2  Admission Date:  [**2174-1-6**]              D...  \n",
      "3  Admission Date:  [**2102-6-9**]              D...  \n",
      "4  Admission Date:  [**2164-7-2**]       Discharg...  \n"
     ]
    }
   ],
   "source": [
    "import pickle\n",
    "\n",
    "conf = SparkConf().setAppName(\"word2vec_keras\").setMaster(\"local3\")\n",
    "sc = SparkContext.getOrCreate(conf)\n",
    "spark = SparkSession.builder.master(\"local3\").appName(\"word2vec_keras\").getOrCreate()\n",
    "\n",
    "ICD9CODES = pickle.load(open(\"./data/ICD9CODES.p\", \"r\"))\n",
    "\n",
    "df_hadm_top10 = pd.read_csv(\"./data/DATA_HADM_TOP10.csv\", escapechar='\\\\')\n",
    "print df_hadm_top10.head()"
   ]
  },
  {
   "cell_type": "code",
   "execution_count": null,
   "metadata": {
    "collapsed": false
   },
   "outputs": [
    {
     "name": "stdout",
     "output_type": "stream",
     "text": [
      "Found 117458 unique tokens.\n"
     ]
    }
   ],
   "source": [
    "from keras.preprocessing.text import Tokenizer\n",
    "from keras.preprocessing.sequence import pad_sequences\n",
    "from nltk.corpus import stopwords\n",
    "\n",
    "STOPWORDS_WORD2VEC = stopwords.words('english') + ICD9CODES\n",
    "\n",
    "def preprocessor_word2vec(text):\n",
    "    text = re.sub('\\[\\*\\*[^\\]]*\\*\\*\\]', '', text)\n",
    "    text = re.sub('<[^>]*>', '', text)\n",
    "    text = re.sub('[\\W]+', ' ', text.lower()) \n",
    "    text = re.sub(\" \\d+\", \" \", text)\n",
    "    \n",
    "    return text\n",
    "\n",
    "texts = df_hadm_top10['text'].apply(preprocessor_word2vec)\n",
    "#texts = df_hadm_top10['text']  # list of text samples\n",
    "#labels_index = {}  # dictionary mapping label name to numeric id\n",
    "#labels = []  # list of label ids\n",
    "\n",
    "toke = Tokenizer()\n",
    "toke.fit_on_texts(texts)\n",
    "sequence = toke.texts_to_sequences(texts)\n",
    "\n",
    "word_index = toke.word_index\n",
    "reverse_word_index = dict(zip(word_index.values(), word_index.keys())) # dict e.g. {1:'the', 2:'a' ...}\n",
    "index_list = word_index.values()\n",
    "\n",
    "print('Found %s unique tokens.' % len(word_index))\n",
    "\n",
    "data = pad_sequences(sequence)\n",
    "\n",
    "#labels = to_categorical(np.asarray(labels))\n",
    "#print('Shape of data tensor:', data.shape)\n",
    "#print('Shape of label tensor:', labels.shape)"
   ]
  },
  {
   "cell_type": "code",
   "execution_count": null,
   "metadata": {
    "collapsed": false
   },
   "outputs": [],
   "source": [
    "import random\n",
    "\n",
    "def separate(seed, N):    \n",
    "    idx=list(range(N))\n",
    "    random.seed(seed)\n",
    "    random.shuffle(idx)\n",
    "    idx_train= idx[0:int(N*0.50)]\n",
    "    idx_val= idx[int(N*0.50):int(N*0.75)]\n",
    "    idx_test= idx[int(N*0.75):N]\n",
    "\n",
    "    return idx_train, idx_val, idx_test\n",
    "\n",
    "\n",
    "idx_train, idx_val, idx_test = separate(1234, df_hadm_top10.shape[0])\n",
    "\n",
    "#labels=['id',`4019`, `2724`,`25000`,`4280`,`41401`,`53081`,`51881`,`42731`,`5849`,`5990`]\n",
    "labels = list(df_hadm_top10.columns)\n",
    "labels.remove('text')\n",
    "labels.remove('id')\n",
    "\n",
    "train_label=df_hadm_top10.loc[idx_train][labels]\n",
    "val_label=df_hadm_top10.loc[idx_val][labels]\n",
    "test_label=df_hadm_top10.loc[idx_test][labels]\n",
    "\n",
    "train_sequence=data[idx_train]\n",
    "val_sequence=data[idx_val]\n",
    "test_sequence=data[idx_test]\n"
   ]
  },
  {
   "cell_type": "code",
   "execution_count": 32,
   "metadata": {
    "collapsed": true
   },
   "outputs": [],
   "source": [
    "# split the data into a training set and a validation set\n",
    "#indices = np.arange(data.shape[0])\n",
    "#np.random.shuffle(indices)\n",
    "#data = data[indices]\n",
    "#labels = labels[indices]\n",
    "#nb_validation_samples = int(VALIDATION_SPLIT * data.shape[0])\n",
    "\n",
    "#x_train = data[:-nb_validation_samples]\n",
    "#y_train = labels[:-nb_validation_samples]\n",
    "#x_val = data[-nb_validation_samples:]\n",
    "#y_val = labels[-nb_validation_samples:]"
   ]
  },
  {
   "cell_type": "markdown",
   "metadata": {
    "collapsed": false,
    "deletable": true,
    "editable": true
   },
   "source": [
    "Preparing the embedding layer"
   ]
  },
  {
   "cell_type": "code",
   "execution_count": 9,
   "metadata": {
    "collapsed": false,
    "deletable": true,
    "editable": true
   },
   "outputs": [
    {
     "name": "stdout",
     "output_type": "stream",
     "text": [
      "Found 33837 word vectors.\n"
     ]
    }
   ],
   "source": [
    "import numpy as np\n",
    "import os\n",
    "\n",
    "embeddings_index = {}\n",
    "f = open(os.path.join(\"./data/\", 'model_word2vec.txt'))\n",
    "for line in f:\n",
    "    values = line.split()\n",
    "    word = values[0]\n",
    "    coefs = np.asarray(values[1:], dtype='float32')\n",
    "    embeddings_index[word] = coefs\n",
    "f.close()\n",
    "\n",
    "print('Found %s word vectors.' % len(embeddings_index))"
   ]
  },
  {
   "cell_type": "code",
   "execution_count": 10,
   "metadata": {
    "collapsed": true
   },
   "outputs": [],
   "source": [
    "# Delete stopwords and ICD9 codes from pre-trained dictionary , \n",
    "# so they will be zeros when we create embedding_matrix\n",
    "\n",
    "from nltk.corpus import stopwords\n",
    "\n",
    "STOPWORDS_WORD2VEC = stopwords.words('english') + ICD9CODES\n",
    "keys_updated = [word for word in embeddings_index.keys() if word not in STOPWORDS_WORD2VEC]\n",
    "index2word_set=set(keys_updated)"
   ]
  },
  {
   "cell_type": "markdown",
   "metadata": {},
   "source": [
    "We leverage our embedding_index dictionary and our word_index to compute our embedding matrix:"
   ]
  },
  {
   "cell_type": "code",
   "execution_count": 12,
   "metadata": {
    "collapsed": false
   },
   "outputs": [],
   "source": [
    "EMBEDDING_DIM=100  # dimensions of the word2vec model\n",
    "embedding_matrix = np.zeros((len(word_index) + 1, EMBEDDING_DIM))\n",
    "for word, i in word_index.items():\n",
    "    if word in index2word_set: \n",
    "        #embedding_vector = embeddings_index.get(word)\n",
    "    #if embedding_vector is not None:\n",
    "        # words not found in embedding index will be all-zeros.\n",
    "        embedding_matrix[i] = embeddings_index.get(word)"
   ]
  },
  {
   "cell_type": "markdown",
   "metadata": {},
   "source": [
    "Finally, we load this embedding matrix into an Embedding layer. Note that we set trainable=False to prevent the weights from being updated during training."
   ]
  },
  {
   "cell_type": "code",
   "execution_count": 13,
   "metadata": {
    "collapsed": false
   },
   "outputs": [],
   "source": [
    "from keras.layers import Embedding\n",
    "\n",
    "MAX_SEQUENCE_LENGTH= len(max(sequence,key=len))  # calculation of maximun sequence length\n",
    "embedding_layer = Embedding(len(word_index) + 1,\n",
    "                            EMBEDDING_DIM,\n",
    "                            weights=[embedding_matrix],\n",
    "                            input_length=MAX_SEQUENCE_LENGTH,\n",
    "                            trainable=False)"
   ]
  },
  {
   "cell_type": "code",
   "execution_count": 26,
   "metadata": {
    "collapsed": false
   },
   "outputs": [
    {
     "name": "stdout",
     "output_type": "stream",
     "text": [
      "           id  4019  2724  25000  4280  41401  53081  51881  42731  5849  5990\n",
      "22653  112108     1     0      0     1      0      0      0      0     0     0\n",
      "14729  136683     1     0      0     0      0      0      0      0     0     0\n",
      "17620  187756     0     0      1     1      0      1      0      1     0     0\n",
      "25598  108901     0     1      0     1      0      0      0      1     0     1\n",
      "48887  138443     0     0      0     0      0      0      0      0     0     0\n",
      "           id  4019  2724  25000  4280  41401  53081  51881  42731  5849  5990\n",
      "2763   103972     0     0      0     0      0      0      0      0     0     0\n",
      "36538  167599     0     0      0     0      0      0      0      0     0     0\n",
      "824    144673     0     0      0     0      0      0      1      0     0     0\n",
      "10865  189107     0     0      0     0      1      0      0      0     0     0\n",
      "50721  116601     1     0      0     0      0      0      0      0     1     0\n",
      "           id  4019  2724  25000  4280  41401  53081  51881  42731  5849  5990\n",
      "28544  177454     0     0      0     0      0      0      0      0     1     0\n",
      "48630  185362     1     0      0     0      0      1      0      0     1     0\n",
      "31338  121116     0     0      0     0      0      0      1      0     0     0\n",
      "38717  119768     0     0      0     0      0      0      0      0     0     0\n",
      "361    101661     0     0      0     0      1      0      0      0     0     0\n",
      "[[ 961  276  558  382   17   47   97 4700   13   21  419  216   49    6\n",
      "   646    4   40  276  399   36]\n",
      " [   9   89   79    1  147    2   40   51  102 4187    4 2205   93   58\n",
      "   472   36  520   58  136  509]\n",
      " [  24 2732    9    1   20 1010   48  217 2692    7   60   57    9  638\n",
      "   484    4 1038   28 1282  597]\n",
      " [ 282   50   33  248    6  352    2  104  372    4  635   40   78  257\n",
      "    17  463  271  134  399   36]\n",
      " [  72   24  110  806  583  594  147  189 1511   17   39    6  382 1033\n",
      "  2777 1304 2046  987 1305 1464]]\n",
      "[[1865  987 1305 1166 1464  583 1109  189 1798   17   47    6 1109  581\n",
      "  1033 1304 1865  987 1305 1464]\n",
      " [ 446    3   53  165   99    4   53  276   50  474  961    1  276    2\n",
      "  6354    1   57  446   36 4110]\n",
      " [ 714  271  134  558  183  529  435  183  529   35   69  558  979 7401\n",
      "   435 2777  511  491   35   69]\n",
      " [  62    1   13   51  832  276    6   80   10   17   43   93   93   58\n",
      "   472   36  520   58  136  509]\n",
      " [ 491   35   69   80   97  228   10   45  276  685  511   80 1798   17\n",
      "    47    3  511  382  399   36]]\n",
      "[[  276    97   228 74171 11740    35    69   558   382   491    35    69\n",
      "    558  2046   242    86   420  6845    35    69]\n",
      " [   50   496    44  5120    49   646     9     1   612   241    97   228\n",
      "     80   564     4   961    45  1972   276   382]\n",
      " [  534   407     7  4286     3 10450   218    94   241    10  6604    18\n",
      "    877    12   204    64   420   476     9   223]\n",
      " [    1    37  2627   345   394    57   165  1250   664     9   346     3\n",
      "    176  1612   517  2724     1    37  1368   393]\n",
      " [   77   979   395     4     1   668   979 30615   583    10     7    60\n",
      "     88   589   692   593    53   276   399    36]]\n"
     ]
    }
   ],
   "source": [
    "import numpy as np\n",
    "print train_label.head()\n",
    "print val_label.head()\n",
    "print test_label.head()\n",
    "\n",
    "train_label = n\n",
    "print train_sequence[:5,:]\n",
    "print val_sequence[:5,:]\n",
    "print test_sequence[:5,:]\n",
    "\n"
   ]
  },
  {
   "cell_type": "code",
   "execution_count": null,
   "metadata": {
    "collapsed": true
   },
   "outputs": [],
   "source": []
  }
 ],
 "metadata": {
  "anaconda-cloud": {},
  "kernelspec": {
   "display_name": "Apache Toree - PySpark",
   "language": "python",
   "name": "apache_toree_pyspark"
  },
  "language_info": {
   "file_extension": ".py",
   "name": "python",
   "pygments_lexer": "python",
   "version": "2.7.13\n"
  }
 },
 "nbformat": 4,
 "nbformat_minor": 2
}
