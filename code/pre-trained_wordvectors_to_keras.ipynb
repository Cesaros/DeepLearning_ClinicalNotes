{
 "cells": [
  {
   "cell_type": "code",
   "execution_count": 2,
   "metadata": {
    "collapsed": true,
    "deletable": true,
    "editable": true
   },
   "outputs": [],
   "source": [
    "from pyspark import SparkContext, SparkConf\n",
    "from pyspark.sql.types import *\n",
    "import pandas as pd"
   ]
  },
  {
   "cell_type": "code",
   "execution_count": 3,
   "metadata": {
    "collapsed": false,
    "deletable": true,
    "editable": true
   },
   "outputs": [
    {
     "name": "stdout",
     "output_type": "stream",
     "text": [
      "       id  4019  2724  25000  4280  41401  53081  51881  42731  5849  5990  \\\n",
      "0  117760     0     0      0     0      0      1      1      0     0     0   \n",
      "1  129030     1     1      0     0      0      1      0      0     0     0   \n",
      "2  172040     0     0      0     0      1      0      0      0     1     0   \n",
      "3  156170     0     0      1     1      0      0      0      1     1     0   \n",
      "4  199180     0     0      1     1      1      0      0      0     0     0   \n",
      "\n",
      "                                                text  \n",
      "0  \"Admission Date:  [**2118-12-14**]            ...  \n",
      "1  Admission Date:  [**2137-8-31**]              ...  \n",
      "2  Admission Date:  [**2174-1-6**]              D...  \n",
      "3  Admission Date:  [**2102-6-9**]              D...  \n",
      "4  Admission Date:  [**2164-7-2**]       Discharg...  \n",
      "+------+----+----+-----+----+-----+-----+-----+-----+----+----+--------------------+\n",
      "|    id|4019|2724|25000|4280|41401|53081|51881|42731|5849|5990|                text|\n",
      "+------+----+----+-----+----+-----+-----+-----+-----+----+----+--------------------+\n",
      "|117760|   0|   0|    0|   0|    0|    1|    1|    0|   0|   0|\"Admission Date: ...|\n",
      "|129030|   1|   1|    0|   0|    0|    1|    0|    0|   0|   0|Admission Date:  ...|\n",
      "|172040|   0|   0|    0|   0|    1|    0|    0|    0|   1|   0|Admission Date:  ...|\n",
      "|156170|   0|   0|    1|   1|    0|    0|    0|    1|   1|   0|Admission Date:  ...|\n",
      "|199180|   0|   0|    1|   1|    1|    0|    0|    0|   0|   0|Admission Date:  ...|\n",
      "|167440|   0|   0|    1|   0|    1|    0|    1|    0|   0|   0|\"Admission Date: ...|\n",
      "|194580|   0|   0|    0|   0|    0|    0|    0|    0|   0|   0|Admission Date:  ...|\n",
      "|178710|   0|   0|    0|   0|    0|    0|    0|    0|   1|   0|\"Admission Date: ...|\n",
      "|162840|   0|   1|    0|   1|    0|    0|    0|    1|   0|   0|Admission Date:  ...|\n",
      "|189980|   1|   0|    1|   1|    0|    0|    0|    0|   0|   0|Admission Date: [...|\n",
      "|142370|   0|   0|    0|   1|    1|    0|    0|    0|   0|   0|\"Admission Date: ...|\n",
      "|185380|   0|   0|    0|   0|    0|    0|    0|    0|   0|   0|Unit No:  [**Nume...|\n",
      "|169510|   0|   0|    0|   0|    0|    0|    0|    0|   0|   0|Admission Date:  ...|\n",
      "|153640|   0|   0|    0|   0|    1|    0|    1|    0|   0|   0|Admission Date:  ...|\n",
      "|196650|   0|   0|    0|   0|    0|    0|    0|    0|   0|   0|Admission Date: [...|\n",
      "|180780|   0|   0|    0|   0|    0|    0|    1|    0|   1|   0|\"Admission Date: ...|\n",
      "|149040|   1|   0|    0|   0|    1|    0|    1|    0|   0|   0|\"Admission Date: ...|\n",
      "|117300|   0|   0|    0|   0|    0|    0|    0|    0|   0|   0|Admission Date:  ...|\n",
      "|196190|   0|   0|    0|   0|    0|    0|    0|    0|   0|   0|Admission Date:  ...|\n",
      "|101430|   1|   1|    1|   0|    1|    0|    0|    0|   0|   0|Admission Date:  ...|\n",
      "+------+----+----+-----+----+-----+-----+-----+-----+----+----+--------------------+\n",
      "only showing top 20 rows\n",
      "\n"
     ]
    }
   ],
   "source": [
    "import pickle\n",
    "\n",
    "conf = SparkConf().setAppName(\"word2vec_keras\").setMaster(\"local3\")\n",
    "sc = SparkContext.getOrCreate(conf)\n",
    "spark = SparkSession.builder.master(\"local3\").appName(\"word2vec_keras\").getOrCreate()\n",
    "\n",
    "ICD9CODES = pickle.load(open(\"./data/ICD9CODES.p\", \"r\"))\n",
    "\n",
    "df_hadm_top10 = pd.read_csv(\"/Volumes/EXTERNAL1/MIMICIII/DATA_HADM_TOP10.csv\", escapechar='\\\\')\n",
    "df_hadm_top10_2 = spark.read.csv(\"/Volumes/EXTERNAL1/MIMICIII/DATA_HADM_TOP10.csv\", header=True, inferSchema=True)\n",
    "print df_hadm_top10.head()\n",
    "df_hadm_top10_2.show()\n"
   ]
  },
  {
   "cell_type": "code",
   "execution_count": 94,
   "metadata": {
    "collapsed": false
   },
   "outputs": [
    {
     "name": "stdout",
     "output_type": "stream",
     "text": [
      "Found 117458 unique tokens.\n"
     ]
    }
   ],
   "source": [
    "from keras.preprocessing.text import Tokenizer\n",
    "from keras.preprocessing.sequence import pad_sequences\n",
    "from nltk.corpus import stopwords\n",
    "\n",
    "STOPWORDS_WORD2VEC = stopwords.words('english') + ICD9CODES\n",
    "\n",
    "def preprocessor_word2vec(text):\n",
    "    text = re.sub('\\[\\*\\*[^\\]]*\\*\\*\\]', '', text)\n",
    "    text = re.sub('<[^>]*>', '', text)\n",
    "    text = re.sub('[\\W]+', ' ', text.lower()) \n",
    "    text = re.sub(\" \\d+\", \" \", text)\n",
    "    \n",
    "    return text\n",
    "\n",
    "texts = df_hadm_top10['text'].apply(preprocessor_word2vec)\n",
    "#texts = df_hadm_top10['text']  # list of text samples\n",
    "#labels_index = {}  # dictionary mapping label name to numeric id\n",
    "#labels = []  # list of label ids\n",
    "\n",
    "labels=['id',`4019`, `2724`,`25000`,`4280`,`41401`,`53081`,`51881`,`42731`,`5849`,`5990`]\n",
    "\n",
    "toke = Tokenizer()\n",
    "toke.fit_on_texts(texts)\n",
    "sequence = toke.texts_to_sequences(texts)\n",
    "\n",
    "word_index = toke.word_index\n",
    "reverse_word_index = dict(zip(word_index.values(), word_index.keys())) # dict e.g. {1:'the', 2:'a' ...}\n",
    "index_list = word_index.values()\n",
    "\n",
    "print('Found %s unique tokens.' % len(word_index))\n",
    "\n",
    "#data = pad_sequences(sequence, maxlen=40000)\n",
    "\n",
    "#labels = to_categorical(np.asarray(labels))\n",
    "#print('Shape of data tensor:', data.shape)\n",
    "#print('Shape of label tensor:', labels.shape)"
   ]
  },
  {
   "cell_type": "code",
   "execution_count": 95,
   "metadata": {
    "collapsed": true
   },
   "outputs": [],
   "source": [
    "import random\n",
    "\n",
    "def separate(seed, N):    \n",
    "    idx=list(range(N))\n",
    "    random.seed(seed)\n",
    "    random.shuffle(idx)\n",
    "    idx_train= idx[0:int(N*0.50)]\n",
    "    idx_val= idx[int(N*0.50):int(N*0.75)]\n",
    "    idx_test= idx[int(N*0.75):N]\n",
    "\n",
    "    return idx_train, idx_val, idx_test\n",
    "\n",
    "\n",
    "idx_train, idx_val, idx_test = separate(1234, df_hadm_top10.shape[0])\n",
    "\n",
    "labels=['id',`4019`, `2724`,`25000`,`4280`,`41401`,`53081`,`51881`,`42731`,`5849`,`5990`]\n",
    "\n",
    "train_label=df_hadm_top10.loc[idx_train][labels]\n",
    "val_label=df_hadm_top10.loc[idx_val][labels]\n",
    "test_label=df_hadm_top10.loc[idx_test][labels]\n",
    "\n",
    "train_sequence=texts[idx_train]\n",
    "val_sequence=texts[idx_val]\n",
    "test_sequence=texts[idx_test]\n"
   ]
  },
  {
   "cell_type": "code",
   "execution_count": 32,
   "metadata": {
    "collapsed": true
   },
   "outputs": [],
   "source": [
    "# split the data into a training set and a validation set\n",
    "#indices = np.arange(data.shape[0])\n",
    "#np.random.shuffle(indices)\n",
    "#data = data[indices]\n",
    "#labels = labels[indices]\n",
    "#nb_validation_samples = int(VALIDATION_SPLIT * data.shape[0])\n",
    "\n",
    "#x_train = data[:-nb_validation_samples]\n",
    "#y_train = labels[:-nb_validation_samples]\n",
    "#x_val = data[-nb_validation_samples:]\n",
    "#y_val = labels[-nb_validation_samples:]"
   ]
  },
  {
   "cell_type": "markdown",
   "metadata": {
    "collapsed": false,
    "deletable": true,
    "editable": true
   },
   "source": [
    "Preparing the embedding layer"
   ]
  },
  {
   "cell_type": "code",
   "execution_count": 34,
   "metadata": {
    "collapsed": false,
    "deletable": true,
    "editable": true
   },
   "outputs": [
    {
     "name": "stdout",
     "output_type": "stream",
     "text": [
      "Found 33837 word vectors.\n"
     ]
    }
   ],
   "source": [
    "import numpy as np\n",
    "\n",
    "embeddings_index = {}\n",
    "f = open(os.path.join(\"./data/\", 'model_word2vec.txt'))\n",
    "for line in f:\n",
    "    values = line.split()\n",
    "    word = values[0]\n",
    "    coefs = np.asarray(values[1:], dtype='float32')\n",
    "    embeddings_index[word] = coefs\n",
    "f.close()\n",
    "\n",
    "print('Found %s word vectors.' % len(embeddings_index))"
   ]
  },
  {
   "cell_type": "code",
   "execution_count": 124,
   "metadata": {
    "collapsed": true
   },
   "outputs": [],
   "source": [
    "# Delete stopwords and ICD9 codes from pre-trained dictionary , \n",
    "# so they will be zeros when we create embedding_matrix\n",
    "\n",
    "from nltk.corpus import stopwords\n",
    "\n",
    "STOPWORDS_WORD2VEC = stopwords.words('english') + ICD9CODES\n",
    "keys_updated = [word for word in embeddings_index.keys() if word not in STOPWORDS_WORD2VEC]\n",
    "index2word_set=set(keys_updated)"
   ]
  },
  {
   "cell_type": "markdown",
   "metadata": {},
   "source": [
    "We leverage our embedding_index dictionary and our word_index to compute our embedding matrix:"
   ]
  },
  {
   "cell_type": "code",
   "execution_count": 136,
   "metadata": {
    "collapsed": false
   },
   "outputs": [],
   "source": [
    "EMBEDDING_DIM=100  # dimensions of the word2vec model\n",
    "embedding_matrix = np.zeros((len(word_index) + 1, EMBEDDING_DIM))\n",
    "for word, i in word_index.items():\n",
    "    if word in index2word_set: \n",
    "        #embedding_vector = embeddings_index.get(word)\n",
    "    #if embedding_vector is not None:\n",
    "        # words not found in embedding index will be all-zeros.\n",
    "        embedding_matrix[i] = embedding_vector"
   ]
  },
  {
   "cell_type": "markdown",
   "metadata": {},
   "source": [
    "Finally, we load this embedding matrix into an Embedding layer. Note that we set trainable=False to prevent the weights from being updated during training."
   ]
  },
  {
   "cell_type": "code",
   "execution_count": 138,
   "metadata": {
    "collapsed": false
   },
   "outputs": [],
   "source": [
    "from keras.layers import Embedding\n",
    "\n",
    "MAX_SEQUENCE_LENGTH= len(max(sequence,key=len))  # calculation of maximun sequence length\n",
    "embedding_layer = Embedding(len(word_index) + 1,\n",
    "                            EMBEDDING_DIM,\n",
    "                            weights=[embedding_matrix],\n",
    "                            input_length=MAX_SEQUENCE_LENGTH,\n",
    "                            trainable=False)"
   ]
  },
  {
   "cell_type": "code",
   "execution_count": null,
   "metadata": {
    "collapsed": true
   },
   "outputs": [],
   "source": []
  }
 ],
 "metadata": {
  "kernelspec": {
   "display_name": "Python 2",
   "language": "python",
   "name": "python2"
  },
  "language_info": {
   "codemirror_mode": {
    "name": "ipython",
    "version": 2
   },
   "file_extension": ".py",
   "mimetype": "text/x-python",
   "name": "python",
   "nbconvert_exporter": "python",
   "pygments_lexer": "ipython2",
   "version": "2.7.13"
  }
 },
 "nbformat": 4,
 "nbformat_minor": 2
}
