{
 "cells": [
  {
   "cell_type": "markdown",
   "metadata": {
    "deletable": true,
    "editable": true
   },
   "source": [
    "#### Dependecies\n",
    "\n",
    "scipy = 0.17.0\n",
    "gensim = 1.0.1\n",
    "pandas = 0.19.2\n",
    "numpy = 1.11.2\n",
    "\n",
    "#### I used the following code in Pyspark to generate and save on disk the csv file below\n",
    "\n",
    "select_noteevents2 = spark.sql(\"\"\"\n",
    "SELECT text\n",
    "FROM noteevents2\n",
    "\"\"\")\n",
    "\n",
    "select_noteevents2.coalesce(1).write.csv(\"/Volumes/EXTERNAL1/MIMICIII/select_noteevents2-v3\", header=True)\n",
    "\n",
    "select_noteevents3 = spark.sql(\"\"\"\n",
    "SELECT subject_id, hadm_id\n",
    "FROM noteevents2\n",
    "\"\"\")\n",
    "\n",
    "select_noteevents3.coalesce(1).write.csv(\"/Volumes/EXTERNAL1/MIMICIII/select_noteevents2-v4\", header=True)\n",
    "\n",
    "#### then I proceed to open a new notebook to run pandas and gensim "
   ]
  },
  {
   "cell_type": "code",
   "execution_count": 2,
   "metadata": {
    "collapsed": false,
    "deletable": true,
    "editable": true
   },
   "outputs": [
    {
     "name": "stderr",
     "output_type": "stream",
     "text": [
      "/Users/cesarosorio/anaconda/envs/BDFH_project/lib/python2.7/site-packages/ipykernel/__main__.py:2: ParserWarning: Falling back to the 'python' engine because the 'c' engine does not support regex separators (separators > 1 char and different from '\\s+' are interpreted as regex); you can avoid this warning by specifying engine='python'.\n",
      "  from ipykernel import kernelapp as app\n"
     ]
    },
    {
     "data": {
      "text/html": [
       "<div>\n",
       "<table border=\"1\" class=\"dataframe\">\n",
       "  <thead>\n",
       "    <tr style=\"text-align: right;\">\n",
       "      <th></th>\n",
       "      <th>text</th>\n",
       "    </tr>\n",
       "  </thead>\n",
       "  <tbody>\n",
       "    <tr>\n",
       "      <th>0</th>\n",
       "      <td>\"Admission Date:  [**2183-9-25**]       Discha...</td>\n",
       "    </tr>\n",
       "    <tr>\n",
       "      <th>1</th>\n",
       "      <td>\"Admission Date:  [**2184-1-16**]       Discha...</td>\n",
       "    </tr>\n",
       "    <tr>\n",
       "      <th>2</th>\n",
       "      <td>\"Admission Date:  [**2103-4-11**]             ...</td>\n",
       "    </tr>\n",
       "    <tr>\n",
       "      <th>3</th>\n",
       "      <td>\"Admission Date:  [**2103-10-7**]       Discha...</td>\n",
       "    </tr>\n",
       "    <tr>\n",
       "      <th>4</th>\n",
       "      <td>\"\\\"Admission Date:  [**2131-4-2**]            ...</td>\n",
       "    </tr>\n",
       "  </tbody>\n",
       "</table>\n",
       "</div>"
      ],
      "text/plain": [
       "                                                text\n",
       "0  \"Admission Date:  [**2183-9-25**]       Discha...\n",
       "1  \"Admission Date:  [**2184-1-16**]       Discha...\n",
       "2  \"Admission Date:  [**2103-4-11**]             ...\n",
       "3  \"Admission Date:  [**2103-10-7**]       Discha...\n",
       "4  \"\\\"Admission Date:  [**2131-4-2**]            ..."
      ]
     },
     "execution_count": 2,
     "metadata": {},
     "output_type": "execute_result"
    }
   ],
   "source": [
    "import pandas as pd\n",
    "df = pd.read_csv('/Volumes/EXTERNAL1/MIMICIII/select_noteevents2-v3/part-00000-ac3edd68-1571-4e16-a2c6-ada909da0eea.csv',sep='delimiter')\n",
    "df.head(5)"
   ]
  },
  {
   "cell_type": "code",
   "execution_count": 2,
   "metadata": {
    "collapsed": false,
    "deletable": true,
    "editable": true
   },
   "outputs": [
    {
     "data": {
      "text/html": [
       "<div>\n",
       "<table border=\"1\" class=\"dataframe\">\n",
       "  <thead>\n",
       "    <tr style=\"text-align: right;\">\n",
       "      <th></th>\n",
       "      <th>subject_id</th>\n",
       "      <th>hadm_id</th>\n",
       "    </tr>\n",
       "  </thead>\n",
       "  <tbody>\n",
       "    <tr>\n",
       "      <th>0</th>\n",
       "      <td>20007</td>\n",
       "      <td>188442</td>\n",
       "    </tr>\n",
       "    <tr>\n",
       "      <th>1</th>\n",
       "      <td>20007</td>\n",
       "      <td>193793</td>\n",
       "    </tr>\n",
       "    <tr>\n",
       "      <th>2</th>\n",
       "      <td>59883</td>\n",
       "      <td>118446</td>\n",
       "    </tr>\n",
       "    <tr>\n",
       "      <th>3</th>\n",
       "      <td>17043</td>\n",
       "      <td>157985</td>\n",
       "    </tr>\n",
       "    <tr>\n",
       "      <th>4</th>\n",
       "      <td>7019</td>\n",
       "      <td>189488</td>\n",
       "    </tr>\n",
       "  </tbody>\n",
       "</table>\n",
       "</div>"
      ],
      "text/plain": [
       "   subject_id  hadm_id\n",
       "0       20007   188442\n",
       "1       20007   193793\n",
       "2       59883   118446\n",
       "3       17043   157985\n",
       "4        7019   189488"
      ]
     },
     "execution_count": 2,
     "metadata": {},
     "output_type": "execute_result"
    }
   ],
   "source": [
    "df_ids = pd.read_csv('/Volumes/EXTERNAL1/MIMICIII/select_noteevents2-v4/part-00000-9b6dc461-8bf9-4ae4-b626-2156a12031ab.csv')\n",
    "df_ids.head(5)"
   ]
  },
  {
   "cell_type": "code",
   "execution_count": null,
   "metadata": {
    "collapsed": true,
    "deletable": true,
    "editable": true
   },
   "outputs": [],
   "source": [
    "# Cleanning the data\n",
    "import re\n",
    "def preprocessor(text):\n",
    "    text = re.sub('<[^>]*>', '', text)\n",
    "    text = re.sub('[\\W]+', ' ', text.lower()) \n",
    "    return text\n",
    "\n",
    "df['text3'] = df['text'].apply(preprocessor)"
   ]
  },
  {
   "cell_type": "code",
   "execution_count": null,
   "metadata": {
    "collapsed": true,
    "deletable": true,
    "editable": true
   },
   "outputs": [],
   "source": [
    "# Create tokens\n",
    "token_review=[]\n",
    "for i in range(df['text3'].shape[0]):\n",
    "    review = df['text3'][i]\n",
    "    token_review.append([i for i in review.split()])\n",
    "\n",
    "len(token_review)"
   ]
  },
  {
   "cell_type": "markdown",
   "metadata": {
    "deletable": true,
    "editable": true
   },
   "source": [
    "### Apply Word2Vec"
   ]
  },
  {
   "cell_type": "code",
   "execution_count": 26,
   "metadata": {
    "collapsed": false,
    "deletable": true,
    "editable": true
   },
   "outputs": [
    {
     "name": "stdout",
     "output_type": "stream",
     "text": [
      "0\n",
      "1\n",
      "2\n",
      "3\n",
      "4\n",
      "('Time taken for Word2vec training: ', 766.5733489990234, 'seconds.')\n"
     ]
    }
   ],
   "source": [
    "from gensim.models import Word2Vec\n",
    "#import gensim.models.Word2Vec\n",
    "from gensim import utils\n",
    "from time import time\n",
    "\n",
    "# assumptions: window is 5 words left and right, eliminate words than dont occur in\n",
    "# more than 10 docs, use 4 workers for a quadcore machine. Size is the size of vector\n",
    "# negative=5 implies negative sampling and makes doc2vec faster to train\n",
    "#model = Doc2Vec(sentence, size=100, window=5, workers=4, min_count=5)\n",
    "\n",
    "\n",
    "import random\n",
    "\n",
    "size = 100\n",
    "\n",
    "#instantiate our  model\n",
    "model_w2v = Word2Vec(min_count=10, window=5, size=size, sample=1e-3, negative=5, workers=4)\n",
    "\n",
    "#build vocab over all reviews\n",
    "model_w2v.build_vocab(token_review)\n",
    "\n",
    "#We pass through the data set multiple times, shuffling the training reviews each time to improve accuracy.\n",
    "Idx=list(range(len(token_review)))\n",
    "\n",
    "t0 = time()\n",
    "for epoch in range(5):\n",
    "     random.shuffle(Idx)\n",
    "     perm_sentences = [token_review[i] for i in Idx]\n",
    "     model_w2v.train(perm_sentences)\n",
    "     print(epoch)\n",
    "    \n",
    "elapsed=time() - t0\n",
    "print(\"Time taken for Word2vec training: \", elapsed, \"seconds.\")"
   ]
  },
  {
   "cell_type": "code",
   "execution_count": 3,
   "metadata": {
    "collapsed": false,
    "deletable": true,
    "editable": true
   },
   "outputs": [],
   "source": [
    "# saves the word2vec model to be used later.\n",
    "#model_w2v.save('./model_word2vec')\n",
    "\n",
    "# open a saved word2vec model \n",
    "#import gensim\n",
    "#model_w2v=gensim.models.Word2Vec.load('./model_word2vec')\n",
    "\n",
    "\n",
    "#model_w2v.wv.save_word2vec_format('./model_word2vec.txt', binary=False)\n",
    "\n"
   ]
  },
  {
   "cell_type": "markdown",
   "metadata": {
    "deletable": true,
    "editable": true
   },
   "source": [
    "#### Run  if you are using Glove type format\n"
   ]
  },
  {
   "cell_type": "code",
   "execution_count": 6,
   "metadata": {
    "collapsed": false,
    "deletable": true,
    "editable": true
   },
   "outputs": [
    {
     "name": "stdout",
     "output_type": "stream",
     "text": [
      "Loading Glove Model\n",
      "('Done.', 33837, ' words loaded!')\n"
     ]
    }
   ],
   "source": [
    "# Run this cell if you are using Glove type format\n",
    "def loadGloveModel(gloveFile):\n",
    "    print(\"Loading Glove Model\")\n",
    "    f = open(gloveFile,'r')\n",
    "    model = {}\n",
    "    for line in f:\n",
    "        splitLine = line.split()\n",
    "        word = splitLine[0]\n",
    "        embedding = [float(val) for val in splitLine[1:]]\n",
    "        model[word] = embedding\n",
    "    print(\"Done.\",len(model),\" words loaded!\")\n",
    "    return model\n",
    "\n",
    "model_w2v=loadGloveModel(\"./model_word2vec.txt\")"
   ]
  },
  {
   "cell_type": "code",
   "execution_count": 1,
   "metadata": {
    "collapsed": false,
    "deletable": true,
    "editable": true
   },
   "outputs": [
    {
     "name": "stderr",
     "output_type": "stream",
     "text": [
      "/Users/cesarosorio/anaconda/envs/BDFH_project/lib/python2.7/site-packages/ipykernel/__main__.py:3: ParserWarning: Falling back to the 'python' engine because the 'c' engine does not support regex separators (separators > 1 char and different from '\\s+' are interpreted as regex); you can avoid this warning by specifying engine='python'.\n",
      "  app.launch_new_instance()\n"
     ]
    },
    {
     "data": {
      "text/html": [
       "<div>\n",
       "<table border=\"1\" class=\"dataframe\">\n",
       "  <thead>\n",
       "    <tr style=\"text-align: right;\">\n",
       "      <th></th>\n",
       "      <th>text</th>\n",
       "    </tr>\n",
       "  </thead>\n",
       "  <tbody>\n",
       "    <tr>\n",
       "      <th>0</th>\n",
       "      <td>\"\\\"Admission Date:  [**2118-12-14**]          ...</td>\n",
       "    </tr>\n",
       "    <tr>\n",
       "      <th>1</th>\n",
       "      <td>\"Admission Date:  [**2137-8-31**]             ...</td>\n",
       "    </tr>\n",
       "    <tr>\n",
       "      <th>2</th>\n",
       "      <td>\"Admission Date:  [**2174-1-6**]              ...</td>\n",
       "    </tr>\n",
       "    <tr>\n",
       "      <th>3</th>\n",
       "      <td>\"Admission Date:  [**2102-6-9**]              ...</td>\n",
       "    </tr>\n",
       "    <tr>\n",
       "      <th>4</th>\n",
       "      <td>\"Admission Date:  [**2164-7-2**]       Dischar...</td>\n",
       "    </tr>\n",
       "  </tbody>\n",
       "</table>\n",
       "</div>"
      ],
      "text/plain": [
       "                                                text\n",
       "0  \"\\\"Admission Date:  [**2118-12-14**]          ...\n",
       "1  \"Admission Date:  [**2137-8-31**]             ...\n",
       "2  \"Admission Date:  [**2174-1-6**]              ...\n",
       "3  \"Admission Date:  [**2102-6-9**]              ...\n",
       "4  \"Admission Date:  [**2164-7-2**]       Dischar..."
      ]
     },
     "execution_count": 1,
     "metadata": {},
     "output_type": "execute_result"
    }
   ],
   "source": [
    "# Code I used on PySpark to create tables below\n",
    "\n",
    "#df_labels=get_id_to_texticd9(\"hadm_id\", 10)[0]\n",
    "#df_labels.registerTempTable(\"labels\")\n",
    "#select_text = spark.sql(\"\"\" SELECT text FROM labels \"\"\")\n",
    "#select_labels = spark.sql(\"\"\" SELECT id, `4019`, `2724`,`25000`,`4280`,`41401`,`53081`,`51881`,`42731`,`5849`,`5990` FROM labels \"\"\")\n",
    "#select_text.coalesce(1).write.csv(\"/Volumes/EXTERNAL1/MIMICIII/select_text\", header=True)\n",
    "#select_labels.coalesce(1).write.csv(\"/Volumes/EXTERNAL1/MIMICIII/select_labels\", header=True)\n",
    "\n",
    "#import data\n",
    "import pandas as pd\n",
    "df = pd.read_csv('/Volumes/EXTERNAL1/MIMICIII/select_text/part-00000-06489b47-a266-4613-b2f7-aa7031961e44.csv', sep='delimiter')\n",
    "df.head(5)"
   ]
  },
  {
   "cell_type": "code",
   "execution_count": 3,
   "metadata": {
    "collapsed": false
   },
   "outputs": [
    {
     "data": {
      "text/html": [
       "<div>\n",
       "<table border=\"1\" class=\"dataframe\">\n",
       "  <thead>\n",
       "    <tr style=\"text-align: right;\">\n",
       "      <th></th>\n",
       "      <th>id</th>\n",
       "      <th>4019</th>\n",
       "      <th>2724</th>\n",
       "      <th>25000</th>\n",
       "      <th>4280</th>\n",
       "      <th>41401</th>\n",
       "      <th>53081</th>\n",
       "      <th>51881</th>\n",
       "      <th>42731</th>\n",
       "      <th>5849</th>\n",
       "      <th>5990</th>\n",
       "    </tr>\n",
       "  </thead>\n",
       "  <tbody>\n",
       "    <tr>\n",
       "      <th>0</th>\n",
       "      <td>117760</td>\n",
       "      <td>0</td>\n",
       "      <td>0</td>\n",
       "      <td>0</td>\n",
       "      <td>0</td>\n",
       "      <td>0</td>\n",
       "      <td>1</td>\n",
       "      <td>1</td>\n",
       "      <td>0</td>\n",
       "      <td>0</td>\n",
       "      <td>0</td>\n",
       "    </tr>\n",
       "    <tr>\n",
       "      <th>1</th>\n",
       "      <td>129030</td>\n",
       "      <td>1</td>\n",
       "      <td>1</td>\n",
       "      <td>0</td>\n",
       "      <td>0</td>\n",
       "      <td>0</td>\n",
       "      <td>1</td>\n",
       "      <td>0</td>\n",
       "      <td>0</td>\n",
       "      <td>0</td>\n",
       "      <td>0</td>\n",
       "    </tr>\n",
       "    <tr>\n",
       "      <th>2</th>\n",
       "      <td>172040</td>\n",
       "      <td>0</td>\n",
       "      <td>0</td>\n",
       "      <td>0</td>\n",
       "      <td>0</td>\n",
       "      <td>1</td>\n",
       "      <td>0</td>\n",
       "      <td>0</td>\n",
       "      <td>0</td>\n",
       "      <td>1</td>\n",
       "      <td>0</td>\n",
       "    </tr>\n",
       "    <tr>\n",
       "      <th>3</th>\n",
       "      <td>156170</td>\n",
       "      <td>0</td>\n",
       "      <td>0</td>\n",
       "      <td>1</td>\n",
       "      <td>1</td>\n",
       "      <td>0</td>\n",
       "      <td>0</td>\n",
       "      <td>0</td>\n",
       "      <td>1</td>\n",
       "      <td>1</td>\n",
       "      <td>0</td>\n",
       "    </tr>\n",
       "    <tr>\n",
       "      <th>4</th>\n",
       "      <td>199180</td>\n",
       "      <td>0</td>\n",
       "      <td>0</td>\n",
       "      <td>1</td>\n",
       "      <td>1</td>\n",
       "      <td>1</td>\n",
       "      <td>0</td>\n",
       "      <td>0</td>\n",
       "      <td>0</td>\n",
       "      <td>0</td>\n",
       "      <td>0</td>\n",
       "    </tr>\n",
       "  </tbody>\n",
       "</table>\n",
       "</div>"
      ],
      "text/plain": [
       "       id  4019  2724  25000  4280  41401  53081  51881  42731  5849  5990\n",
       "0  117760     0     0      0     0      0      1      1      0     0     0\n",
       "1  129030     1     1      0     0      0      1      0      0     0     0\n",
       "2  172040     0     0      0     0      1      0      0      0     1     0\n",
       "3  156170     0     0      1     1      0      0      0      1     1     0\n",
       "4  199180     0     0      1     1      1      0      0      0     0     0"
      ]
     },
     "execution_count": 3,
     "metadata": {},
     "output_type": "execute_result"
    }
   ],
   "source": [
    "#import data\n",
    "import pandas as pd\n",
    "df_labels = pd.read_csv('/Volumes/EXTERNAL1/MIMICIII/select_labels/part-00000-8c86e2d9-b1a9-493e-815e-372ed1d8cd84.csv')\n",
    "df_labels.head(5)"
   ]
  },
  {
   "cell_type": "code",
   "execution_count": 4,
   "metadata": {
    "collapsed": false,
    "deletable": true,
    "editable": true
   },
   "outputs": [
    {
     "data": {
      "text/plain": [
       "40562"
      ]
     },
     "execution_count": 4,
     "metadata": {},
     "output_type": "execute_result"
    }
   ],
   "source": [
    "# Cleanning the data\n",
    "import re\n",
    "\n",
    "def preprocessor(text):\n",
    "    text = re.sub('<[^>]*>', '', text)\n",
    "    text = re.sub('[\\W]+', ' ', text.lower()) \n",
    "    text = re.sub(\" \\d+\", \" \", text)\n",
    "    #text = gensim.parsing.preprocessing.remove_stopwords(text)\n",
    "    return text\n",
    "\n",
    "\n",
    "df['text3'] = df['text'].apply(preprocessor)\n",
    "\n",
    "# Create tokens\n",
    "token_review=[]\n",
    "for i in range(df['text3'].shape[0]):\n",
    "    review = df['text3'][i]\n",
    "    token_review.append([i for i in review.split()])\n",
    "\n",
    "len(token_review)"
   ]
  },
  {
   "cell_type": "code",
   "execution_count": 7,
   "metadata": {
    "collapsed": false,
    "deletable": true,
    "editable": true
   },
   "outputs": [],
   "source": [
    "import numpy as np  # Make sure that numpy is imported\n",
    "from nltk.corpus import stopwords\n",
    "\n",
    "keys_updated = [word for word in model_w2v.keys() if word not in stopwords.words('english')]\n",
    "index2word_set=set(keys_updated)\n",
    "\n",
    "def makeFeatureVec(words, model, num_features):\n",
    "    # Function to average all of the word vectors in a given\n",
    "    # paragraph\n",
    "    #\n",
    "    # Pre-initialize an empty numpy array (for speed)\n",
    "    featureVec = np.zeros((num_features,),dtype=\"float32\")\n",
    "    #\n",
    "    nwords = 0.\n",
    "    # \n",
    "    # Index2word is a list that contains the names of the words in \n",
    "    # the model's vocabulary. Convert it to a set, for speed \n",
    "    #index2word_set = set(model.wv.index2word) #activate if using gensim\n",
    "\n",
    "    # activate if uploaded text version\n",
    "    #index2word_set=set(keys_updated)\n",
    "    \n",
    "    \n",
    "    #\n",
    "    # Loop over each word in the review and, if it is in the model's\n",
    "    # vocaublary, add its feature vector to the total\n",
    "    for word in words:\n",
    "        if word in index2word_set: \n",
    "            nwords = nwords + 1.\n",
    "            featureVec = np.add(featureVec,model[word])\n",
    "    # \n",
    "    # Divide the result by the number of words to get the average\n",
    "    featureVec = np.divide(featureVec,nwords)\n",
    "    return featureVec\n"
   ]
  },
  {
   "cell_type": "code",
   "execution_count": 8,
   "metadata": {
    "collapsed": false,
    "deletable": true,
    "editable": true
   },
   "outputs": [
    {
     "data": {
      "text/plain": [
       "array([ 0.44611126,  0.4078805 , -0.60862143, -0.10496631,  0.58714236,\n",
       "        0.32758738, -0.35371386,  0.14757633, -0.15158055, -0.61058004,\n",
       "        0.66827482, -0.91480946, -0.64827127,  0.8269808 , -0.21633704,\n",
       "       -0.19003792, -0.4626302 ,  0.86939905, -0.02538301,  1.24280317,\n",
       "        0.70031001, -0.32402792, -0.37870119, -0.62153993, -0.8197432 ,\n",
       "        0.56903719,  0.88334291, -0.44279147,  0.86053797, -0.31016905,\n",
       "        0.19820469,  0.33730923,  0.07074093,  0.50636062,  0.20623061,\n",
       "       -0.59894437,  1.1693294 , -0.5786109 ,  0.00204187, -0.18991234,\n",
       "       -0.6600972 , -0.15451911, -0.20741686,  1.60779081, -0.41607993,\n",
       "       -0.33875471, -0.52661974,  0.18455352,  0.03641037, -1.46472083,\n",
       "        0.6435804 , -0.50940622, -0.74418067, -0.31860323,  0.91815633,\n",
       "        0.41322664, -0.78944104, -0.95176658, -1.0885331 , -0.41755329,\n",
       "        0.86356699,  0.24149995, -0.05949575, -0.33603666, -0.96479437,\n",
       "       -0.10660117,  0.07605942,  0.54283915,  0.03647094,  0.64048499,\n",
       "       -0.07156232, -0.01941201, -0.65774328,  0.40140187, -1.0176778 ,\n",
       "        0.2068514 ,  0.0023735 ,  0.33905572,  0.05694966,  0.40901255,\n",
       "       -1.24556929, -0.92283822,  0.08535612,  0.41096277,  0.44099561,\n",
       "        0.32280173,  0.15435342,  0.3934842 ,  0.03381949,  0.01981132,\n",
       "       -0.54066203, -0.27476609, -0.39585342,  0.66922369,  0.65682625,\n",
       "        0.44474009,  0.3029857 ,  0.54490624,  1.31117336,  1.20536055])"
      ]
     },
     "execution_count": 8,
     "metadata": {},
     "output_type": "execute_result"
    }
   ],
   "source": [
    "makeFeatureVec(token_review[0], model_w2v, 100)"
   ]
  },
  {
   "cell_type": "code",
   "execution_count": 9,
   "metadata": {
    "collapsed": true,
    "deletable": true,
    "editable": true
   },
   "outputs": [],
   "source": [
    "def getAvgFeatureVecs(reviews, model, num_features):\n",
    "    # Given a set of reviews (each one a list of words), calculate \n",
    "    # the average feature vector for each one and return a 2D numpy array \n",
    "    # \n",
    "    # Initialize a counter\n",
    "    counter = 0\n",
    "    # \n",
    "    # Preallocate a 2D numpy array, for speed\n",
    "    reviewFeatureVecs = np.zeros((len(reviews),num_features),dtype=\"float32\")\n",
    "    # \n",
    "    # Loop through the reviews\n",
    "    for review in reviews:\n",
    "       #\n",
    "       # Print a status message every 10000th review\n",
    "       if counter%10000 == 0:\n",
    "           print \"Review %d of %d\" % (counter, len(reviews))\n",
    "       # \n",
    "       # Call the function (defined above) that makes average feature vectors\n",
    "       reviewFeatureVecs[counter] = makeFeatureVec(review, model,num_features)\n",
    "       #\n",
    "       # Increment the counter\n",
    "       counter = counter + 1\n",
    "    return reviewFeatureVecs"
   ]
  },
  {
   "cell_type": "code",
   "execution_count": 10,
   "metadata": {
    "collapsed": false,
    "deletable": true,
    "editable": true,
    "scrolled": true
   },
   "outputs": [
    {
     "name": "stdout",
     "output_type": "stream",
     "text": [
      "Review 0 of 40562\n",
      "Review 10000 of 40562\n",
      "Review 20000 of 40562\n",
      "Review 30000 of 40562\n",
      "Review 40000 of 40562\n",
      "('Time taken for Word2vec avg vector per note calculation: ', 180.15606999397278, 'seconds.')\n"
     ]
    }
   ],
   "source": [
    "from time import time\n",
    "t0 = time()\n",
    "final_w2v=getAvgFeatureVecs(token_review, model_w2v, num_features=100)\n",
    "elapsed=time() - t0\n",
    "print(\"Time taken for Word2vec avg vector per note calculation: \", elapsed, \"seconds.\")"
   ]
  },
  {
   "cell_type": "markdown",
   "metadata": {
    "deletable": true,
    "editable": true
   },
   "source": [
    "#### Create train set and test set to use Machine Learning model\n"
   ]
  },
  {
   "cell_type": "code",
   "execution_count": 99,
   "metadata": {
    "collapsed": false,
    "deletable": true,
    "editable": true
   },
   "outputs": [
    {
     "name": "stdout",
     "output_type": "stream",
     "text": [
      "((20281, 111), (10140, 111), (10141, 111))\n"
     ]
    }
   ],
   "source": [
    "# Create train set and test set to use Machine Learning model\n",
    "import random\n",
    "\n",
    "final_w2v_df=pd.DataFrame(data=final_w2v)  \n",
    "data_final=pd.concat([df_labels,final_w2v_df], axis=1)\n",
    "\n",
    "idx=list(range(len(token_review)))\n",
    "random.seed(1234)\n",
    "random.shuffle(idx)\n",
    "idx_train= idx[0:int(len(data_final)*0.50)]\n",
    "idx_val= idx[int(len(data_final)*0.50):int(len(data_final)*0.75)]\n",
    "idx_test= idx[int(len(data_final)*0.75):len(data_final)]\n",
    "\n",
    "train_set = data_final.iloc[idx_train]\n",
    "val_set = data_final.iloc[idx_val]\n",
    "test_set =data_final.iloc[idx_test]\n",
    "\n",
    "print(train_set.shape, val_set.shape  ,test_set.shape)"
   ]
  },
  {
   "cell_type": "markdown",
   "metadata": {
    "deletable": true,
    "editable": true
   },
   "source": [
    "#### Top 10 notes similar to note '0' or first note in dataset (to compare results to Doc2vec)\n"
   ]
  },
  {
   "cell_type": "code",
   "execution_count": 85,
   "metadata": {
    "collapsed": false,
    "deletable": true,
    "editable": true
   },
   "outputs": [
    {
     "name": "stdout",
     "output_type": "stream",
     "text": [
      "0 1.0\n",
      "12916 0.878\n",
      "29259 0.875\n",
      "34475 0.861\n",
      "35623 0.856\n",
      "38291 0.855\n",
      "40477 0.846\n",
      "35309 0.845\n",
      "16038 0.839\n",
      "4889 0.837\n",
      "36676 0.837\n"
     ]
    }
   ],
   "source": [
    "# Top 10 notes similar to note '0' or first note in dataset (to compare results to Doc2vec)\n",
    "\n",
    "import scipy\n",
    "from scipy import spatial\n",
    "\n",
    "cosine_results=[]\n",
    "for i in range(0,final_w2v.shape[0]):\n",
    "    result=0\n",
    "    result = 1 - spatial.distance.cosine(final_w2v[0], final_w2v[i])\n",
    "    cosine_results.append(float(\"{0:.3f}\".format(result)))\n",
    "    \n",
    "list_index=sorted(range(len(cosine_results)), key=lambda i: cosine_results[i] , reverse=True)[:11]\n",
    "for i in list_index:\n",
    "    print i, cosine_results[i]\n"
   ]
  },
  {
   "cell_type": "markdown",
   "metadata": {
    "deletable": true,
    "editable": true
   },
   "source": [
    "### Try TFIDF"
   ]
  },
  {
   "cell_type": "code",
   "execution_count": 86,
   "metadata": {
    "collapsed": false,
    "deletable": true,
    "editable": true
   },
   "outputs": [
    {
     "data": {
      "text/plain": [
       "(40562, 21988)"
      ]
     },
     "execution_count": 86,
     "metadata": {},
     "output_type": "execute_result"
    }
   ],
   "source": [
    "# Transform the dataframe to a sparse Tdidf matrix\n",
    "#from sklearn.feature_extraction.text import CountVectorizer\n",
    "import numpy as np\n",
    "from sklearn.feature_extraction.text import TfidfVectorizer\n",
    "\n",
    "# Now we create the sparse matrix of tfidf values\n",
    "tfidf = TfidfVectorizer(input='content',ngram_range=(1, 1),stop_words='english', min_df=10, max_df=0.8)\n",
    "# I select to remove stopwords and minimun doc frequency =10 to delete very unusual words\n",
    "# that only show up in less than 10 notes (out of 59k notes available) \n",
    "\n",
    "dtm = tfidf.fit_transform([c for c in df['text3']])\n",
    "vocab = np.array(tfidf.get_feature_names())\n",
    "dtm = dtm.toarray()  # convert to a regular array\n",
    "vocab = np.array(vocab)\n",
    "dtm.shape\n"
   ]
  },
  {
   "cell_type": "code",
   "execution_count": 101,
   "metadata": {
    "collapsed": false,
    "deletable": true,
    "editable": true
   },
   "outputs": [
    {
     "name": "stdout",
     "output_type": "stream",
     "text": [
      "((20281, 21999), (10140, 21999), (10141, 21999))\n"
     ]
    }
   ],
   "source": [
    "# Create train set and test set to use Machine Learning model\n",
    "# you need to add the label\n",
    "import random\n",
    "\n",
    "dtm_df=pd.DataFrame(data=dtm)  \n",
    "data_tfidf=pd.concat([df_labels,dtm_df], axis=1)\n",
    "\n",
    "train_set_tfidf = data_tfidf.iloc[idx_train]\n",
    "val_set_tfidf = data_tfidf.iloc[idx_val]\n",
    "test_set_tfidf = data_tfidf.iloc[idx_test]\n",
    "\n",
    "print(train_set_tfidf.shape, val_set_tfidf.shape  ,test_set_tfidf.shape)"
   ]
  },
  {
   "cell_type": "code",
   "execution_count": null,
   "metadata": {
    "collapsed": false
   },
   "outputs": [],
   "source": []
  },
  {
   "cell_type": "code",
   "execution_count": null,
   "metadata": {
    "collapsed": true
   },
   "outputs": [],
   "source": []
  }
 ],
 "metadata": {
  "kernelspec": {
   "display_name": "Python 2",
   "language": "python",
   "name": "python2"
  },
  "language_info": {
   "codemirror_mode": {
    "name": "ipython",
    "version": 2
   },
   "file_extension": ".py",
   "mimetype": "text/x-python",
   "name": "python",
   "nbconvert_exporter": "python",
   "pygments_lexer": "ipython2",
   "version": "2.7.13"
  }
 },
 "nbformat": 4,
 "nbformat_minor": 2
}
