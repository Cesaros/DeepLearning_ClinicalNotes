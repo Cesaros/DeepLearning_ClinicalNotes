{
 "cells": [
  {
   "cell_type": "markdown",
   "metadata": {
    "deletable": true,
    "editable": true
   },
   "source": [
    "# MIMIC III Preprocessing"
   ]
  },
  {
   "cell_type": "markdown",
   "metadata": {
    "collapsed": false,
    "deletable": true,
    "editable": true
   },
   "source": [
    "## Initialization and Data Loading"
   ]
  },
  {
   "cell_type": "code",
   "execution_count": 1,
   "metadata": {
    "collapsed": false,
    "deletable": true,
    "editable": true
   },
   "outputs": [],
   "source": [
    "from pyspark import SparkContext, SparkConf\n",
    "from pyspark.sql.types import *"
   ]
  },
  {
   "cell_type": "code",
   "execution_count": 2,
   "metadata": {
    "collapsed": false,
    "deletable": true,
    "editable": true,
    "scrolled": false
   },
   "outputs": [
    {
     "name": "stdout",
     "output_type": "stream",
     "text": [
      "[('row_id', 'int'), ('subject_id', 'int'), ('hadm_id', 'int'), ('chartdate', 'date'), ('category', 'string'), ('description', 'string'), ('cgid', 'int'), ('iserror', 'int'), ('text', 'string')]\n",
      "[('row_id', 'int'), ('subject_id', 'int'), ('hadm_id', 'int'), ('seq_num', 'int'), ('icd9_code', 'string')]\n",
      "[('row_id', 'bigint'), ('subject_id', 'bigint'), ('hadm_id', 'bigint'), ('seq_num', 'bigint'), ('icd9_code', 'string')]\n",
      "[('hadm_id', 'int')]\n",
      "[('subject_id', 'int')]\n",
      "[('ROW_ID', 'int'), ('ICD9_CODE', 'string'), ('SHORT_TITLE', 'string'), ('LONG_TITLE', 'string')]\n"
     ]
    }
   ],
   "source": [
    "conf = SparkConf().setAppName(\"preprocess\").setMaster(\"local\")\n",
    "sc = SparkContext.getOrCreate(conf)\n",
    "spark = SparkSession.builder.master(\"local\").appName(\"preprocess\").getOrCreate()\n",
    "\n",
    "ne_struct = StructType([StructField(\"row_id\", IntegerType(), True),\n",
    "                      StructField(\"subject_id\", IntegerType(), True),\n",
    "                      StructField(\"hadm_id\", IntegerType(), True),\n",
    "                      StructField(\"chartdate\", DateType(), True),\n",
    "                      StructField(\"category\", StringType(), True),\n",
    "                      StructField(\"description\", StringType(), True),\n",
    "                      StructField(\"cgid\", IntegerType(), True),\n",
    "                      StructField(\"iserror\", IntegerType(), True),\n",
    "                      StructField(\"text\", StringType(), True)])\n",
    "#df_ne = spark.read.csv(\"./data/NOTEEVENTS-2.csv\",\n",
    "df_ne = spark.read.csv(\"./data/NOTEEVENTS-2sample.csv\",\n",
    "                       header=True,\n",
    "                       schema=ne_struct)\n",
    "df_ne.registerTempTable(\"noteevents\")\n",
    "df_ne.filter(df_ne.category==\"Discharge summary\") \\\n",
    "    .registerTempTable(\"noteevents2\")\n",
    "    \n",
    "# i want to cache noteevents, but it's too big\n",
    "\n",
    "# many icd to one hadm_id\n",
    "diag_struct = StructType([StructField(\"ROW_ID\", IntegerType(), True),\n",
    "                          StructField(\"SUBJECT_ID\", IntegerType(), True),\n",
    "                          StructField(\"HADM_ID\", IntegerType(), True),\n",
    "                          StructField(\"SEQ_NUM\", IntegerType(), True),\n",
    "                          StructField(\"ICD9_CODE\", StringType(), True)])\n",
    "df_diag_m = spark.read.csv(\"./data/DIAGNOSES_ICD.csv\",\n",
    "                           header=True,\n",
    "                           schema=diag_struct) \\\n",
    "            .selectExpr(\"ROW_ID as row_id\", \n",
    "                        \"SUBJECT_ID as subject_id\",\n",
    "                        \"HADM_ID as hadm_id\",\n",
    "                        \"SEQ_NUM as seq_num\",\n",
    "                        \"ICD9_CODE as icd9_code\")\n",
    "df_diag_m.registerTempTable(\"diagnoses_icd_m\")\n",
    "df_diag_m.cache()\n",
    "\n",
    "# one icd to one hadm_id (take the smallest seq number as primary)\n",
    "diag_o_rdd = df_diag_m.rdd.sortBy(lambda x: (x.hadm_id, x.subject_id, x.seq_num)) \\\n",
    "    .groupBy(lambda x: x.hadm_id) \\\n",
    "    .mapValues(list) \\\n",
    "    .reduceByKey(lambda x, y: x if x.seq_num < y.seq_num else y) \\\n",
    "    .map(lambda (hid, d): d[0])\n",
    "df_diag_o = spark.createDataFrame(diag_o_rdd)\n",
    "df_diag_o.registerTempTable(\"diagnoses_icd_o\")\n",
    "df_diag_o.cache()\n",
    "\n",
    "# get hadm_id list in noteevents\n",
    "df_hadm_id_list = spark.sql(\"\"\"\n",
    "SELECT DISTINCT hadm_id FROM noteevents2\n",
    "\"\"\")\n",
    "df_hadm_id_list.registerTempTable(\"hadm_id_list\")\n",
    "df_hadm_id_list.cache()\n",
    "\n",
    "# get subject_id list in noteevents\n",
    "df_subject_id_list = spark.sql(\"\"\"\n",
    "SELECT DISTINCT subject_id FROM noteevents2\n",
    "\"\"\")\n",
    "df_subject_id_list.registerTempTable(\"subject_id_list\")\n",
    "df_subject_id_list.cache()\n",
    "\n",
    "df_icd9desc = spark.read.csv(\"./data/D_ICD_DIAGNOSES.csv\",\n",
    "                       header=True, inferSchema=True)\n",
    "df_icd9desc.registerTempTable(\"diagnoses_icd_desc\")\n",
    "\n",
    "df_diag_o2 = spark.sql(\"\"\"\n",
    "SELECT row_id, subject_id, diagnoses_icd_o.hadm_id AS hadm_id,\n",
    "seq_num, icd9_code\n",
    "FROM diagnoses_icd_o JOIN hadm_id_list\n",
    "ON diagnoses_icd_o.hadm_id = hadm_id_list.hadm_id\n",
    "\"\"\")\n",
    "df_diag_o2.registerTempTable(\"diagnoses_icd_o2\")\n",
    "df_diag_o2.cache()\n",
    "\n",
    "df_diag_m2 = spark.sql(\"\"\"\n",
    "SELECT row_id, subject_id, diagnoses_icd_m.hadm_id AS hadm_id,\n",
    "seq_num, icd9_code\n",
    "FROM diagnoses_icd_m JOIN hadm_id_list\n",
    "ON diagnoses_icd_m.hadm_id = hadm_id_list.hadm_id\n",
    "\"\"\")\n",
    "df_diag_m2.registerTempTable(\"diagnoses_icd_m2\")\n",
    "df_diag_m2.cache()\n",
    "\n",
    "print df_ne.dtypes\n",
    "print df_diag_m.dtypes\n",
    "print df_diag_o.dtypes\n",
    "print df_hadm_id_list.dtypes\n",
    "print df_subject_id_list.dtypes\n",
    "print df_icd9desc.dtypes"
   ]
  },
  {
   "cell_type": "markdown",
   "metadata": {
    "deletable": true,
    "editable": true,
    "slideshow": {
     "slide_type": "-"
    }
   },
   "source": [
    "## Descriptive Statistics"
   ]
  },
  {
   "cell_type": "markdown",
   "metadata": {
    "deletable": true,
    "editable": true
   },
   "source": [
    "### noteevents\n",
    "Basic Counts:"
   ]
  },
  {
   "cell_type": "code",
   "execution_count": 5,
   "metadata": {
    "collapsed": false,
    "deletable": true,
    "editable": true
   },
   "outputs": [
    {
     "name": "stdout",
     "output_type": "stream",
     "text": [
      "+--------+--------------------------+-----------------------+\n",
      "|count(1)|count(DISTINCT subject_id)|count(DISTINCT hadm_id)|\n",
      "+--------+--------------------------+-----------------------+\n",
      "| 2083180|                     46146|                  58361|\n",
      "+--------+--------------------------+-----------------------+\n",
      "\n",
      "+--------+--------------------------+-----------------------+\n",
      "|count(1)|count(DISTINCT subject_id)|count(DISTINCT hadm_id)|\n",
      "+--------+--------------------------+-----------------------+\n",
      "|   59652|                     41127|                  52726|\n",
      "+--------+--------------------------+-----------------------+\n",
      "\n"
     ]
    }
   ],
   "source": [
    "spark.sql(\"\"\"\n",
    "SELECT COUNT(*), COUNT(DISTINCT subject_id), COUNT(DISTINCT hadm_id)\n",
    "FROM noteevents\n",
    "\"\"\").show()\n",
    "spark.sql(\"\"\"\n",
    "SELECT COUNT(*), COUNT(DISTINCT subject_id), COUNT(DISTINCT hadm_id)\n",
    "FROM noteevents2\n",
    "\"\"\").show()"
   ]
  },
  {
   "cell_type": "code",
   "execution_count": 6,
   "metadata": {
    "collapsed": false,
    "deletable": true,
    "editable": true
   },
   "outputs": [
    {
     "name": "stdout",
     "output_type": "stream",
     "text": [
      "+----------+\n",
      "|hadm_count|\n",
      "+----------+\n",
      "|     40562|\n",
      "+----------+\n",
      "\n",
      "+----------+\n",
      "|hadm_count|\n",
      "+----------+\n",
      "|     49354|\n",
      "+----------+\n",
      "\n",
      "+----------+\n",
      "|hadm_count|\n",
      "+----------+\n",
      "|     50625|\n",
      "+----------+\n",
      "\n"
     ]
    }
   ],
   "source": [
    "spark.sql(\"\"\"\n",
    "SELECT COUNT(DISTINCT hadm_id) AS hadm_count\n",
    "FROM diagnoses_icd_m2\n",
    "WHERE icd9_code IN\n",
    "    (SELECT icd9_code\n",
    "    FROM diagnoses_icd_m2\n",
    "    GROUP BY icd9_code\n",
    "    ORDER BY COUNT(DISTINCT hadm_id) DESC\n",
    "    LIMIT 10)\n",
    "\"\"\").show()\n",
    "\n",
    "spark.sql(\"\"\"\n",
    "SELECT COUNT(DISTINCT hadm_id) AS hadm_count\n",
    "FROM diagnoses_icd_m2\n",
    "WHERE icd9_code IN\n",
    "    (SELECT icd9_code\n",
    "    FROM diagnoses_icd_m2\n",
    "    GROUP BY icd9_code\n",
    "    ORDER BY COUNT(DISTINCT hadm_id) DESC\n",
    "    LIMIT 50)\n",
    "\"\"\").show()\n",
    "\n",
    "spark.sql(\"\"\"\n",
    "SELECT COUNT(DISTINCT hadm_id) AS hadm_count\n",
    "FROM diagnoses_icd_m2\n",
    "WHERE icd9_code IN\n",
    "    (SELECT icd9_code\n",
    "    FROM diagnoses_icd_m2\n",
    "    GROUP BY icd9_code\n",
    "    ORDER BY COUNT(DISTINCT hadm_id) DESC\n",
    "    LIMIT 100)\n",
    "\"\"\").show()"
   ]
  },
  {
   "cell_type": "markdown",
   "metadata": {
    "deletable": true,
    "editable": true
   },
   "source": [
    "Categories:"
   ]
  },
  {
   "cell_type": "code",
   "execution_count": 25,
   "metadata": {
    "collapsed": false,
    "deletable": true,
    "editable": true
   },
   "outputs": [
    {
     "name": "stdout",
     "output_type": "stream",
     "text": [
      "+-----------------+\n",
      "|category         |\n",
      "+-----------------+\n",
      "|ECG              |\n",
      "|Respiratory      |\n",
      "|Nursing          |\n",
      "|General          |\n",
      "|Consult          |\n",
      "|Echo             |\n",
      "|Nutrition        |\n",
      "|Physician        |\n",
      "|Pharmacy         |\n",
      "|Rehab Services   |\n",
      "|Case Management  |\n",
      "|Radiology        |\n",
      "|Nursing/other    |\n",
      "|Discharge summary|\n",
      "|Social Work      |\n",
      "+-----------------+\n",
      "\n"
     ]
    }
   ],
   "source": [
    "spark.sql(\"\"\"\n",
    "SELECT DISTINCT(category)\n",
    "FROM noteevents\n",
    "\"\"\").show(truncate=False)"
   ]
  },
  {
   "cell_type": "markdown",
   "metadata": {
    "deletable": true,
    "editable": true
   },
   "source": [
    "### diagnoses_icd: many (icd_code) to one (hadm_id)\n",
    "Basic Counts:"
   ]
  },
  {
   "cell_type": "code",
   "execution_count": 8,
   "metadata": {
    "collapsed": false,
    "deletable": true,
    "editable": true
   },
   "outputs": [
    {
     "name": "stdout",
     "output_type": "stream",
     "text": [
      "+--------+--------------------------+-----------------------+-------------------------+\n",
      "|count(1)|count(DISTINCT subject_id)|count(DISTINCT hadm_id)|count(DISTINCT ICD9_CODE)|\n",
      "+--------+--------------------------+-----------------------+-------------------------+\n",
      "|  651047|                     46520|                  58976|                     6984|\n",
      "+--------+--------------------------+-----------------------+-------------------------+\n",
      "\n",
      "+--------+--------------------------+-----------------------+--------------------------------+\n",
      "|count(1)|count(DISTINCT subject_id)|count(DISTINCT hadm_id)|count(DISTINCT lower(ICD9_CODE))|\n",
      "+--------+--------------------------+-----------------------+--------------------------------+\n",
      "|  651047|                     46520|                  58976|                            6984|\n",
      "+--------+--------------------------+-----------------------+--------------------------------+\n",
      "\n"
     ]
    }
   ],
   "source": [
    "spark.sql(\"\"\"\n",
    "SELECT COUNT(*), COUNT(DISTINCT subject_id), \n",
    "COUNT(DISTINCT hadm_id), COUNT(DISTINCT ICD9_CODE)\n",
    "FROM diagnoses_icd_m\n",
    "\"\"\").show()\n",
    "\n",
    "spark.sql(\"\"\"\n",
    "SELECT COUNT(*), COUNT(DISTINCT subject_id), \n",
    "COUNT(DISTINCT hadm_id), COUNT(DISTINCT LOWER(ICD9_CODE))\n",
    "FROM diagnoses_icd_m\n",
    "\"\"\").show()"
   ]
  },
  {
   "cell_type": "markdown",
   "metadata": {
    "deletable": true,
    "editable": true
   },
   "source": [
    "### diagnoses_icd: one (icd_code) to one (hadm_id)\n",
    "Basic Counts:"
   ]
  },
  {
   "cell_type": "code",
   "execution_count": 9,
   "metadata": {
    "collapsed": false,
    "deletable": true,
    "editable": true
   },
   "outputs": [
    {
     "name": "stdout",
     "output_type": "stream",
     "text": [
      "+--------+--------------------------+-----------------------+-------------------------+\n",
      "|count(1)|count(DISTINCT subject_id)|count(DISTINCT hadm_id)|count(DISTINCT ICD9_CODE)|\n",
      "+--------+--------------------------+-----------------------+-------------------------+\n",
      "|   58976|                     46520|                  58976|                     2789|\n",
      "+--------+--------------------------+-----------------------+-------------------------+\n",
      "\n",
      "+--------+--------------------------+-----------------------+--------------------------------+\n",
      "|count(1)|count(DISTINCT subject_id)|count(DISTINCT hadm_id)|count(DISTINCT lower(ICD9_CODE))|\n",
      "+--------+--------------------------+-----------------------+--------------------------------+\n",
      "|   58976|                     46520|                  58976|                            2789|\n",
      "+--------+--------------------------+-----------------------+--------------------------------+\n",
      "\n"
     ]
    }
   ],
   "source": [
    "spark.sql(\"\"\"\n",
    "SELECT COUNT(*), COUNT(DISTINCT subject_id), \n",
    "COUNT(DISTINCT hadm_id), COUNT(DISTINCT ICD9_CODE)\n",
    "FROM diagnoses_icd_o\n",
    "\"\"\").show()\n",
    "\n",
    "spark.sql(\"\"\"\n",
    "SELECT COUNT(*), COUNT(DISTINCT subject_id), \n",
    "COUNT(DISTINCT hadm_id), COUNT(DISTINCT LOWER(ICD9_CODE))\n",
    "FROM diagnoses_icd_o\n",
    "\"\"\").show()"
   ]
  },
  {
   "cell_type": "markdown",
   "metadata": {
    "deletable": true,
    "editable": true
   },
   "source": [
    "Just to check if I really did get \"seq_num = 1\" for all diagnosis, the code below should return empty. "
   ]
  },
  {
   "cell_type": "code",
   "execution_count": 10,
   "metadata": {
    "collapsed": false,
    "deletable": true,
    "editable": true
   },
   "outputs": [
    {
     "name": "stdout",
     "output_type": "stream",
     "text": [
      "+------+----------+-------+-------+---------+\n",
      "|row_id|subject_id|hadm_id|seq_num|icd9_code|\n",
      "+------+----------+-------+-------+---------+\n",
      "+------+----------+-------+-------+---------+\n",
      "\n"
     ]
    }
   ],
   "source": [
    "# check code\n",
    "spark.sql(\"\"\"\n",
    "SELECT *\n",
    "FROM diagnoses_icd_o\n",
    "WHERE seq_num <> 1\n",
    "\"\"\").show()"
   ]
  },
  {
   "cell_type": "markdown",
   "metadata": {
    "deletable": true,
    "editable": true
   },
   "source": [
    "### noteevents and diagnoses_icd (one to one)\n",
    "Basic Counts:"
   ]
  },
  {
   "cell_type": "code",
   "execution_count": 11,
   "metadata": {
    "collapsed": false,
    "deletable": true,
    "editable": true
   },
   "outputs": [
    {
     "name": "stdout",
     "output_type": "stream",
     "text": [
      "+--------------------------+-----------------------+-------------------------+\n",
      "|count(DISTINCT subject_id)|count(DISTINCT hadm_id)|count(DISTINCT icd9_code)|\n",
      "+--------------------------+-----------------------+-------------------------+\n",
      "|                     41127|                  52726|                     2706|\n",
      "+--------------------------+-----------------------+-------------------------+\n",
      "\n"
     ]
    }
   ],
   "source": [
    "spark.sql(\"\"\"\n",
    "SELECT COUNT(DISTINCT subject_id), \n",
    "COUNT(DISTINCT hadm_id), COUNT(DISTINCT icd9_code)\n",
    "FROM diagnoses_icd_o2\n",
    "\"\"\").show()"
   ]
  },
  {
   "cell_type": "markdown",
   "metadata": {
    "deletable": true,
    "editable": true
   },
   "source": [
    "Top 50 ICD 9 codes based on \"subject_id\" count"
   ]
  },
  {
   "cell_type": "code",
   "execution_count": 12,
   "metadata": {
    "collapsed": false,
    "deletable": true,
    "editable": true
   },
   "outputs": [
    {
     "name": "stdout",
     "output_type": "stream",
     "text": [
      "+---------+---------+------------------------+--------------------------------------------------+\n",
      "|icd9_code|sid_count|             SHORT_TITLE|                                        LONG_TITLE|\n",
      "+---------+---------+------------------------+--------------------------------------------------+\n",
      "|    41401|     3435|Crnry athrscl natve vssl|Coronary atherosclerosis of native coronary artery|\n",
      "|     0389|     1837|          Septicemia NOS|                            Unspecified septicemia|\n",
      "|    41071|     1672|Subendo infarct, initial|Subendocardial infarction, initial episode of care|\n",
      "|    V3001|     1390|  Single lb in-hosp w cs|Single liveborn, born in hospital, delivered by...|\n",
      "|     4241|     1128|   Aortic valve disorder|                            Aortic valve disorders|\n",
      "|    51881|      986|Acute respiratry failure|                         Acute respiratory failure|\n",
      "|    V3000|      949|Single lb in-hosp w/o cs|Single liveborn, born in hospital, delivered wi...|\n",
      "|      431|      948|Intracerebral hemorrhage|                          Intracerebral hemorrhage|\n",
      "|    V3101|      851|Twin-mate lb-in hos w cs|Twin birth, mate liveborn, born in hospital, de...|\n",
      "|      486|      654| Pneumonia, organism NOS|                   Pneumonia, organism unspecified|\n",
      "|     5070|      581|  Food/vomit pneumonitis|  Pneumonitis due to inhalation of food or vomitus|\n",
      "|     4240|      552|   Mitral valve disorder|                            Mitral valve disorders|\n",
      "|     4280|      513|                 CHF NOS|             Congestive heart failure, unspecified|\n",
      "|     5849|      500|Acute kidney failure NOS|                 Acute kidney failure, unspecified|\n",
      "|      430|      491| Subarachnoid hemorrhage|                           Subarachnoid hemorrhage|\n",
      "|    41011|      469| AMI anterior wall, init|Acute myocardial infarction of other anterior w...|\n",
      "|    41041|      465| AMI inferior wall, init|Acute myocardial infarction of other inferior w...|\n",
      "|     5789|      410| Gastrointest hemorr NOS| Hemorrhage of gastrointestinal tract, unspecified|\n",
      "|     5770|      343|      Acute pancreatitis|                                Acute pancreatitis|\n",
      "|    41519|      334|  Pulm embol/infarct NEC|           Other pulmonary embolism and infarction|\n",
      "|    43411|      330|    Crbl emblsm w infrct|        Cerebral embolism with cerebral infarction|\n",
      "|     1983|      330| Sec mal neo brain/spine|Secondary malignant neoplasm of brain and spina...|\n",
      "|    43491|      318|Crbl art ocl NOS w infrc|Cerebral artery occlusion, unspecified with cer...|\n",
      "|    42731|      307|     Atrial fibrillation|                               Atrial fibrillation|\n",
      "|    99859|      299|  Other postop infection|                     Other postoperative infection|\n",
      "|    03842|      291|       E coli septicemia|      Septicemia due to escherichia coli [E. coli]|\n",
      "|    85221|      279|   Subdural hem w/o coma|Subdural hemorrhage following injury without me...|\n",
      "|    56212|      251|   Dvrtclo colon w hmrhg|           Diverticulosis of colon with hemorrhage|\n",
      "|    42823|      246| Ac on chr syst hrt fail|           Acute on chronic systolic heart failure|\n",
      "|    V3401|      235|Oth mult lb-in hosp w cs|Other multiple birth (three or more), mates all...|\n",
      "|    99662|      229|React-oth vasc dev/graft|Infection and inflammatory reaction due to othe...|\n",
      "|    42833|      229|Ac on chr diast hrt fail|          Acute on chronic diastolic heart failure|\n",
      "|     4271|      221| Parox ventric tachycard|                Paroxysmal ventricular tachycardia|\n",
      "|    51884|      220|Acute & chronc resp fail|             Acute and chronic respiratory failure|\n",
      "|     4321|      214|     Subdural hemorrhage|                               Subdural hemorrhage|\n",
      "|     5712|      212| Alcohol cirrhosis liver|                      Alcoholic cirrhosis of liver|\n",
      "|    99811|      209| Hemorrhage complic proc|               Hemorrhage complicating a procedure|\n",
      "|    49121|      208|Obs chr bronc w(ac) exac|Obstructive chronic bronchitis with (acute) exa...|\n",
      "|     4373|      202|Nonrupt cerebral aneurym|                    Cerebral aneurysm, nonruptured|\n",
      "|    03849|      201| Gram-neg septicemia NEC|   Other septicemia due to gram-negative organisms|\n",
      "|    85220|      197|  Traumatic subdural hem|Subdural hemorrhage following injury without me...|\n",
      "|    03811|      192|Meth susc Staph aur sept|Methicillin susceptible Staphylococcus aureus s...|\n",
      "|     4414|      184|   Abdom aortic aneurysm|     Abdominal aneurysm without mention of rupture|\n",
      "|    25013|      183|  DMI ketoacd uncontrold|Diabetes with ketoacidosis, type I [juvenile ty...|\n",
      "|    43310|      177|  Ocl crtd art wo infrct|Occlusion and stenosis of carotid artery withou...|\n",
      "|     0380|      174|Streptococcal septicemia|                          Streptococcal septicemia|\n",
      "|     1623|      171| Mal neo upper lobe lung|Malignant neoplasm of upper lobe, bronchus or lung|\n",
      "|    53240|      166|  Chr duoden ulcer w hem|Chronic or unspecified duodenal ulcer with hemo...|\n",
      "|    44101|      165|  Dsct of thoracic aorta|                     Dissection of aorta, thoracic|\n",
      "|     3962|      164|Mitral insuf/aort stenos|Mitral valve insufficiency and aortic valve ste...|\n",
      "+---------+---------+------------------------+--------------------------------------------------+\n",
      "\n"
     ]
    }
   ],
   "source": [
    "spark.sql(\"\"\"\n",
    "SELECT a.icd9_code, sid_count, SHORT_TITLE, LONG_TITLE FROM\n",
    "    (SELECT icd9_code, COUNT(DISTINCT subject_id) AS sid_count\n",
    "    FROM diagnoses_icd_o2\n",
    "    GROUP BY icd9_code\n",
    "    ORDER BY sid_count DESC\n",
    "    LIMIT 50) AS a\n",
    "JOIN diagnoses_icd_desc\n",
    "ON diagnoses_icd_desc.ICD9_CODE = a.icd9_code\n",
    "\"\"\").show(n=50, truncate=50)"
   ]
  },
  {
   "cell_type": "markdown",
   "metadata": {
    "deletable": true,
    "editable": true
   },
   "source": [
    "Top 50 ICD 9 codes based on \"hadm_id\" count"
   ]
  },
  {
   "cell_type": "code",
   "execution_count": 13,
   "metadata": {
    "collapsed": false,
    "deletable": true,
    "editable": true
   },
   "outputs": [
    {
     "name": "stdout",
     "output_type": "stream",
     "text": [
      "+---------+----------+------------------------+--------------------------------------------------+\n",
      "|icd9_code|hadm_count|             SHORT_TITLE|                                        LONG_TITLE|\n",
      "+---------+----------+------------------------+--------------------------------------------------+\n",
      "|    41401|      3464|Crnry athrscl natve vssl|Coronary atherosclerosis of native coronary artery|\n",
      "|     0389|      1976|          Septicemia NOS|                            Unspecified septicemia|\n",
      "|    41071|      1719|Subendo infarct, initial|Subendocardial infarction, initial episode of care|\n",
      "|    V3001|      1390|  Single lb in-hosp w cs|Single liveborn, born in hospital, delivered by...|\n",
      "|     4241|      1136|   Aortic valve disorder|                            Aortic valve disorders|\n",
      "|    51881|      1089|Acute respiratry failure|                         Acute respiratory failure|\n",
      "|      431|       966|Intracerebral hemorrhage|                          Intracerebral hemorrhage|\n",
      "|    V3000|       949|Single lb in-hosp w/o cs|Single liveborn, born in hospital, delivered wi...|\n",
      "|    V3101|       851|Twin-mate lb-in hos w cs|Twin birth, mate liveborn, born in hospital, de...|\n",
      "|      486|       703| Pneumonia, organism NOS|                   Pneumonia, organism unspecified|\n",
      "|     5070|       641|  Food/vomit pneumonitis|  Pneumonitis due to inhalation of food or vomitus|\n",
      "|     4240|       558|   Mitral valve disorder|                            Mitral valve disorders|\n",
      "|     4280|       553|                 CHF NOS|             Congestive heart failure, unspecified|\n",
      "|     5849|       518|Acute kidney failure NOS|                 Acute kidney failure, unspecified|\n",
      "|      430|       495| Subarachnoid hemorrhage|                           Subarachnoid hemorrhage|\n",
      "|    41011|       472| AMI anterior wall, init|Acute myocardial infarction of other anterior w...|\n",
      "|    41041|       467| AMI inferior wall, init|Acute myocardial infarction of other inferior w...|\n",
      "|     5789|       432| Gastrointest hemorr NOS| Hemorrhage of gastrointestinal tract, unspecified|\n",
      "|     5770|       365|      Acute pancreatitis|                                Acute pancreatitis|\n",
      "|     1983|       355| Sec mal neo brain/spine|Secondary malignant neoplasm of brain and spina...|\n",
      "|    41519|       337|  Pulm embol/infarct NEC|           Other pulmonary embolism and infarction|\n",
      "|    43411|       331|    Crbl emblsm w infrct|        Cerebral embolism with cerebral infarction|\n",
      "|    43491|       318|Crbl art ocl NOS w infrc|Cerebral artery occlusion, unspecified with cer...|\n",
      "|    42731|       317|     Atrial fibrillation|                               Atrial fibrillation|\n",
      "|    99859|       308|  Other postop infection|                     Other postoperative infection|\n",
      "|    03842|       304|       E coli septicemia|      Septicemia due to escherichia coli [E. coli]|\n",
      "|    85221|       289|   Subdural hem w/o coma|Subdural hemorrhage following injury without me...|\n",
      "|    99662|       285|React-oth vasc dev/graft|Infection and inflammatory reaction due to othe...|\n",
      "|    25013|       284|  DMI ketoacd uncontrold|Diabetes with ketoacidosis, type I [juvenile ty...|\n",
      "|    42823|       284| Ac on chr syst hrt fail|           Acute on chronic systolic heart failure|\n",
      "|    42833|       267|Ac on chr diast hrt fail|          Acute on chronic diastolic heart failure|\n",
      "|    56212|       267|   Dvrtclo colon w hmrhg|           Diverticulosis of colon with hemorrhage|\n",
      "|    49121|       264|Obs chr bronc w(ac) exac|Obstructive chronic bronchitis with (acute) exa...|\n",
      "|     4271|       255| Parox ventric tachycard|                Paroxysmal ventricular tachycardia|\n",
      "|     5712|       247| Alcohol cirrhosis liver|                      Alcoholic cirrhosis of liver|\n",
      "|    51884|       245|Acute & chronc resp fail|             Acute and chronic respiratory failure|\n",
      "|     4373|       242|Nonrupt cerebral aneurym|                    Cerebral aneurysm, nonruptured|\n",
      "|    V3401|       235|Oth mult lb-in hosp w cs|Other multiple birth (three or more), mates all...|\n",
      "|     4321|       231|     Subdural hemorrhage|                               Subdural hemorrhage|\n",
      "|    29181|       229|      Alcohol withdrawal|                                Alcohol withdrawal|\n",
      "|    99811|       210| Hemorrhage complic proc|               Hemorrhage complicating a procedure|\n",
      "|    03849|       207| Gram-neg septicemia NEC|   Other septicemia due to gram-negative organisms|\n",
      "|    85220|       201|  Traumatic subdural hem|Subdural hemorrhage following injury without me...|\n",
      "|    03811|       198|Meth susc Staph aur sept|Methicillin susceptible Staphylococcus aureus s...|\n",
      "|      042|       187|  Human immuno virus dis|        Human immunodeficiency virus [HIV] disease|\n",
      "|     4414|       184|   Abdom aortic aneurysm|     Abdominal aneurysm without mention of rupture|\n",
      "|    43310|       180|  Ocl crtd art wo infrct|Occlusion and stenosis of carotid artery withou...|\n",
      "|     0380|       176|Streptococcal septicemia|                          Streptococcal septicemia|\n",
      "|    44101|       174|  Dsct of thoracic aorta|                     Dissection of aorta, thoracic|\n",
      "|     1623|       173| Mal neo upper lobe lung|Malignant neoplasm of upper lobe, bronchus or lung|\n",
      "+---------+----------+------------------------+--------------------------------------------------+\n",
      "\n"
     ]
    }
   ],
   "source": [
    "spark.sql(\"\"\"\n",
    "SELECT a.icd9_code, hadm_count, SHORT_TITLE, LONG_TITLE FROM\n",
    "    (SELECT icd9_code, COUNT(DISTINCT hadm_id) AS hadm_count\n",
    "    FROM diagnoses_icd_o2\n",
    "    GROUP BY icd9_code\n",
    "    ORDER BY hadm_count DESC\n",
    "    LIMIT 50) AS a\n",
    "JOIN diagnoses_icd_desc\n",
    "ON diagnoses_icd_desc.ICD9_CODE = a.icd9_code\n",
    "\"\"\").show(n=50, truncate=50)"
   ]
  },
  {
   "cell_type": "markdown",
   "metadata": {
    "deletable": true,
    "editable": true
   },
   "source": [
    "### noteevents and diagnoses_icd (many to one)\n",
    "Basic Counts:"
   ]
  },
  {
   "cell_type": "code",
   "execution_count": 7,
   "metadata": {
    "collapsed": false,
    "deletable": true,
    "editable": true
   },
   "outputs": [
    {
     "name": "stdout",
     "output_type": "stream",
     "text": [
      "+--------------------------+-----------------------+-------------------------+\n",
      "|count(DISTINCT subject_id)|count(DISTINCT hadm_id)|count(DISTINCT icd9_code)|\n",
      "+--------------------------+-----------------------+-------------------------+\n",
      "|                     41127|                  52726|                     6918|\n",
      "+--------------------------+-----------------------+-------------------------+\n",
      "\n",
      "+--------------------------+-----------------------+-------------------------+\n",
      "|count(DISTINCT subject_id)|count(DISTINCT hadm_id)|count(DISTINCT icd9_code)|\n",
      "+--------------------------+-----------------------+-------------------------+\n",
      "|                     46139|                  58361|                     6967|\n",
      "+--------------------------+-----------------------+-------------------------+\n",
      "\n"
     ]
    }
   ],
   "source": [
    "spark.sql(\"\"\"\n",
    "SELECT COUNT(DISTINCT subject_id), \n",
    "COUNT(DISTINCT hadm_id), COUNT(DISTINCT icd9_code)\n",
    "FROM diagnoses_icd_m2\n",
    "\"\"\").show()\n",
    "\n",
    "spark.sql(\"\"\"\n",
    "SELECT COUNT(DISTINCT subject_id), \n",
    "COUNT(DISTINCT hadm_id), COUNT(DISTINCT icd9_code)\n",
    "FROM (\n",
    "    SELECT row_id, subject_id, diagnoses_icd_m.hadm_id AS hadm_id,\n",
    "    seq_num, icd9_code\n",
    "    FROM diagnoses_icd_m JOIN (SELECT DISTINCT hadm_id FROM noteevents) AS a\n",
    "    ON diagnoses_icd_m.hadm_id = a.hadm_id\n",
    ")\n",
    "\"\"\").show()"
   ]
  },
  {
   "cell_type": "markdown",
   "metadata": {
    "deletable": true,
    "editable": true
   },
   "source": [
    "Top ICD 9 codes based on \"subject_id\" count"
   ]
  },
  {
   "cell_type": "code",
   "execution_count": 15,
   "metadata": {
    "collapsed": false,
    "deletable": true,
    "editable": true
   },
   "outputs": [
    {
     "name": "stdout",
     "output_type": "stream",
     "text": [
      "+---------+---------+------------------------+--------------------------------------------------+\n",
      "|icd9_code|sid_count|             SHORT_TITLE|                                        LONG_TITLE|\n",
      "+---------+---------+------------------------+--------------------------------------------------+\n",
      "|     4019|    17138|        Hypertension NOS|                Unspecified essential hypertension|\n",
      "|    41401|    10579|Crnry athrscl natve vssl|Coronary atherosclerosis of native coronary artery|\n",
      "|    42731|    10053|     Atrial fibrillation|                               Atrial fibrillation|\n",
      "|     4280|     9669|                 CHF NOS|             Congestive heart failure, unspecified|\n",
      "|     5849|     7505|Acute kidney failure NOS|                 Acute kidney failure, unspecified|\n",
      "|     2724|     7324|  Hyperlipidemia NEC/NOS|              Other and unspecified hyperlipidemia|\n",
      "|    25000|     7181|DMII wo cmp nt st uncntr|Diabetes mellitus without mention of complicati...|\n",
      "|    51881|     6493|Acute respiratry failure|                         Acute respiratory failure|\n",
      "|     5990|     5687|Urin tract infection NOS|       Urinary tract infection, site not specified|\n",
      "|     2720|     5199| Pure hypercholesterolem|                         Pure hypercholesterolemia|\n",
      "|    53081|     5148|       Esophageal reflux|                                 Esophageal reflux|\n",
      "|     2859|     4895|              Anemia NOS|                               Anemia, unspecified|\n",
      "|      486|     4329| Pneumonia, organism NOS|                   Pneumonia, organism unspecified|\n",
      "|     2851|     4195| Ac posthemorrhag anemia|                      Acute posthemorrhagic anemia|\n",
      "|     2762|     4021|                Acidosis|                                          Acidosis|\n",
      "|     2449|     3732|      Hypothyroidism NOS|               Unspecified acquired hypothyroidism|\n",
      "|      496|     3491| Chr airway obstruct NEC|Chronic airway obstruction, not elsewhere class...|\n",
      "|    99592|     3449|           Severe sepsis|                                     Severe sepsis|\n",
      "|     5070|     3319|  Food/vomit pneumonitis|  Pneumonitis due to inhalation of food or vomitus|\n",
      "|     0389|     3304|          Septicemia NOS|                            Unspecified septicemia|\n",
      "|    V5861|     3126|Long-term use anticoagul|         Long-term (current) use of anticoagulants|\n",
      "|     3051|     2926|    Tobacco use disorder|                              Tobacco use disorder|\n",
      "|    41071|     2861|Subendo infarct, initial|Subendocardial infarction, initial episode of care|\n",
      "|      311|     2859| Depressive disorder NEC|     Depressive disorder, not elsewhere classified|\n",
      "|     5859|     2855|  Chronic kidney dis NOS|               Chronic kidney disease, unspecified|\n",
      "|    40390|     2784|Hy kid NOS w cr kid I-IV|Hypertensive chronic kidney disease, unspecifie...|\n",
      "|     2761|     2757|           Hyposmolality|                 Hyposmolality and/or hyponatremia|\n",
      "|     2875|     2751|    Thrombocytopenia NOS|                     Thrombocytopenia, unspecified|\n",
      "|      412|     2723|  Old myocardial infarct|                         Old myocardial infarction|\n",
      "|     4240|     2613|   Mitral valve disorder|                            Mitral valve disorders|\n",
      "|     5119|     2528|    Pleural effusion NOS|                      Unspecified pleural effusion|\n",
      "|     V290|     2519|  NB obsrv suspct infect|    Observation for suspected infectious condition|\n",
      "|    V1582|     2486|  History of tobacco use|                   Personal history of tobacco use|\n",
      "|    78552|     2335|            Septic shock|                                      Septic shock|\n",
      "|     4241|     2285|   Aortic valve disorder|                            Aortic valve disorders|\n",
      "|     9971|     2278|        Surg compl-heart|   Cardiac complications, not elsewhere classified|\n",
      "|    42789|     2259|Cardiac dysrhythmias NEC|              Other specified cardiac dysrhythmias|\n",
      "|    V4581|     2256|    Aortocoronary bypass|                       Aortocoronary bypass status|\n",
      "|    V4582|     2202|        Status-post ptca|Percutaneous transluminal coronary angioplasty ...|\n",
      "|     7742|     2174|Neonat jaund preterm del|Neonatal jaundice associated with preterm delivery|\n",
      "|     5845|     2122|Ac kidny fail, tubr necr|Acute kidney failure with lesion of tubular nec...|\n",
      "|     V053|     2116|Need prphyl vc vrl hepat|Need for prophylactic vaccination and inoculati...|\n",
      "|     5180|     2055|      Pulmonary collapse|                                Pulmonary collapse|\n",
      "|     2760|     2054|         Hyperosmolality|              Hyperosmolality and/or hypernatremia|\n",
      "|    45829|     2035|Iatrogenc hypotnsion NEC|                      Other iatrogenic hypotension|\n",
      "|    V5867|     1987|Long-term use of insulin|                Long-term (current) use of insulin|\n",
      "|     2767|     1877|         Hyperpotassemia|                                   Hyperpotassemia|\n",
      "|     4589|     1862|         Hypotension NOS|                          Hypotension, unspecified|\n",
      "|     4168|     1780|Chr pulmon heart dis NEC|            Other chronic pulmonary heart diseases|\n",
      "+---------+---------+------------------------+--------------------------------------------------+\n",
      "\n"
     ]
    }
   ],
   "source": [
    "spark.sql(\"\"\"\n",
    "SELECT a.icd9_code, sid_count, SHORT_TITLE, LONG_TITLE FROM\n",
    "    (SELECT icd9_code, COUNT(DISTINCT subject_id) AS sid_count\n",
    "    FROM diagnoses_icd_m2\n",
    "    GROUP BY icd9_code\n",
    "    ORDER BY sid_count DESC\n",
    "    LIMIT 50) AS a\n",
    "JOIN diagnoses_icd_desc\n",
    "ON diagnoses_icd_desc.ICD9_CODE = a.icd9_code\n",
    "\"\"\").show(n=50, truncate=50)"
   ]
  },
  {
   "cell_type": "markdown",
   "metadata": {
    "deletable": true,
    "editable": true
   },
   "source": [
    "Top ICD 9 codes based on \"hadm_id\" count"
   ]
  },
  {
   "cell_type": "code",
   "execution_count": 16,
   "metadata": {
    "collapsed": false,
    "deletable": true,
    "editable": true
   },
   "outputs": [
    {
     "name": "stdout",
     "output_type": "stream",
     "text": [
      "+---------+----------+------------------------+--------------------------------------------------+\n",
      "|icd9_code|hadm_count|             SHORT_TITLE|                                        LONG_TITLE|\n",
      "+---------+----------+------------------------+--------------------------------------------------+\n",
      "|     4019|     20046|        Hypertension NOS|                Unspecified essential hypertension|\n",
      "|     4280|     12842|                 CHF NOS|             Congestive heart failure, unspecified|\n",
      "|    42731|     12589|     Atrial fibrillation|                               Atrial fibrillation|\n",
      "|    41401|     12178|Crnry athrscl natve vssl|Coronary atherosclerosis of native coronary artery|\n",
      "|     5849|      8906|Acute kidney failure NOS|                 Acute kidney failure, unspecified|\n",
      "|    25000|      8783|DMII wo cmp nt st uncntr|Diabetes mellitus without mention of complicati...|\n",
      "|     2724|      8503|  Hyperlipidemia NEC/NOS|              Other and unspecified hyperlipidemia|\n",
      "|    51881|      7249|Acute respiratry failure|                         Acute respiratory failure|\n",
      "|     5990|      6442|Urin tract infection NOS|       Urinary tract infection, site not specified|\n",
      "|    53081|      6154|       Esophageal reflux|                                 Esophageal reflux|\n",
      "|     2720|      5766| Pure hypercholesterolem|                         Pure hypercholesterolemia|\n",
      "|     2859|      5295|              Anemia NOS|                               Anemia, unspecified|\n",
      "|     2449|      4785|      Hypothyroidism NOS|               Unspecified acquired hypothyroidism|\n",
      "|      486|      4732| Pneumonia, organism NOS|                   Pneumonia, organism unspecified|\n",
      "|     2851|      4499| Ac posthemorrhag anemia|                      Acute posthemorrhagic anemia|\n",
      "|     2762|      4358|                Acidosis|                                          Acidosis|\n",
      "|      496|      4296| Chr airway obstruct NEC|Chronic airway obstruction, not elsewhere class...|\n",
      "|    99592|      3792|           Severe sepsis|                                     Severe sepsis|\n",
      "|    V5861|      3697|Long-term use anticoagul|         Long-term (current) use of anticoagulants|\n",
      "|     5070|      3592|  Food/vomit pneumonitis|  Pneumonitis due to inhalation of food or vomitus|\n",
      "|     0389|      3580|          Septicemia NOS|                            Unspecified septicemia|\n",
      "|     5859|      3367|  Chronic kidney dis NOS|               Chronic kidney disease, unspecified|\n",
      "|    40390|      3350|Hy kid NOS w cr kid I-IV|Hypertensive chronic kidney disease, unspecifie...|\n",
      "|      311|      3347| Depressive disorder NEC|     Depressive disorder, not elsewhere classified|\n",
      "|     3051|      3272|    Tobacco use disorder|                              Tobacco use disorder|\n",
      "|      412|      3203|  Old myocardial infarct|                         Old myocardial infarction|\n",
      "|     2875|      3002|    Thrombocytopenia NOS|                     Thrombocytopenia, unspecified|\n",
      "|    41071|      3001|Subendo infarct, initial|Subendocardial infarction, initial episode of care|\n",
      "|     2761|      2985|           Hyposmolality|                 Hyposmolality and/or hyponatremia|\n",
      "|    V4581|      2943|    Aortocoronary bypass|                       Aortocoronary bypass status|\n",
      "|     4240|      2876|   Mitral valve disorder|                            Mitral valve disorders|\n",
      "|    V1582|      2741|  History of tobacco use|                   Personal history of tobacco use|\n",
      "|     5119|      2693|    Pleural effusion NOS|                      Unspecified pleural effusion|\n",
      "|    V4582|      2651|        Status-post ptca|Percutaneous transluminal coronary angioplasty ...|\n",
      "|    40391|      2566|  Hyp kid NOS w cr kid V|Hypertensive chronic kidney disease, unspecifie...|\n",
      "|     V290|      2529|  NB obsrv suspct infect|    Observation for suspected infectious condition|\n",
      "|     4241|      2517|   Aortic valve disorder|                            Aortic valve disorders|\n",
      "|    78552|      2501|            Septic shock|                                      Septic shock|\n",
      "|    V5867|      2497|Long-term use of insulin|                Long-term (current) use of insulin|\n",
      "|    42789|      2396|Cardiac dysrhythmias NEC|              Other specified cardiac dysrhythmias|\n",
      "|    32723|      2328| Obstructive sleep apnea|        Obstructive sleep apnea (adult)(pediatric)|\n",
      "|     9971|      2313|        Surg compl-heart|   Cardiac complications, not elsewhere classified|\n",
      "|     5845|      2223|Ac kidny fail, tubr necr|Acute kidney failure with lesion of tubular nec...|\n",
      "|     2760|      2221|         Hyperosmolality|              Hyperosmolality and/or hypernatremia|\n",
      "|     7742|      2183|Neonat jaund preterm del|Neonatal jaundice associated with preterm delivery|\n",
      "|     5180|      2137|      Pulmonary collapse|                                Pulmonary collapse|\n",
      "|     V053|      2119|Need prphyl vc vrl hepat|Need for prophylactic vaccination and inoculati...|\n",
      "|     4168|      2118|Chr pulmon heart dis NEC|            Other chronic pulmonary heart diseases|\n",
      "|    49390|      2113|              Asthma NOS|             Asthma, unspecified type, unspecified|\n",
      "|     2767|      2111|         Hyperpotassemia|                                   Hyperpotassemia|\n",
      "+---------+----------+------------------------+--------------------------------------------------+\n",
      "\n"
     ]
    }
   ],
   "source": [
    "spark.sql(\"\"\"\n",
    "SELECT a.icd9_code, hadm_count, SHORT_TITLE, LONG_TITLE FROM\n",
    "    (SELECT icd9_code, COUNT(DISTINCT hadm_id) AS hadm_count\n",
    "    FROM diagnoses_icd_m2\n",
    "    GROUP BY icd9_code\n",
    "    ORDER BY hadm_count DESC\n",
    "    LIMIT 50) AS a\n",
    "JOIN diagnoses_icd_desc\n",
    "ON diagnoses_icd_desc.ICD9_CODE = a.icd9_code\n",
    "\"\"\").show(n=50, truncate=50)"
   ]
  },
  {
   "cell_type": "code",
   "execution_count": 24,
   "metadata": {
    "collapsed": false,
    "deletable": true,
    "editable": true
   },
   "outputs": [
    {
     "data": {
      "text/plain": [
       "Name: org.apache.toree.interpreter.broker.BrokerException\n",
       "Message: null was reset!\n",
       "StackTrace: org.apache.toree.interpreter.broker.BrokerState$$anonfun$reset$1.apply(BrokerState.scala:191)\n",
       "org.apache.toree.interpreter.broker.BrokerState$$anonfun$reset$1.apply(BrokerState.scala:189)\n",
       "scala.collection.Iterator$class.foreach(Iterator.scala:893)\n",
       "scala.collection.AbstractIterator.foreach(Iterator.scala:1336)\n",
       "scala.collection.IterableLike$class.foreach(IterableLike.scala:72)\n",
       "scala.collection.AbstractIterable.foreach(Iterable.scala:54)\n",
       "org.apache.toree.interpreter.broker.BrokerState.reset(BrokerState.scala:189)\n",
       "org.apache.toree.kernel.interpreter.pyspark.PySparkService$$anonfun$pySparkProcess$2.apply(PySparkService.scala:63)\n",
       "org.apache.toree.kernel.interpreter.pyspark.PySparkService$$anonfun$pySparkProcess$2.apply(PySparkService.scala:61)\n",
       "org.apache.toree.interpreter.broker.BrokerProcessHandler.onProcessComplete(BrokerProcessHandler.scala:67)\n",
       "org.apache.commons.exec.DefaultExecutor$1.run(DefaultExecutor.java:201)\n",
       "java.lang.Thread.run(Thread.java:745)"
      ]
     },
     "execution_count": 24,
     "metadata": {},
     "output_type": "execute_result"
    }
   ],
   "source": [
    "#sc.stop()\n",
    "print \"Done!\""
   ]
  }
 ],
 "metadata": {
  "kernelspec": {
   "display_name": "Apache Toree - PySpark",
   "language": "python",
   "name": "apache_toree_pyspark"
  },
  "language_info": {
   "file_extension": ".py",
   "name": "python",
   "pygments_lexer": "python",
   "version": "2.7.13\n"
  }
 },
 "nbformat": 4,
 "nbformat_minor": 2
}
